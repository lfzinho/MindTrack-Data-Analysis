{
 "cells": [
  {
   "cell_type": "code",
   "execution_count": 44,
   "metadata": {},
   "outputs": [
    {
     "data": {
      "text/html": [
       "<div>\n",
       "<style scoped>\n",
       "    .dataframe tbody tr th:only-of-type {\n",
       "        vertical-align: middle;\n",
       "    }\n",
       "\n",
       "    .dataframe tbody tr th {\n",
       "        vertical-align: top;\n",
       "    }\n",
       "\n",
       "    .dataframe thead th {\n",
       "        text-align: right;\n",
       "    }\n",
       "</style>\n",
       "<table border=\"1\" class=\"dataframe\">\n",
       "  <thead>\n",
       "    <tr style=\"text-align: right;\">\n",
       "      <th></th>\n",
       "      <th>coordenacao</th>\n",
       "      <th>percepcao</th>\n",
       "      <th>repetiu</th>\n",
       "      <th>atencao</th>\n",
       "      <th>memoria</th>\n",
       "      <th>raciocinio</th>\n",
       "      <th>sono</th>\n",
       "      <th>exercicio</th>\n",
       "      <th>dia</th>\n",
       "      <th>sentimento</th>\n",
       "      <th>...</th>\n",
       "      <th>curso</th>\n",
       "      <th>sexo</th>\n",
       "      <th>experience</th>\n",
       "      <th>turma</th>\n",
       "      <th>region</th>\n",
       "      <th>best_raciocinio</th>\n",
       "      <th>best_memoria</th>\n",
       "      <th>best_atencao</th>\n",
       "      <th>best_coordenacao</th>\n",
       "      <th>best_percepcao</th>\n",
       "    </tr>\n",
       "    <tr>\n",
       "      <th>email</th>\n",
       "      <th></th>\n",
       "      <th></th>\n",
       "      <th></th>\n",
       "      <th></th>\n",
       "      <th></th>\n",
       "      <th></th>\n",
       "      <th></th>\n",
       "      <th></th>\n",
       "      <th></th>\n",
       "      <th></th>\n",
       "      <th></th>\n",
       "      <th></th>\n",
       "      <th></th>\n",
       "      <th></th>\n",
       "      <th></th>\n",
       "      <th></th>\n",
       "      <th></th>\n",
       "      <th></th>\n",
       "      <th></th>\n",
       "      <th></th>\n",
       "      <th></th>\n",
       "    </tr>\n",
       "  </thead>\n",
       "  <tbody>\n",
       "    <tr>\n",
       "      <th>adrian@maildrop.cc</th>\n",
       "      <td>19.2</td>\n",
       "      <td>24.2</td>\n",
       "      <td>True</td>\n",
       "      <td>36.0</td>\n",
       "      <td>21.0</td>\n",
       "      <td>12.0</td>\n",
       "      <td>≤6</td>\n",
       "      <td>0x</td>\n",
       "      <td>2023-06-14 18:26:58+00:00</td>\n",
       "      <td>Neutro</td>\n",
       "      <td>...</td>\n",
       "      <td>1.0</td>\n",
       "      <td>0.0</td>\n",
       "      <td>2.0</td>\n",
       "      <td>0.0</td>\n",
       "      <td>16</td>\n",
       "      <td>12.0</td>\n",
       "      <td>21.0</td>\n",
       "      <td>36.0</td>\n",
       "      <td>19.2</td>\n",
       "      <td>24.2</td>\n",
       "    </tr>\n",
       "    <tr>\n",
       "      <th>ana@maildrop.cc</th>\n",
       "      <td>7.4</td>\n",
       "      <td>29.7</td>\n",
       "      <td>True</td>\n",
       "      <td>7.0</td>\n",
       "      <td>40.0</td>\n",
       "      <td>15.0</td>\n",
       "      <td>7</td>\n",
       "      <td>3x</td>\n",
       "      <td>2023-06-14 17:44:00+00:00</td>\n",
       "      <td>Neutro</td>\n",
       "      <td>...</td>\n",
       "      <td>0.0</td>\n",
       "      <td>1.0</td>\n",
       "      <td>2.0</td>\n",
       "      <td>0.0</td>\n",
       "      <td>12</td>\n",
       "      <td>15.0</td>\n",
       "      <td>40.0</td>\n",
       "      <td>7.0</td>\n",
       "      <td>7.4</td>\n",
       "      <td>29.7</td>\n",
       "    </tr>\n",
       "    <tr>\n",
       "      <th>arubatu_ainshutain@maildrop.cc</th>\n",
       "      <td>49.4</td>\n",
       "      <td>98.1</td>\n",
       "      <td>True</td>\n",
       "      <td>64.0</td>\n",
       "      <td>29.0</td>\n",
       "      <td>21.0</td>\n",
       "      <td>≤6</td>\n",
       "      <td>≥4x</td>\n",
       "      <td>2023-06-13 23:39:58+00:00</td>\n",
       "      <td>Triste</td>\n",
       "      <td>...</td>\n",
       "      <td>0.0</td>\n",
       "      <td>0.0</td>\n",
       "      <td>2.0</td>\n",
       "      <td>0.0</td>\n",
       "      <td>15</td>\n",
       "      <td>21.0</td>\n",
       "      <td>29.0</td>\n",
       "      <td>64.0</td>\n",
       "      <td>49.4</td>\n",
       "      <td>98.1</td>\n",
       "    </tr>\n",
       "    <tr>\n",
       "      <th>bissiatti@maildrop.cc</th>\n",
       "      <td>30.3</td>\n",
       "      <td>48.9</td>\n",
       "      <td>True</td>\n",
       "      <td>7.0</td>\n",
       "      <td>18.0</td>\n",
       "      <td>7.0</td>\n",
       "      <td>7</td>\n",
       "      <td>1x</td>\n",
       "      <td>2023-06-12 10:08:28+00:00</td>\n",
       "      <td>Feliz</td>\n",
       "      <td>...</td>\n",
       "      <td>0.0</td>\n",
       "      <td>0.0</td>\n",
       "      <td>4.0</td>\n",
       "      <td>1.0</td>\n",
       "      <td>0</td>\n",
       "      <td>7.0</td>\n",
       "      <td>18.0</td>\n",
       "      <td>7.0</td>\n",
       "      <td>30.3</td>\n",
       "      <td>48.9</td>\n",
       "    </tr>\n",
       "    <tr>\n",
       "      <th>bruno_fornaro@maildrop.cc</th>\n",
       "      <td>44.4</td>\n",
       "      <td>60.8</td>\n",
       "      <td>True</td>\n",
       "      <td>30.0</td>\n",
       "      <td>38.0</td>\n",
       "      <td>18.0</td>\n",
       "      <td>8</td>\n",
       "      <td>3x</td>\n",
       "      <td>2023-06-08 23:23:27+00:00</td>\n",
       "      <td>Irritado</td>\n",
       "      <td>...</td>\n",
       "      <td>0.0</td>\n",
       "      <td>0.0</td>\n",
       "      <td>2.0</td>\n",
       "      <td>1.0</td>\n",
       "      <td>24</td>\n",
       "      <td>18.0</td>\n",
       "      <td>38.0</td>\n",
       "      <td>30.0</td>\n",
       "      <td>44.4</td>\n",
       "      <td>60.8</td>\n",
       "    </tr>\n",
       "  </tbody>\n",
       "</table>\n",
       "<p>5 rows × 23 columns</p>\n",
       "</div>"
      ],
      "text/plain": [
       "                                coordenacao  percepcao repetiu  atencao  \\\n",
       "email                                                                     \n",
       "adrian@maildrop.cc                     19.2       24.2    True     36.0   \n",
       "ana@maildrop.cc                         7.4       29.7    True      7.0   \n",
       "arubatu_ainshutain@maildrop.cc         49.4       98.1    True     64.0   \n",
       "bissiatti@maildrop.cc                  30.3       48.9    True      7.0   \n",
       "bruno_fornaro@maildrop.cc              44.4       60.8    True     30.0   \n",
       "\n",
       "                                memoria  raciocinio sono exercicio  \\\n",
       "email                                                                \n",
       "adrian@maildrop.cc                 21.0        12.0   ≤6        0x   \n",
       "ana@maildrop.cc                    40.0        15.0    7        3x   \n",
       "arubatu_ainshutain@maildrop.cc     29.0        21.0   ≤6      ≥4x    \n",
       "bissiatti@maildrop.cc              18.0         7.0    7        1x   \n",
       "bruno_fornaro@maildrop.cc          38.0        18.0    8        3x   \n",
       "\n",
       "                                                     dia sentimento  ...  \\\n",
       "email                                                                ...   \n",
       "adrian@maildrop.cc             2023-06-14 18:26:58+00:00     Neutro  ...   \n",
       "ana@maildrop.cc                2023-06-14 17:44:00+00:00     Neutro  ...   \n",
       "arubatu_ainshutain@maildrop.cc 2023-06-13 23:39:58+00:00     Triste  ...   \n",
       "bissiatti@maildrop.cc          2023-06-12 10:08:28+00:00      Feliz  ...   \n",
       "bruno_fornaro@maildrop.cc      2023-06-08 23:23:27+00:00   Irritado  ...   \n",
       "\n",
       "                                curso  sexo  experience  turma  region  \\\n",
       "email                                                                    \n",
       "adrian@maildrop.cc                1.0   0.0         2.0    0.0      16   \n",
       "ana@maildrop.cc                   0.0   1.0         2.0    0.0      12   \n",
       "arubatu_ainshutain@maildrop.cc    0.0   0.0         2.0    0.0      15   \n",
       "bissiatti@maildrop.cc             0.0   0.0         4.0    1.0       0   \n",
       "bruno_fornaro@maildrop.cc         0.0   0.0         2.0    1.0      24   \n",
       "\n",
       "                                best_raciocinio  best_memoria best_atencao  \\\n",
       "email                                                                        \n",
       "adrian@maildrop.cc                         12.0          21.0         36.0   \n",
       "ana@maildrop.cc                            15.0          40.0          7.0   \n",
       "arubatu_ainshutain@maildrop.cc             21.0          29.0         64.0   \n",
       "bissiatti@maildrop.cc                       7.0          18.0          7.0   \n",
       "bruno_fornaro@maildrop.cc                  18.0          38.0         30.0   \n",
       "\n",
       "                                best_coordenacao  best_percepcao  \n",
       "email                                                             \n",
       "adrian@maildrop.cc                          19.2            24.2  \n",
       "ana@maildrop.cc                              7.4            29.7  \n",
       "arubatu_ainshutain@maildrop.cc              49.4            98.1  \n",
       "bissiatti@maildrop.cc                       30.3            48.9  \n",
       "bruno_fornaro@maildrop.cc                   44.4            60.8  \n",
       "\n",
       "[5 rows x 23 columns]"
      ]
     },
     "execution_count": 44,
     "metadata": {},
     "output_type": "execute_result"
    }
   ],
   "source": [
    "import numpy as np\n",
    "import pandas as pd\n",
    "import plotly.express as px\n",
    "import plotly.graph_objects as go\n",
    "import plotly.figure_factory as ff\n",
    "from statsmodels.stats.diagnostic import kstest_normal\n",
    "import statsmodels as sm\n",
    "import statsmodels.formula.api as smf\n",
    "\n",
    "# My script to get data from database\n",
    "from data_getter_script import get_games, get_users, convert_to_pandas, convert_to_pandas_users\n",
    "\n",
    "games = get_games()\n",
    "df_games = convert_to_pandas(games)\n",
    "users = get_users()\n",
    "df_users = convert_to_pandas_users(users)\n",
    "\n",
    "df = pd.merge(df_games, df_users, on=\"email\", how='outer')\n",
    "\n",
    "# Show dataframe\n",
    "df.head()"
   ]
  },
  {
   "cell_type": "code",
   "execution_count": 45,
   "metadata": {},
   "outputs": [],
   "source": [
    "# Defines global constant\n",
    "GAMES = ['Atenção', 'Coordenação', 'Memória', 'Percepção', 'Raciocínio']"
   ]
  },
  {
   "attachments": {},
   "cell_type": "markdown",
   "metadata": {},
   "source": [
    "# Limpando a base"
   ]
  },
  {
   "cell_type": "code",
   "execution_count": 46,
   "metadata": {},
   "outputs": [
    {
     "data": {
      "text/plain": [
       "(64, 24)"
      ]
     },
     "execution_count": 46,
     "metadata": {},
     "output_type": "execute_result"
    }
   ],
   "source": [
    "# Delete rows with best_atencao as NaN (aka, users that didn't play the game)\n",
    "df = df.dropna(subset=['best_atencao'])\n",
    "df = df.reset_index()\n",
    "\n",
    "df = df.rename(columns={\n",
    "    'atencao': 'Atenção',\n",
    "    'coordenacao': 'Coordenação',\n",
    "    'memoria': 'Memória',\n",
    "    'percepcao': 'Percepção',\n",
    "    'raciocinio': 'Raciocínio'\n",
    "})\n",
    "\n",
    "df.shape"
   ]
  },
  {
   "attachments": {},
   "cell_type": "markdown",
   "metadata": {},
   "source": [
    "# Existe correlação de desempenho entre os jogos?"
   ]
  },
  {
   "cell_type": "code",
   "execution_count": 47,
   "metadata": {},
   "outputs": [
    {
     "data": {
      "application/vnd.plotly.v1+json": {
       "config": {
        "plotlyServerURL": "https://plot.ly"
       },
       "data": [
        {
         "customdata": [
          [
           "adrian@maildrop.cc"
          ],
          [
           "ana@maildrop.cc"
          ],
          [
           "arubatu_ainshutain@maildrop.cc"
          ],
          [
           "bissiatti@maildrop.cc"
          ],
          [
           "bruno_fornaro@maildrop.cc"
          ],
          [
           "bryan@maildrop.cc"
          ],
          [
           "caio@maildrop.cc"
          ],
          [
           "cristini_zilio@maildrop.cc"
          ],
          [
           "dwctor@maildrop.cc"
          ],
          [
           "fabrício@maildrop.cc"
          ],
          [
           "falqueto@maildrop.cc"
          ],
          [
           "falqueto@maildrop.cc"
          ],
          [
           "falqueto@maildrop.cc"
          ],
          [
           "futtoutou@maildrop.cc"
          ],
          [
           "giovani@maildrop.cc"
          ],
          [
           "guilherme@maildrop.cc"
          ],
          [
           "gustavo@maildrop.cc"
          ],
          [
           "gustavo@maildrop.cc"
          ],
          [
           "iara@maildrop.cc"
          ],
          [
           "iodien@maildrop.cc"
          ],
          [
           "j@maildrop.cc"
          ],
          [
           "jairon_noia@maildrop.cc"
          ],
          [
           "jotta@maildrop.cc"
          ],
          [
           "jotta@maildrop.cc"
          ],
          [
           "jotta@maildrop.cc"
          ],
          [
           "laguardia42@maildrop.cc"
          ],
          [
           "laguardia42@maildrop.cc"
          ],
          [
           "laguardia42@maildrop.cc"
          ],
          [
           "laguardia42@maildrop.cc"
          ],
          [
           "laguardia42@maildrop.cc"
          ],
          [
           "laguardia42@maildrop.cc"
          ],
          [
           "laguardia42@maildrop.cc"
          ],
          [
           "levy@maildrop.cc"
          ],
          [
           "luca_escopelli@maildrop.cc"
          ],
          [
           "ludmila@maildrop.cc"
          ],
          [
           "martelo@maildrop.cc"
          ],
          [
           "nicole@maildrop.cc"
          ],
          [
           "pp@maildrop.cc"
          ],
          [
           "pedroguinha@maildrop.cc"
          ],
          [
           "quaid@maildrop.cc"
          ],
          [
           "rafafa@maildrop.cc"
          ],
          [
           "shai@maildrop.cc"
          ],
          [
           "sharon@maildrop.cc"
          ],
          [
           "sillas@maildrop.cc"
          ],
          [
           "tokar@maildrop.cc"
          ],
          [
           "usaiplimplim@maildrop.cc"
          ],
          [
           "usuário@maildrop.cc"
          ],
          [
           "vinícius_de_moraes@maildrop.cc"
          ],
          [
           "zandremg@maildrop.cc"
          ],
          [
           "zero@maildrop.cc"
          ],
          [
           "carol@maildrop.cc"
          ],
          [
           "dinho123@maildrop.cc"
          ],
          [
           "felipponn@maildrop.cc"
          ],
          [
           "iloveseventeen@maildrop.cc"
          ],
          [
           "julinha@maildrop.cc"
          ],
          [
           "llererdvcxrftezafxq@maildrop.cc"
          ],
          [
           "luna_pereira@maildrop.cc"
          ],
          [
           "marci@maildrop.cc"
          ],
          [
           "venice@maildrop.cc"
          ],
          [
           "violetta@maildrop.cc"
          ],
          [
           "xy@maildrop.cc"
          ],
          [
           "barrrafas@maildrop.cc"
          ],
          [
           "outramaisa@maildrop.cc"
          ],
          [
           "pintucci@maildrop.cc"
          ]
         ],
         "diagonal": {
          "visible": false
         },
         "dimensions": [
          {
           "axis": {
            "matches": true
           },
           "label": "Atenção",
           "values": [
            36,
            7,
            64,
            7,
            30,
            7,
            27,
            57,
            48,
            20,
            51,
            61,
            62,
            19,
            0,
            55,
            14,
            14,
            60,
            17,
            10,
            48,
            66,
            49,
            58,
            57,
            58,
            58,
            58,
            63,
            63,
            61,
            48,
            29,
            57,
            65,
            15,
            28,
            0,
            7,
            68,
            42,
            53,
            50,
            40,
            62,
            65,
            42,
            65,
            12,
            45,
            12,
            14,
            22,
            55,
            41,
            23,
            34,
            52,
            0,
            26,
            null,
            null,
            null
           ]
          },
          {
           "axis": {
            "matches": true
           },
           "label": "Coordenação",
           "values": [
            19.2,
            7.4,
            49.4,
            30.3,
            44.4,
            25.5,
            14.7,
            1.9,
            51,
            24.5,
            35.7,
            40.5,
            65,
            47.5,
            12.2,
            34.3,
            14.4,
            14.4,
            51,
            42.8,
            28.8,
            26.1,
            46,
            40,
            41.5,
            62.7,
            71,
            74,
            49.9,
            57,
            75.4,
            59.3,
            49,
            24.9,
            41.7,
            52,
            34.9,
            52.9,
            39,
            28.3,
            43.9,
            3.9,
            7.2,
            49.3,
            57.9,
            47.8,
            36,
            31.4,
            71,
            0,
            47.3,
            42,
            21.7,
            19.6,
            34.2,
            53,
            42.8,
            26.8,
            55,
            61.4,
            13.5,
            null,
            null,
            null
           ]
          },
          {
           "axis": {
            "matches": true
           },
           "label": "Memória",
           "values": [
            21,
            40,
            29,
            18,
            38,
            17,
            29,
            36,
            23,
            28,
            51,
            56,
            72,
            25,
            1,
            17,
            33,
            33,
            15,
            32,
            28,
            40,
            34,
            37,
            33,
            38,
            51,
            56,
            68,
            67,
            39,
            63,
            30,
            46,
            16,
            24,
            42,
            27,
            10,
            40,
            22,
            9,
            25,
            32,
            58,
            26,
            34,
            33,
            51,
            15,
            30,
            25,
            40,
            23,
            38,
            32,
            32,
            7,
            29,
            50,
            28,
            null,
            null,
            null
           ]
          },
          {
           "axis": {
            "matches": true
           },
           "label": "Percepção",
           "values": [
            24.2,
            29.7,
            98.1,
            48.9,
            60.8,
            55.3,
            35.7,
            17.5,
            49.5,
            30.9,
            43,
            42.9,
            98.4,
            105.3,
            0,
            60.6,
            54.8,
            54.8,
            36.1,
            53.2,
            11.9,
            66.7,
            121.1,
            91.5,
            85.5,
            60.802119,
            80.5,
            86.4,
            104.7,
            55,
            55,
            93,
            29.9,
            35.1,
            60.6,
            55.3,
            18.4,
            37.1,
            78.8,
            37.4,
            86.5,
            23.8,
            48.7,
            66.3,
            24.8,
            56.8,
            24.4,
            42.7,
            49.5,
            18.4,
            79.4,
            59.9,
            17.9,
            30.1,
            54.3,
            86.8,
            35.4,
            22.5,
            36.1,
            31.2,
            36.1,
            null,
            null,
            null
           ]
          },
          {
           "axis": {
            "matches": true
           },
           "label": "Raciocínio",
           "values": [
            12,
            15,
            21,
            7,
            18,
            3,
            4,
            7,
            17,
            12,
            4,
            37,
            37,
            10,
            0,
            11,
            26,
            26,
            27,
            28,
            5,
            25,
            29,
            34,
            30,
            7,
            18,
            19,
            29,
            26,
            35,
            21,
            18,
            23,
            23,
            20,
            4,
            13,
            11,
            10,
            22,
            12,
            5,
            13,
            11,
            5,
            9,
            3,
            22,
            2,
            16,
            3,
            30,
            5,
            5,
            2,
            28,
            5,
            5,
            29,
            31,
            null,
            null,
            null
           ]
          }
         ],
         "hovertemplate": "%{xaxis.title.text}=%{x}<br>%{yaxis.title.text}=%{y}<br>email=%{customdata[0]}<extra></extra>",
         "legendgroup": "",
         "marker": {
          "color": "#636efa",
          "symbol": "circle"
         },
         "name": "",
         "showlegend": false,
         "showupperhalf": false,
         "type": "splom"
        }
       ],
       "layout": {
        "dragmode": "select",
        "font": {
         "size": 18
        },
        "height": 1000,
        "legend": {
         "tracegroupgap": 0
        },
        "template": {
         "data": {
          "bar": [
           {
            "error_x": {
             "color": "#2a3f5f"
            },
            "error_y": {
             "color": "#2a3f5f"
            },
            "marker": {
             "line": {
              "color": "#E5ECF6",
              "width": 0.5
             },
             "pattern": {
              "fillmode": "overlay",
              "size": 10,
              "solidity": 0.2
             }
            },
            "type": "bar"
           }
          ],
          "barpolar": [
           {
            "marker": {
             "line": {
              "color": "#E5ECF6",
              "width": 0.5
             },
             "pattern": {
              "fillmode": "overlay",
              "size": 10,
              "solidity": 0.2
             }
            },
            "type": "barpolar"
           }
          ],
          "carpet": [
           {
            "aaxis": {
             "endlinecolor": "#2a3f5f",
             "gridcolor": "white",
             "linecolor": "white",
             "minorgridcolor": "white",
             "startlinecolor": "#2a3f5f"
            },
            "baxis": {
             "endlinecolor": "#2a3f5f",
             "gridcolor": "white",
             "linecolor": "white",
             "minorgridcolor": "white",
             "startlinecolor": "#2a3f5f"
            },
            "type": "carpet"
           }
          ],
          "choropleth": [
           {
            "colorbar": {
             "outlinewidth": 0,
             "ticks": ""
            },
            "type": "choropleth"
           }
          ],
          "contour": [
           {
            "colorbar": {
             "outlinewidth": 0,
             "ticks": ""
            },
            "colorscale": [
             [
              0,
              "#0d0887"
             ],
             [
              0.1111111111111111,
              "#46039f"
             ],
             [
              0.2222222222222222,
              "#7201a8"
             ],
             [
              0.3333333333333333,
              "#9c179e"
             ],
             [
              0.4444444444444444,
              "#bd3786"
             ],
             [
              0.5555555555555556,
              "#d8576b"
             ],
             [
              0.6666666666666666,
              "#ed7953"
             ],
             [
              0.7777777777777778,
              "#fb9f3a"
             ],
             [
              0.8888888888888888,
              "#fdca26"
             ],
             [
              1,
              "#f0f921"
             ]
            ],
            "type": "contour"
           }
          ],
          "contourcarpet": [
           {
            "colorbar": {
             "outlinewidth": 0,
             "ticks": ""
            },
            "type": "contourcarpet"
           }
          ],
          "heatmap": [
           {
            "colorbar": {
             "outlinewidth": 0,
             "ticks": ""
            },
            "colorscale": [
             [
              0,
              "#0d0887"
             ],
             [
              0.1111111111111111,
              "#46039f"
             ],
             [
              0.2222222222222222,
              "#7201a8"
             ],
             [
              0.3333333333333333,
              "#9c179e"
             ],
             [
              0.4444444444444444,
              "#bd3786"
             ],
             [
              0.5555555555555556,
              "#d8576b"
             ],
             [
              0.6666666666666666,
              "#ed7953"
             ],
             [
              0.7777777777777778,
              "#fb9f3a"
             ],
             [
              0.8888888888888888,
              "#fdca26"
             ],
             [
              1,
              "#f0f921"
             ]
            ],
            "type": "heatmap"
           }
          ],
          "heatmapgl": [
           {
            "colorbar": {
             "outlinewidth": 0,
             "ticks": ""
            },
            "colorscale": [
             [
              0,
              "#0d0887"
             ],
             [
              0.1111111111111111,
              "#46039f"
             ],
             [
              0.2222222222222222,
              "#7201a8"
             ],
             [
              0.3333333333333333,
              "#9c179e"
             ],
             [
              0.4444444444444444,
              "#bd3786"
             ],
             [
              0.5555555555555556,
              "#d8576b"
             ],
             [
              0.6666666666666666,
              "#ed7953"
             ],
             [
              0.7777777777777778,
              "#fb9f3a"
             ],
             [
              0.8888888888888888,
              "#fdca26"
             ],
             [
              1,
              "#f0f921"
             ]
            ],
            "type": "heatmapgl"
           }
          ],
          "histogram": [
           {
            "marker": {
             "pattern": {
              "fillmode": "overlay",
              "size": 10,
              "solidity": 0.2
             }
            },
            "type": "histogram"
           }
          ],
          "histogram2d": [
           {
            "colorbar": {
             "outlinewidth": 0,
             "ticks": ""
            },
            "colorscale": [
             [
              0,
              "#0d0887"
             ],
             [
              0.1111111111111111,
              "#46039f"
             ],
             [
              0.2222222222222222,
              "#7201a8"
             ],
             [
              0.3333333333333333,
              "#9c179e"
             ],
             [
              0.4444444444444444,
              "#bd3786"
             ],
             [
              0.5555555555555556,
              "#d8576b"
             ],
             [
              0.6666666666666666,
              "#ed7953"
             ],
             [
              0.7777777777777778,
              "#fb9f3a"
             ],
             [
              0.8888888888888888,
              "#fdca26"
             ],
             [
              1,
              "#f0f921"
             ]
            ],
            "type": "histogram2d"
           }
          ],
          "histogram2dcontour": [
           {
            "colorbar": {
             "outlinewidth": 0,
             "ticks": ""
            },
            "colorscale": [
             [
              0,
              "#0d0887"
             ],
             [
              0.1111111111111111,
              "#46039f"
             ],
             [
              0.2222222222222222,
              "#7201a8"
             ],
             [
              0.3333333333333333,
              "#9c179e"
             ],
             [
              0.4444444444444444,
              "#bd3786"
             ],
             [
              0.5555555555555556,
              "#d8576b"
             ],
             [
              0.6666666666666666,
              "#ed7953"
             ],
             [
              0.7777777777777778,
              "#fb9f3a"
             ],
             [
              0.8888888888888888,
              "#fdca26"
             ],
             [
              1,
              "#f0f921"
             ]
            ],
            "type": "histogram2dcontour"
           }
          ],
          "mesh3d": [
           {
            "colorbar": {
             "outlinewidth": 0,
             "ticks": ""
            },
            "type": "mesh3d"
           }
          ],
          "parcoords": [
           {
            "line": {
             "colorbar": {
              "outlinewidth": 0,
              "ticks": ""
             }
            },
            "type": "parcoords"
           }
          ],
          "pie": [
           {
            "automargin": true,
            "type": "pie"
           }
          ],
          "scatter": [
           {
            "fillpattern": {
             "fillmode": "overlay",
             "size": 10,
             "solidity": 0.2
            },
            "type": "scatter"
           }
          ],
          "scatter3d": [
           {
            "line": {
             "colorbar": {
              "outlinewidth": 0,
              "ticks": ""
             }
            },
            "marker": {
             "colorbar": {
              "outlinewidth": 0,
              "ticks": ""
             }
            },
            "type": "scatter3d"
           }
          ],
          "scattercarpet": [
           {
            "marker": {
             "colorbar": {
              "outlinewidth": 0,
              "ticks": ""
             }
            },
            "type": "scattercarpet"
           }
          ],
          "scattergeo": [
           {
            "marker": {
             "colorbar": {
              "outlinewidth": 0,
              "ticks": ""
             }
            },
            "type": "scattergeo"
           }
          ],
          "scattergl": [
           {
            "marker": {
             "colorbar": {
              "outlinewidth": 0,
              "ticks": ""
             }
            },
            "type": "scattergl"
           }
          ],
          "scattermapbox": [
           {
            "marker": {
             "colorbar": {
              "outlinewidth": 0,
              "ticks": ""
             }
            },
            "type": "scattermapbox"
           }
          ],
          "scatterpolar": [
           {
            "marker": {
             "colorbar": {
              "outlinewidth": 0,
              "ticks": ""
             }
            },
            "type": "scatterpolar"
           }
          ],
          "scatterpolargl": [
           {
            "marker": {
             "colorbar": {
              "outlinewidth": 0,
              "ticks": ""
             }
            },
            "type": "scatterpolargl"
           }
          ],
          "scatterternary": [
           {
            "marker": {
             "colorbar": {
              "outlinewidth": 0,
              "ticks": ""
             }
            },
            "type": "scatterternary"
           }
          ],
          "surface": [
           {
            "colorbar": {
             "outlinewidth": 0,
             "ticks": ""
            },
            "colorscale": [
             [
              0,
              "#0d0887"
             ],
             [
              0.1111111111111111,
              "#46039f"
             ],
             [
              0.2222222222222222,
              "#7201a8"
             ],
             [
              0.3333333333333333,
              "#9c179e"
             ],
             [
              0.4444444444444444,
              "#bd3786"
             ],
             [
              0.5555555555555556,
              "#d8576b"
             ],
             [
              0.6666666666666666,
              "#ed7953"
             ],
             [
              0.7777777777777778,
              "#fb9f3a"
             ],
             [
              0.8888888888888888,
              "#fdca26"
             ],
             [
              1,
              "#f0f921"
             ]
            ],
            "type": "surface"
           }
          ],
          "table": [
           {
            "cells": {
             "fill": {
              "color": "#EBF0F8"
             },
             "line": {
              "color": "white"
             }
            },
            "header": {
             "fill": {
              "color": "#C8D4E3"
             },
             "line": {
              "color": "white"
             }
            },
            "type": "table"
           }
          ]
         },
         "layout": {
          "annotationdefaults": {
           "arrowcolor": "#2a3f5f",
           "arrowhead": 0,
           "arrowwidth": 1
          },
          "autotypenumbers": "strict",
          "coloraxis": {
           "colorbar": {
            "outlinewidth": 0,
            "ticks": ""
           }
          },
          "colorscale": {
           "diverging": [
            [
             0,
             "#8e0152"
            ],
            [
             0.1,
             "#c51b7d"
            ],
            [
             0.2,
             "#de77ae"
            ],
            [
             0.3,
             "#f1b6da"
            ],
            [
             0.4,
             "#fde0ef"
            ],
            [
             0.5,
             "#f7f7f7"
            ],
            [
             0.6,
             "#e6f5d0"
            ],
            [
             0.7,
             "#b8e186"
            ],
            [
             0.8,
             "#7fbc41"
            ],
            [
             0.9,
             "#4d9221"
            ],
            [
             1,
             "#276419"
            ]
           ],
           "sequential": [
            [
             0,
             "#0d0887"
            ],
            [
             0.1111111111111111,
             "#46039f"
            ],
            [
             0.2222222222222222,
             "#7201a8"
            ],
            [
             0.3333333333333333,
             "#9c179e"
            ],
            [
             0.4444444444444444,
             "#bd3786"
            ],
            [
             0.5555555555555556,
             "#d8576b"
            ],
            [
             0.6666666666666666,
             "#ed7953"
            ],
            [
             0.7777777777777778,
             "#fb9f3a"
            ],
            [
             0.8888888888888888,
             "#fdca26"
            ],
            [
             1,
             "#f0f921"
            ]
           ],
           "sequentialminus": [
            [
             0,
             "#0d0887"
            ],
            [
             0.1111111111111111,
             "#46039f"
            ],
            [
             0.2222222222222222,
             "#7201a8"
            ],
            [
             0.3333333333333333,
             "#9c179e"
            ],
            [
             0.4444444444444444,
             "#bd3786"
            ],
            [
             0.5555555555555556,
             "#d8576b"
            ],
            [
             0.6666666666666666,
             "#ed7953"
            ],
            [
             0.7777777777777778,
             "#fb9f3a"
            ],
            [
             0.8888888888888888,
             "#fdca26"
            ],
            [
             1,
             "#f0f921"
            ]
           ]
          },
          "colorway": [
           "#636efa",
           "#EF553B",
           "#00cc96",
           "#ab63fa",
           "#FFA15A",
           "#19d3f3",
           "#FF6692",
           "#B6E880",
           "#FF97FF",
           "#FECB52"
          ],
          "font": {
           "color": "#2a3f5f"
          },
          "geo": {
           "bgcolor": "white",
           "lakecolor": "white",
           "landcolor": "#E5ECF6",
           "showlakes": true,
           "showland": true,
           "subunitcolor": "white"
          },
          "hoverlabel": {
           "align": "left"
          },
          "hovermode": "closest",
          "mapbox": {
           "style": "light"
          },
          "paper_bgcolor": "white",
          "plot_bgcolor": "#E5ECF6",
          "polar": {
           "angularaxis": {
            "gridcolor": "white",
            "linecolor": "white",
            "ticks": ""
           },
           "bgcolor": "#E5ECF6",
           "radialaxis": {
            "gridcolor": "white",
            "linecolor": "white",
            "ticks": ""
           }
          },
          "scene": {
           "xaxis": {
            "backgroundcolor": "#E5ECF6",
            "gridcolor": "white",
            "gridwidth": 2,
            "linecolor": "white",
            "showbackground": true,
            "ticks": "",
            "zerolinecolor": "white"
           },
           "yaxis": {
            "backgroundcolor": "#E5ECF6",
            "gridcolor": "white",
            "gridwidth": 2,
            "linecolor": "white",
            "showbackground": true,
            "ticks": "",
            "zerolinecolor": "white"
           },
           "zaxis": {
            "backgroundcolor": "#E5ECF6",
            "gridcolor": "white",
            "gridwidth": 2,
            "linecolor": "white",
            "showbackground": true,
            "ticks": "",
            "zerolinecolor": "white"
           }
          },
          "shapedefaults": {
           "line": {
            "color": "#2a3f5f"
           }
          },
          "ternary": {
           "aaxis": {
            "gridcolor": "white",
            "linecolor": "white",
            "ticks": ""
           },
           "baxis": {
            "gridcolor": "white",
            "linecolor": "white",
            "ticks": ""
           },
           "bgcolor": "#E5ECF6",
           "caxis": {
            "gridcolor": "white",
            "linecolor": "white",
            "ticks": ""
           }
          },
          "title": {
           "x": 0.05
          },
          "xaxis": {
           "automargin": true,
           "gridcolor": "white",
           "linecolor": "white",
           "ticks": "",
           "title": {
            "standoff": 15
           },
           "zerolinecolor": "white",
           "zerolinewidth": 2
          },
          "yaxis": {
           "automargin": true,
           "gridcolor": "white",
           "linecolor": "white",
           "ticks": "",
           "title": {
            "standoff": 15
           },
           "zerolinecolor": "white",
           "zerolinewidth": 2
          }
         }
        },
        "title": {
         "text": "Matriz de dispersão entre os jogos"
        },
        "width": 1000
       }
      }
     },
     "metadata": {},
     "output_type": "display_data"
    }
   ],
   "source": [
    "fig = px.scatter_matrix(df, dimensions=GAMES,\n",
    "                  hover_data=['email'],\n",
    "                  color_continuous_scale='matter',\n",
    "                  title='Matriz de dispersão entre os jogos')\n",
    "\n",
    "fig.update_traces(diagonal_visible=False, showupperhalf=False)\n",
    "fig.update_layout(\n",
    "    width=1000,\n",
    "    height=1000,\n",
    "    font=dict(\n",
    "        size=18\n",
    "    ),\n",
    ")"
   ]
  },
  {
   "cell_type": "code",
   "execution_count": 48,
   "metadata": {},
   "outputs": [
    {
     "name": "stdout",
     "output_type": "stream",
     "text": [
      "Atenção  &  Coordenação  &  0.2409  &  15.1599  \\\\ \n",
      "Atenção  &  Memória  &  0.1122  &  17.5977  \\\\ \n",
      "Atenção  &  Percepção  &  0.1902  &  16.2106  \\\\ \n",
      "Atenção  &  Raciocínio  &  0.0847  &  18.0289  \\\\ \n",
      "Coordenação  &  Memória  &  0.2276  &  13.8147  \\\\ \n",
      "Coordenação  &  Percepção  &  0.2596  &  13.0211  \\\\ \n",
      "Coordenação  &  Raciocínio  &  0.1118  &  14.1125  \\\\ \n",
      "Memória  &  Percepção  &  0.0885  &  11.5138  \\\\ \n",
      "Memória  &  Raciocínio  &  0.2024  &  10.8935  \\\\ \n",
      "Percepção  &  Raciocínio  &  0.1389  &  20.801  \\\\ \n"
     ]
    }
   ],
   "source": [
    "for i in range(len(GAMES)):\n",
    "    for j in range(i+1, len(GAMES)):\n",
    "        model = smf.ols(formula=GAMES[i]+' ~ '+GAMES[j], data=df)\n",
    "        results = model.fit()\n",
    "\n",
    "        print(GAMES[i], ' & ', GAMES[j], ' & ', end='')\n",
    "        # print('Slope: $', round(results.params[1], 4), '\\pm', round(results.conf_int()[1].values[1] - results.params[1], 2), '$')\n",
    "        # print('Slope confidence interval 95%: ', results.conf_int()[0].values[1], ', ', results.conf_int()[1].values[1])\n",
    "        # print('interval size: ', round(results.conf_int()[1].values[1] - results.params[1], 2))\n",
    "        print('', round(results.rsquared, 4), ' & ', end='')\n",
    "        print('', round(np.mean(np.abs(results.resid)), 4), ' \\\\\\\\ ', end='')\n",
    "        print()"
   ]
  },
  {
   "cell_type": "code",
   "execution_count": 49,
   "metadata": {},
   "outputs": [
    {
     "data": {
      "application/vnd.plotly.v1+json": {
       "config": {
        "plotlyServerURL": "https://plot.ly"
       },
       "data": [
        {
         "coloraxis": "coloraxis",
         "hovertemplate": "x: %{x}<br>y: %{y}<br>color: %{z}<extra></extra>",
         "name": "0",
         "texttemplate": "%{z}",
         "type": "heatmap",
         "x": [
          "Atenção",
          "Coordenação",
          "Memória",
          "Percepção",
          "Raciocínio"
         ],
         "xaxis": "x",
         "y": [
          "Atenção",
          "Coordenação",
          "Memória",
          "Percepção",
          "Raciocínio"
         ],
         "yaxis": "y",
         "z": [
          [
           1,
           0.49,
           0.33,
           0.44,
           0.29
          ],
          [
           0.49,
           1,
           0.48,
           0.51,
           0.33
          ],
          [
           0.33,
           0.48,
           1,
           0.3,
           0.45
          ],
          [
           0.44,
           0.51,
           0.3,
           1,
           0.37
          ],
          [
           0.29,
           0.33,
           0.45,
           0.37,
           1
          ]
         ]
        }
       ],
       "layout": {
        "coloraxis": {
         "cmax": 1,
         "cmin": 0,
         "colorscale": [
          [
           0,
           "rgb(253, 237, 176)"
          ],
          [
           0.09090909090909091,
           "rgb(250, 205, 145)"
          ],
          [
           0.18181818181818182,
           "rgb(246, 173, 119)"
          ],
          [
           0.2727272727272727,
           "rgb(240, 142, 98)"
          ],
          [
           0.36363636363636365,
           "rgb(231, 109, 84)"
          ],
          [
           0.45454545454545453,
           "rgb(216, 80, 83)"
          ],
          [
           0.5454545454545454,
           "rgb(195, 56, 90)"
          ],
          [
           0.6363636363636364,
           "rgb(168, 40, 96)"
          ],
          [
           0.7272727272727273,
           "rgb(138, 29, 99)"
          ],
          [
           0.8181818181818182,
           "rgb(107, 24, 93)"
          ],
          [
           0.9090909090909091,
           "rgb(76, 21, 80)"
          ],
          [
           1,
           "rgb(47, 15, 61)"
          ]
         ]
        },
        "font": {
         "size": 18
        },
        "height": 600,
        "template": {
         "data": {
          "bar": [
           {
            "error_x": {
             "color": "#2a3f5f"
            },
            "error_y": {
             "color": "#2a3f5f"
            },
            "marker": {
             "line": {
              "color": "#E5ECF6",
              "width": 0.5
             },
             "pattern": {
              "fillmode": "overlay",
              "size": 10,
              "solidity": 0.2
             }
            },
            "type": "bar"
           }
          ],
          "barpolar": [
           {
            "marker": {
             "line": {
              "color": "#E5ECF6",
              "width": 0.5
             },
             "pattern": {
              "fillmode": "overlay",
              "size": 10,
              "solidity": 0.2
             }
            },
            "type": "barpolar"
           }
          ],
          "carpet": [
           {
            "aaxis": {
             "endlinecolor": "#2a3f5f",
             "gridcolor": "white",
             "linecolor": "white",
             "minorgridcolor": "white",
             "startlinecolor": "#2a3f5f"
            },
            "baxis": {
             "endlinecolor": "#2a3f5f",
             "gridcolor": "white",
             "linecolor": "white",
             "minorgridcolor": "white",
             "startlinecolor": "#2a3f5f"
            },
            "type": "carpet"
           }
          ],
          "choropleth": [
           {
            "colorbar": {
             "outlinewidth": 0,
             "ticks": ""
            },
            "type": "choropleth"
           }
          ],
          "contour": [
           {
            "colorbar": {
             "outlinewidth": 0,
             "ticks": ""
            },
            "colorscale": [
             [
              0,
              "#0d0887"
             ],
             [
              0.1111111111111111,
              "#46039f"
             ],
             [
              0.2222222222222222,
              "#7201a8"
             ],
             [
              0.3333333333333333,
              "#9c179e"
             ],
             [
              0.4444444444444444,
              "#bd3786"
             ],
             [
              0.5555555555555556,
              "#d8576b"
             ],
             [
              0.6666666666666666,
              "#ed7953"
             ],
             [
              0.7777777777777778,
              "#fb9f3a"
             ],
             [
              0.8888888888888888,
              "#fdca26"
             ],
             [
              1,
              "#f0f921"
             ]
            ],
            "type": "contour"
           }
          ],
          "contourcarpet": [
           {
            "colorbar": {
             "outlinewidth": 0,
             "ticks": ""
            },
            "type": "contourcarpet"
           }
          ],
          "heatmap": [
           {
            "colorbar": {
             "outlinewidth": 0,
             "ticks": ""
            },
            "colorscale": [
             [
              0,
              "#0d0887"
             ],
             [
              0.1111111111111111,
              "#46039f"
             ],
             [
              0.2222222222222222,
              "#7201a8"
             ],
             [
              0.3333333333333333,
              "#9c179e"
             ],
             [
              0.4444444444444444,
              "#bd3786"
             ],
             [
              0.5555555555555556,
              "#d8576b"
             ],
             [
              0.6666666666666666,
              "#ed7953"
             ],
             [
              0.7777777777777778,
              "#fb9f3a"
             ],
             [
              0.8888888888888888,
              "#fdca26"
             ],
             [
              1,
              "#f0f921"
             ]
            ],
            "type": "heatmap"
           }
          ],
          "heatmapgl": [
           {
            "colorbar": {
             "outlinewidth": 0,
             "ticks": ""
            },
            "colorscale": [
             [
              0,
              "#0d0887"
             ],
             [
              0.1111111111111111,
              "#46039f"
             ],
             [
              0.2222222222222222,
              "#7201a8"
             ],
             [
              0.3333333333333333,
              "#9c179e"
             ],
             [
              0.4444444444444444,
              "#bd3786"
             ],
             [
              0.5555555555555556,
              "#d8576b"
             ],
             [
              0.6666666666666666,
              "#ed7953"
             ],
             [
              0.7777777777777778,
              "#fb9f3a"
             ],
             [
              0.8888888888888888,
              "#fdca26"
             ],
             [
              1,
              "#f0f921"
             ]
            ],
            "type": "heatmapgl"
           }
          ],
          "histogram": [
           {
            "marker": {
             "pattern": {
              "fillmode": "overlay",
              "size": 10,
              "solidity": 0.2
             }
            },
            "type": "histogram"
           }
          ],
          "histogram2d": [
           {
            "colorbar": {
             "outlinewidth": 0,
             "ticks": ""
            },
            "colorscale": [
             [
              0,
              "#0d0887"
             ],
             [
              0.1111111111111111,
              "#46039f"
             ],
             [
              0.2222222222222222,
              "#7201a8"
             ],
             [
              0.3333333333333333,
              "#9c179e"
             ],
             [
              0.4444444444444444,
              "#bd3786"
             ],
             [
              0.5555555555555556,
              "#d8576b"
             ],
             [
              0.6666666666666666,
              "#ed7953"
             ],
             [
              0.7777777777777778,
              "#fb9f3a"
             ],
             [
              0.8888888888888888,
              "#fdca26"
             ],
             [
              1,
              "#f0f921"
             ]
            ],
            "type": "histogram2d"
           }
          ],
          "histogram2dcontour": [
           {
            "colorbar": {
             "outlinewidth": 0,
             "ticks": ""
            },
            "colorscale": [
             [
              0,
              "#0d0887"
             ],
             [
              0.1111111111111111,
              "#46039f"
             ],
             [
              0.2222222222222222,
              "#7201a8"
             ],
             [
              0.3333333333333333,
              "#9c179e"
             ],
             [
              0.4444444444444444,
              "#bd3786"
             ],
             [
              0.5555555555555556,
              "#d8576b"
             ],
             [
              0.6666666666666666,
              "#ed7953"
             ],
             [
              0.7777777777777778,
              "#fb9f3a"
             ],
             [
              0.8888888888888888,
              "#fdca26"
             ],
             [
              1,
              "#f0f921"
             ]
            ],
            "type": "histogram2dcontour"
           }
          ],
          "mesh3d": [
           {
            "colorbar": {
             "outlinewidth": 0,
             "ticks": ""
            },
            "type": "mesh3d"
           }
          ],
          "parcoords": [
           {
            "line": {
             "colorbar": {
              "outlinewidth": 0,
              "ticks": ""
             }
            },
            "type": "parcoords"
           }
          ],
          "pie": [
           {
            "automargin": true,
            "type": "pie"
           }
          ],
          "scatter": [
           {
            "fillpattern": {
             "fillmode": "overlay",
             "size": 10,
             "solidity": 0.2
            },
            "type": "scatter"
           }
          ],
          "scatter3d": [
           {
            "line": {
             "colorbar": {
              "outlinewidth": 0,
              "ticks": ""
             }
            },
            "marker": {
             "colorbar": {
              "outlinewidth": 0,
              "ticks": ""
             }
            },
            "type": "scatter3d"
           }
          ],
          "scattercarpet": [
           {
            "marker": {
             "colorbar": {
              "outlinewidth": 0,
              "ticks": ""
             }
            },
            "type": "scattercarpet"
           }
          ],
          "scattergeo": [
           {
            "marker": {
             "colorbar": {
              "outlinewidth": 0,
              "ticks": ""
             }
            },
            "type": "scattergeo"
           }
          ],
          "scattergl": [
           {
            "marker": {
             "colorbar": {
              "outlinewidth": 0,
              "ticks": ""
             }
            },
            "type": "scattergl"
           }
          ],
          "scattermapbox": [
           {
            "marker": {
             "colorbar": {
              "outlinewidth": 0,
              "ticks": ""
             }
            },
            "type": "scattermapbox"
           }
          ],
          "scatterpolar": [
           {
            "marker": {
             "colorbar": {
              "outlinewidth": 0,
              "ticks": ""
             }
            },
            "type": "scatterpolar"
           }
          ],
          "scatterpolargl": [
           {
            "marker": {
             "colorbar": {
              "outlinewidth": 0,
              "ticks": ""
             }
            },
            "type": "scatterpolargl"
           }
          ],
          "scatterternary": [
           {
            "marker": {
             "colorbar": {
              "outlinewidth": 0,
              "ticks": ""
             }
            },
            "type": "scatterternary"
           }
          ],
          "surface": [
           {
            "colorbar": {
             "outlinewidth": 0,
             "ticks": ""
            },
            "colorscale": [
             [
              0,
              "#0d0887"
             ],
             [
              0.1111111111111111,
              "#46039f"
             ],
             [
              0.2222222222222222,
              "#7201a8"
             ],
             [
              0.3333333333333333,
              "#9c179e"
             ],
             [
              0.4444444444444444,
              "#bd3786"
             ],
             [
              0.5555555555555556,
              "#d8576b"
             ],
             [
              0.6666666666666666,
              "#ed7953"
             ],
             [
              0.7777777777777778,
              "#fb9f3a"
             ],
             [
              0.8888888888888888,
              "#fdca26"
             ],
             [
              1,
              "#f0f921"
             ]
            ],
            "type": "surface"
           }
          ],
          "table": [
           {
            "cells": {
             "fill": {
              "color": "#EBF0F8"
             },
             "line": {
              "color": "white"
             }
            },
            "header": {
             "fill": {
              "color": "#C8D4E3"
             },
             "line": {
              "color": "white"
             }
            },
            "type": "table"
           }
          ]
         },
         "layout": {
          "annotationdefaults": {
           "arrowcolor": "#2a3f5f",
           "arrowhead": 0,
           "arrowwidth": 1
          },
          "autotypenumbers": "strict",
          "coloraxis": {
           "colorbar": {
            "outlinewidth": 0,
            "ticks": ""
           }
          },
          "colorscale": {
           "diverging": [
            [
             0,
             "#8e0152"
            ],
            [
             0.1,
             "#c51b7d"
            ],
            [
             0.2,
             "#de77ae"
            ],
            [
             0.3,
             "#f1b6da"
            ],
            [
             0.4,
             "#fde0ef"
            ],
            [
             0.5,
             "#f7f7f7"
            ],
            [
             0.6,
             "#e6f5d0"
            ],
            [
             0.7,
             "#b8e186"
            ],
            [
             0.8,
             "#7fbc41"
            ],
            [
             0.9,
             "#4d9221"
            ],
            [
             1,
             "#276419"
            ]
           ],
           "sequential": [
            [
             0,
             "#0d0887"
            ],
            [
             0.1111111111111111,
             "#46039f"
            ],
            [
             0.2222222222222222,
             "#7201a8"
            ],
            [
             0.3333333333333333,
             "#9c179e"
            ],
            [
             0.4444444444444444,
             "#bd3786"
            ],
            [
             0.5555555555555556,
             "#d8576b"
            ],
            [
             0.6666666666666666,
             "#ed7953"
            ],
            [
             0.7777777777777778,
             "#fb9f3a"
            ],
            [
             0.8888888888888888,
             "#fdca26"
            ],
            [
             1,
             "#f0f921"
            ]
           ],
           "sequentialminus": [
            [
             0,
             "#0d0887"
            ],
            [
             0.1111111111111111,
             "#46039f"
            ],
            [
             0.2222222222222222,
             "#7201a8"
            ],
            [
             0.3333333333333333,
             "#9c179e"
            ],
            [
             0.4444444444444444,
             "#bd3786"
            ],
            [
             0.5555555555555556,
             "#d8576b"
            ],
            [
             0.6666666666666666,
             "#ed7953"
            ],
            [
             0.7777777777777778,
             "#fb9f3a"
            ],
            [
             0.8888888888888888,
             "#fdca26"
            ],
            [
             1,
             "#f0f921"
            ]
           ]
          },
          "colorway": [
           "#636efa",
           "#EF553B",
           "#00cc96",
           "#ab63fa",
           "#FFA15A",
           "#19d3f3",
           "#FF6692",
           "#B6E880",
           "#FF97FF",
           "#FECB52"
          ],
          "font": {
           "color": "#2a3f5f"
          },
          "geo": {
           "bgcolor": "white",
           "lakecolor": "white",
           "landcolor": "#E5ECF6",
           "showlakes": true,
           "showland": true,
           "subunitcolor": "white"
          },
          "hoverlabel": {
           "align": "left"
          },
          "hovermode": "closest",
          "mapbox": {
           "style": "light"
          },
          "paper_bgcolor": "white",
          "plot_bgcolor": "#E5ECF6",
          "polar": {
           "angularaxis": {
            "gridcolor": "white",
            "linecolor": "white",
            "ticks": ""
           },
           "bgcolor": "#E5ECF6",
           "radialaxis": {
            "gridcolor": "white",
            "linecolor": "white",
            "ticks": ""
           }
          },
          "scene": {
           "xaxis": {
            "backgroundcolor": "#E5ECF6",
            "gridcolor": "white",
            "gridwidth": 2,
            "linecolor": "white",
            "showbackground": true,
            "ticks": "",
            "zerolinecolor": "white"
           },
           "yaxis": {
            "backgroundcolor": "#E5ECF6",
            "gridcolor": "white",
            "gridwidth": 2,
            "linecolor": "white",
            "showbackground": true,
            "ticks": "",
            "zerolinecolor": "white"
           },
           "zaxis": {
            "backgroundcolor": "#E5ECF6",
            "gridcolor": "white",
            "gridwidth": 2,
            "linecolor": "white",
            "showbackground": true,
            "ticks": "",
            "zerolinecolor": "white"
           }
          },
          "shapedefaults": {
           "line": {
            "color": "#2a3f5f"
           }
          },
          "ternary": {
           "aaxis": {
            "gridcolor": "white",
            "linecolor": "white",
            "ticks": ""
           },
           "baxis": {
            "gridcolor": "white",
            "linecolor": "white",
            "ticks": ""
           },
           "bgcolor": "#E5ECF6",
           "caxis": {
            "gridcolor": "white",
            "linecolor": "white",
            "ticks": ""
           }
          },
          "title": {
           "x": 0.05
          },
          "xaxis": {
           "automargin": true,
           "gridcolor": "white",
           "linecolor": "white",
           "ticks": "",
           "title": {
            "standoff": 15
           },
           "zerolinecolor": "white",
           "zerolinewidth": 2
          },
          "yaxis": {
           "automargin": true,
           "gridcolor": "white",
           "linecolor": "white",
           "ticks": "",
           "title": {
            "standoff": 15
           },
           "zerolinecolor": "white",
           "zerolinewidth": 2
          }
         }
        },
        "title": {
         "text": "Correlação entre os jogos"
        },
        "width": 1000,
        "xaxis": {
         "anchor": "y",
         "constrain": "domain",
         "domain": [
          0,
          1
         ],
         "scaleanchor": "y"
        },
        "yaxis": {
         "anchor": "x",
         "autorange": "reversed",
         "constrain": "domain",
         "domain": [
          0,
          1
         ]
        }
       }
      }
     },
     "metadata": {},
     "output_type": "display_data"
    }
   ],
   "source": [
    "fig = px.imshow(np.round(df[GAMES].corr(), 2), x=GAMES, y=GAMES,\n",
    "          color_continuous_scale='matter',\n",
    "          zmin=0, zmax=1,\n",
    "          title='Correlação entre os jogos',\n",
    "          text_auto=True)\n",
    "\n",
    "fig.update_layout(\n",
    "    font=dict(\n",
    "        size=18\n",
    "    ),\n",
    "    width=1000,\n",
    "    height=600,\n",
    ")"
   ]
  },
  {
   "attachments": {},
   "cell_type": "markdown",
   "metadata": {},
   "source": [
    "# É possível modelar os resultados a partir de Gaussianas simples?"
   ]
  },
  {
   "cell_type": "code",
   "execution_count": 50,
   "metadata": {},
   "outputs": [
    {
     "data": {
      "application/vnd.plotly.v1+json": {
       "config": {
        "plotlyServerURL": "https://plot.ly"
       },
       "data": [
        {
         "alignmentgroup": "True",
         "box": {
          "visible": true
         },
         "hovertemplate": "variable=%{x}<br>value=%{y}<extra></extra>",
         "legendgroup": "",
         "marker": {
          "color": "#636efa"
         },
         "meanline": {
          "visible": true
         },
         "name": "",
         "offsetgroup": "",
         "orientation": "v",
         "points": "all",
         "scalegroup": "True",
         "showlegend": false,
         "type": "violin",
         "x": [
          "Atenção",
          "Atenção",
          "Atenção",
          "Atenção",
          "Atenção",
          "Atenção",
          "Atenção",
          "Atenção",
          "Atenção",
          "Atenção",
          "Atenção",
          "Atenção",
          "Atenção",
          "Atenção",
          "Atenção",
          "Atenção",
          "Atenção",
          "Atenção",
          "Atenção",
          "Atenção",
          "Atenção",
          "Atenção",
          "Atenção",
          "Atenção",
          "Atenção",
          "Atenção",
          "Atenção",
          "Atenção",
          "Atenção",
          "Atenção",
          "Atenção",
          "Atenção",
          "Atenção",
          "Atenção",
          "Atenção",
          "Atenção",
          "Atenção",
          "Atenção",
          "Atenção",
          "Atenção",
          "Atenção",
          "Atenção",
          "Atenção",
          "Atenção",
          "Atenção",
          "Atenção",
          "Atenção",
          "Atenção",
          "Atenção",
          "Atenção",
          "Atenção",
          "Atenção",
          "Atenção",
          "Atenção",
          "Atenção",
          "Atenção",
          "Atenção",
          "Atenção",
          "Atenção",
          "Atenção",
          "Atenção",
          "Atenção",
          "Atenção",
          "Atenção",
          "Coordenação",
          "Coordenação",
          "Coordenação",
          "Coordenação",
          "Coordenação",
          "Coordenação",
          "Coordenação",
          "Coordenação",
          "Coordenação",
          "Coordenação",
          "Coordenação",
          "Coordenação",
          "Coordenação",
          "Coordenação",
          "Coordenação",
          "Coordenação",
          "Coordenação",
          "Coordenação",
          "Coordenação",
          "Coordenação",
          "Coordenação",
          "Coordenação",
          "Coordenação",
          "Coordenação",
          "Coordenação",
          "Coordenação",
          "Coordenação",
          "Coordenação",
          "Coordenação",
          "Coordenação",
          "Coordenação",
          "Coordenação",
          "Coordenação",
          "Coordenação",
          "Coordenação",
          "Coordenação",
          "Coordenação",
          "Coordenação",
          "Coordenação",
          "Coordenação",
          "Coordenação",
          "Coordenação",
          "Coordenação",
          "Coordenação",
          "Coordenação",
          "Coordenação",
          "Coordenação",
          "Coordenação",
          "Coordenação",
          "Coordenação",
          "Coordenação",
          "Coordenação",
          "Coordenação",
          "Coordenação",
          "Coordenação",
          "Coordenação",
          "Coordenação",
          "Coordenação",
          "Coordenação",
          "Coordenação",
          "Coordenação",
          "Coordenação",
          "Coordenação",
          "Coordenação",
          "Memória",
          "Memória",
          "Memória",
          "Memória",
          "Memória",
          "Memória",
          "Memória",
          "Memória",
          "Memória",
          "Memória",
          "Memória",
          "Memória",
          "Memória",
          "Memória",
          "Memória",
          "Memória",
          "Memória",
          "Memória",
          "Memória",
          "Memória",
          "Memória",
          "Memória",
          "Memória",
          "Memória",
          "Memória",
          "Memória",
          "Memória",
          "Memória",
          "Memória",
          "Memória",
          "Memória",
          "Memória",
          "Memória",
          "Memória",
          "Memória",
          "Memória",
          "Memória",
          "Memória",
          "Memória",
          "Memória",
          "Memória",
          "Memória",
          "Memória",
          "Memória",
          "Memória",
          "Memória",
          "Memória",
          "Memória",
          "Memória",
          "Memória",
          "Memória",
          "Memória",
          "Memória",
          "Memória",
          "Memória",
          "Memória",
          "Memória",
          "Memória",
          "Memória",
          "Memória",
          "Memória",
          "Memória",
          "Memória",
          "Memória",
          "Percepção",
          "Percepção",
          "Percepção",
          "Percepção",
          "Percepção",
          "Percepção",
          "Percepção",
          "Percepção",
          "Percepção",
          "Percepção",
          "Percepção",
          "Percepção",
          "Percepção",
          "Percepção",
          "Percepção",
          "Percepção",
          "Percepção",
          "Percepção",
          "Percepção",
          "Percepção",
          "Percepção",
          "Percepção",
          "Percepção",
          "Percepção",
          "Percepção",
          "Percepção",
          "Percepção",
          "Percepção",
          "Percepção",
          "Percepção",
          "Percepção",
          "Percepção",
          "Percepção",
          "Percepção",
          "Percepção",
          "Percepção",
          "Percepção",
          "Percepção",
          "Percepção",
          "Percepção",
          "Percepção",
          "Percepção",
          "Percepção",
          "Percepção",
          "Percepção",
          "Percepção",
          "Percepção",
          "Percepção",
          "Percepção",
          "Percepção",
          "Percepção",
          "Percepção",
          "Percepção",
          "Percepção",
          "Percepção",
          "Percepção",
          "Percepção",
          "Percepção",
          "Percepção",
          "Percepção",
          "Percepção",
          "Percepção",
          "Percepção",
          "Percepção",
          "Raciocínio",
          "Raciocínio",
          "Raciocínio",
          "Raciocínio",
          "Raciocínio",
          "Raciocínio",
          "Raciocínio",
          "Raciocínio",
          "Raciocínio",
          "Raciocínio",
          "Raciocínio",
          "Raciocínio",
          "Raciocínio",
          "Raciocínio",
          "Raciocínio",
          "Raciocínio",
          "Raciocínio",
          "Raciocínio",
          "Raciocínio",
          "Raciocínio",
          "Raciocínio",
          "Raciocínio",
          "Raciocínio",
          "Raciocínio",
          "Raciocínio",
          "Raciocínio",
          "Raciocínio",
          "Raciocínio",
          "Raciocínio",
          "Raciocínio",
          "Raciocínio",
          "Raciocínio",
          "Raciocínio",
          "Raciocínio",
          "Raciocínio",
          "Raciocínio",
          "Raciocínio",
          "Raciocínio",
          "Raciocínio",
          "Raciocínio",
          "Raciocínio",
          "Raciocínio",
          "Raciocínio",
          "Raciocínio",
          "Raciocínio",
          "Raciocínio",
          "Raciocínio",
          "Raciocínio",
          "Raciocínio",
          "Raciocínio",
          "Raciocínio",
          "Raciocínio",
          "Raciocínio",
          "Raciocínio",
          "Raciocínio",
          "Raciocínio",
          "Raciocínio",
          "Raciocínio",
          "Raciocínio",
          "Raciocínio",
          "Raciocínio",
          "Raciocínio",
          "Raciocínio",
          "Raciocínio"
         ],
         "x0": " ",
         "xaxis": "x",
         "y": [
          36,
          7,
          64,
          7,
          30,
          7,
          27,
          57,
          48,
          20,
          51,
          61,
          62,
          19,
          0,
          55,
          14,
          14,
          60,
          17,
          10,
          48,
          66,
          49,
          58,
          57,
          58,
          58,
          58,
          63,
          63,
          61,
          48,
          29,
          57,
          65,
          15,
          28,
          0,
          7,
          68,
          42,
          53,
          50,
          40,
          62,
          65,
          42,
          65,
          12,
          45,
          12,
          14,
          22,
          55,
          41,
          23,
          34,
          52,
          0,
          26,
          null,
          null,
          null,
          19.2,
          7.4,
          49.4,
          30.3,
          44.4,
          25.5,
          14.7,
          1.9,
          51,
          24.5,
          35.7,
          40.5,
          65,
          47.5,
          12.2,
          34.3,
          14.4,
          14.4,
          51,
          42.8,
          28.8,
          26.1,
          46,
          40,
          41.5,
          62.7,
          71,
          74,
          49.9,
          57,
          75.4,
          59.3,
          49,
          24.9,
          41.7,
          52,
          34.9,
          52.9,
          39,
          28.3,
          43.9,
          3.9,
          7.2,
          49.3,
          57.9,
          47.8,
          36,
          31.4,
          71,
          0,
          47.3,
          42,
          21.7,
          19.6,
          34.2,
          53,
          42.8,
          26.8,
          55,
          61.4,
          13.5,
          null,
          null,
          null,
          21,
          40,
          29,
          18,
          38,
          17,
          29,
          36,
          23,
          28,
          51,
          56,
          72,
          25,
          1,
          17,
          33,
          33,
          15,
          32,
          28,
          40,
          34,
          37,
          33,
          38,
          51,
          56,
          68,
          67,
          39,
          63,
          30,
          46,
          16,
          24,
          42,
          27,
          10,
          40,
          22,
          9,
          25,
          32,
          58,
          26,
          34,
          33,
          51,
          15,
          30,
          25,
          40,
          23,
          38,
          32,
          32,
          7,
          29,
          50,
          28,
          null,
          null,
          null,
          24.2,
          29.7,
          98.1,
          48.9,
          60.8,
          55.3,
          35.7,
          17.5,
          49.5,
          30.9,
          43,
          42.9,
          98.4,
          105.3,
          0,
          60.6,
          54.8,
          54.8,
          36.1,
          53.2,
          11.9,
          66.7,
          121.1,
          91.5,
          85.5,
          60.802119,
          80.5,
          86.4,
          104.7,
          55,
          55,
          93,
          29.9,
          35.1,
          60.6,
          55.3,
          18.4,
          37.1,
          78.8,
          37.4,
          86.5,
          23.8,
          48.7,
          66.3,
          24.8,
          56.8,
          24.4,
          42.7,
          49.5,
          18.4,
          79.4,
          59.9,
          17.9,
          30.1,
          54.3,
          86.8,
          35.4,
          22.5,
          36.1,
          31.2,
          36.1,
          null,
          null,
          null,
          12,
          15,
          21,
          7,
          18,
          3,
          4,
          7,
          17,
          12,
          4,
          37,
          37,
          10,
          0,
          11,
          26,
          26,
          27,
          28,
          5,
          25,
          29,
          34,
          30,
          7,
          18,
          19,
          29,
          26,
          35,
          21,
          18,
          23,
          23,
          20,
          4,
          13,
          11,
          10,
          22,
          12,
          5,
          13,
          11,
          5,
          9,
          3,
          22,
          2,
          16,
          3,
          30,
          5,
          5,
          2,
          28,
          5,
          5,
          29,
          31,
          null,
          null,
          null
         ],
         "y0": " ",
         "yaxis": "y"
        }
       ],
       "layout": {
        "font": {
         "size": 18
        },
        "legend": {
         "tracegroupgap": 0
        },
        "margin": {
         "t": 60
        },
        "template": {
         "data": {
          "bar": [
           {
            "error_x": {
             "color": "#2a3f5f"
            },
            "error_y": {
             "color": "#2a3f5f"
            },
            "marker": {
             "line": {
              "color": "#E5ECF6",
              "width": 0.5
             },
             "pattern": {
              "fillmode": "overlay",
              "size": 10,
              "solidity": 0.2
             }
            },
            "type": "bar"
           }
          ],
          "barpolar": [
           {
            "marker": {
             "line": {
              "color": "#E5ECF6",
              "width": 0.5
             },
             "pattern": {
              "fillmode": "overlay",
              "size": 10,
              "solidity": 0.2
             }
            },
            "type": "barpolar"
           }
          ],
          "carpet": [
           {
            "aaxis": {
             "endlinecolor": "#2a3f5f",
             "gridcolor": "white",
             "linecolor": "white",
             "minorgridcolor": "white",
             "startlinecolor": "#2a3f5f"
            },
            "baxis": {
             "endlinecolor": "#2a3f5f",
             "gridcolor": "white",
             "linecolor": "white",
             "minorgridcolor": "white",
             "startlinecolor": "#2a3f5f"
            },
            "type": "carpet"
           }
          ],
          "choropleth": [
           {
            "colorbar": {
             "outlinewidth": 0,
             "ticks": ""
            },
            "type": "choropleth"
           }
          ],
          "contour": [
           {
            "colorbar": {
             "outlinewidth": 0,
             "ticks": ""
            },
            "colorscale": [
             [
              0,
              "#0d0887"
             ],
             [
              0.1111111111111111,
              "#46039f"
             ],
             [
              0.2222222222222222,
              "#7201a8"
             ],
             [
              0.3333333333333333,
              "#9c179e"
             ],
             [
              0.4444444444444444,
              "#bd3786"
             ],
             [
              0.5555555555555556,
              "#d8576b"
             ],
             [
              0.6666666666666666,
              "#ed7953"
             ],
             [
              0.7777777777777778,
              "#fb9f3a"
             ],
             [
              0.8888888888888888,
              "#fdca26"
             ],
             [
              1,
              "#f0f921"
             ]
            ],
            "type": "contour"
           }
          ],
          "contourcarpet": [
           {
            "colorbar": {
             "outlinewidth": 0,
             "ticks": ""
            },
            "type": "contourcarpet"
           }
          ],
          "heatmap": [
           {
            "colorbar": {
             "outlinewidth": 0,
             "ticks": ""
            },
            "colorscale": [
             [
              0,
              "#0d0887"
             ],
             [
              0.1111111111111111,
              "#46039f"
             ],
             [
              0.2222222222222222,
              "#7201a8"
             ],
             [
              0.3333333333333333,
              "#9c179e"
             ],
             [
              0.4444444444444444,
              "#bd3786"
             ],
             [
              0.5555555555555556,
              "#d8576b"
             ],
             [
              0.6666666666666666,
              "#ed7953"
             ],
             [
              0.7777777777777778,
              "#fb9f3a"
             ],
             [
              0.8888888888888888,
              "#fdca26"
             ],
             [
              1,
              "#f0f921"
             ]
            ],
            "type": "heatmap"
           }
          ],
          "heatmapgl": [
           {
            "colorbar": {
             "outlinewidth": 0,
             "ticks": ""
            },
            "colorscale": [
             [
              0,
              "#0d0887"
             ],
             [
              0.1111111111111111,
              "#46039f"
             ],
             [
              0.2222222222222222,
              "#7201a8"
             ],
             [
              0.3333333333333333,
              "#9c179e"
             ],
             [
              0.4444444444444444,
              "#bd3786"
             ],
             [
              0.5555555555555556,
              "#d8576b"
             ],
             [
              0.6666666666666666,
              "#ed7953"
             ],
             [
              0.7777777777777778,
              "#fb9f3a"
             ],
             [
              0.8888888888888888,
              "#fdca26"
             ],
             [
              1,
              "#f0f921"
             ]
            ],
            "type": "heatmapgl"
           }
          ],
          "histogram": [
           {
            "marker": {
             "pattern": {
              "fillmode": "overlay",
              "size": 10,
              "solidity": 0.2
             }
            },
            "type": "histogram"
           }
          ],
          "histogram2d": [
           {
            "colorbar": {
             "outlinewidth": 0,
             "ticks": ""
            },
            "colorscale": [
             [
              0,
              "#0d0887"
             ],
             [
              0.1111111111111111,
              "#46039f"
             ],
             [
              0.2222222222222222,
              "#7201a8"
             ],
             [
              0.3333333333333333,
              "#9c179e"
             ],
             [
              0.4444444444444444,
              "#bd3786"
             ],
             [
              0.5555555555555556,
              "#d8576b"
             ],
             [
              0.6666666666666666,
              "#ed7953"
             ],
             [
              0.7777777777777778,
              "#fb9f3a"
             ],
             [
              0.8888888888888888,
              "#fdca26"
             ],
             [
              1,
              "#f0f921"
             ]
            ],
            "type": "histogram2d"
           }
          ],
          "histogram2dcontour": [
           {
            "colorbar": {
             "outlinewidth": 0,
             "ticks": ""
            },
            "colorscale": [
             [
              0,
              "#0d0887"
             ],
             [
              0.1111111111111111,
              "#46039f"
             ],
             [
              0.2222222222222222,
              "#7201a8"
             ],
             [
              0.3333333333333333,
              "#9c179e"
             ],
             [
              0.4444444444444444,
              "#bd3786"
             ],
             [
              0.5555555555555556,
              "#d8576b"
             ],
             [
              0.6666666666666666,
              "#ed7953"
             ],
             [
              0.7777777777777778,
              "#fb9f3a"
             ],
             [
              0.8888888888888888,
              "#fdca26"
             ],
             [
              1,
              "#f0f921"
             ]
            ],
            "type": "histogram2dcontour"
           }
          ],
          "mesh3d": [
           {
            "colorbar": {
             "outlinewidth": 0,
             "ticks": ""
            },
            "type": "mesh3d"
           }
          ],
          "parcoords": [
           {
            "line": {
             "colorbar": {
              "outlinewidth": 0,
              "ticks": ""
             }
            },
            "type": "parcoords"
           }
          ],
          "pie": [
           {
            "automargin": true,
            "type": "pie"
           }
          ],
          "scatter": [
           {
            "fillpattern": {
             "fillmode": "overlay",
             "size": 10,
             "solidity": 0.2
            },
            "type": "scatter"
           }
          ],
          "scatter3d": [
           {
            "line": {
             "colorbar": {
              "outlinewidth": 0,
              "ticks": ""
             }
            },
            "marker": {
             "colorbar": {
              "outlinewidth": 0,
              "ticks": ""
             }
            },
            "type": "scatter3d"
           }
          ],
          "scattercarpet": [
           {
            "marker": {
             "colorbar": {
              "outlinewidth": 0,
              "ticks": ""
             }
            },
            "type": "scattercarpet"
           }
          ],
          "scattergeo": [
           {
            "marker": {
             "colorbar": {
              "outlinewidth": 0,
              "ticks": ""
             }
            },
            "type": "scattergeo"
           }
          ],
          "scattergl": [
           {
            "marker": {
             "colorbar": {
              "outlinewidth": 0,
              "ticks": ""
             }
            },
            "type": "scattergl"
           }
          ],
          "scattermapbox": [
           {
            "marker": {
             "colorbar": {
              "outlinewidth": 0,
              "ticks": ""
             }
            },
            "type": "scattermapbox"
           }
          ],
          "scatterpolar": [
           {
            "marker": {
             "colorbar": {
              "outlinewidth": 0,
              "ticks": ""
             }
            },
            "type": "scatterpolar"
           }
          ],
          "scatterpolargl": [
           {
            "marker": {
             "colorbar": {
              "outlinewidth": 0,
              "ticks": ""
             }
            },
            "type": "scatterpolargl"
           }
          ],
          "scatterternary": [
           {
            "marker": {
             "colorbar": {
              "outlinewidth": 0,
              "ticks": ""
             }
            },
            "type": "scatterternary"
           }
          ],
          "surface": [
           {
            "colorbar": {
             "outlinewidth": 0,
             "ticks": ""
            },
            "colorscale": [
             [
              0,
              "#0d0887"
             ],
             [
              0.1111111111111111,
              "#46039f"
             ],
             [
              0.2222222222222222,
              "#7201a8"
             ],
             [
              0.3333333333333333,
              "#9c179e"
             ],
             [
              0.4444444444444444,
              "#bd3786"
             ],
             [
              0.5555555555555556,
              "#d8576b"
             ],
             [
              0.6666666666666666,
              "#ed7953"
             ],
             [
              0.7777777777777778,
              "#fb9f3a"
             ],
             [
              0.8888888888888888,
              "#fdca26"
             ],
             [
              1,
              "#f0f921"
             ]
            ],
            "type": "surface"
           }
          ],
          "table": [
           {
            "cells": {
             "fill": {
              "color": "#EBF0F8"
             },
             "line": {
              "color": "white"
             }
            },
            "header": {
             "fill": {
              "color": "#C8D4E3"
             },
             "line": {
              "color": "white"
             }
            },
            "type": "table"
           }
          ]
         },
         "layout": {
          "annotationdefaults": {
           "arrowcolor": "#2a3f5f",
           "arrowhead": 0,
           "arrowwidth": 1
          },
          "autotypenumbers": "strict",
          "coloraxis": {
           "colorbar": {
            "outlinewidth": 0,
            "ticks": ""
           }
          },
          "colorscale": {
           "diverging": [
            [
             0,
             "#8e0152"
            ],
            [
             0.1,
             "#c51b7d"
            ],
            [
             0.2,
             "#de77ae"
            ],
            [
             0.3,
             "#f1b6da"
            ],
            [
             0.4,
             "#fde0ef"
            ],
            [
             0.5,
             "#f7f7f7"
            ],
            [
             0.6,
             "#e6f5d0"
            ],
            [
             0.7,
             "#b8e186"
            ],
            [
             0.8,
             "#7fbc41"
            ],
            [
             0.9,
             "#4d9221"
            ],
            [
             1,
             "#276419"
            ]
           ],
           "sequential": [
            [
             0,
             "#0d0887"
            ],
            [
             0.1111111111111111,
             "#46039f"
            ],
            [
             0.2222222222222222,
             "#7201a8"
            ],
            [
             0.3333333333333333,
             "#9c179e"
            ],
            [
             0.4444444444444444,
             "#bd3786"
            ],
            [
             0.5555555555555556,
             "#d8576b"
            ],
            [
             0.6666666666666666,
             "#ed7953"
            ],
            [
             0.7777777777777778,
             "#fb9f3a"
            ],
            [
             0.8888888888888888,
             "#fdca26"
            ],
            [
             1,
             "#f0f921"
            ]
           ],
           "sequentialminus": [
            [
             0,
             "#0d0887"
            ],
            [
             0.1111111111111111,
             "#46039f"
            ],
            [
             0.2222222222222222,
             "#7201a8"
            ],
            [
             0.3333333333333333,
             "#9c179e"
            ],
            [
             0.4444444444444444,
             "#bd3786"
            ],
            [
             0.5555555555555556,
             "#d8576b"
            ],
            [
             0.6666666666666666,
             "#ed7953"
            ],
            [
             0.7777777777777778,
             "#fb9f3a"
            ],
            [
             0.8888888888888888,
             "#fdca26"
            ],
            [
             1,
             "#f0f921"
            ]
           ]
          },
          "colorway": [
           "#636efa",
           "#EF553B",
           "#00cc96",
           "#ab63fa",
           "#FFA15A",
           "#19d3f3",
           "#FF6692",
           "#B6E880",
           "#FF97FF",
           "#FECB52"
          ],
          "font": {
           "color": "#2a3f5f"
          },
          "geo": {
           "bgcolor": "white",
           "lakecolor": "white",
           "landcolor": "#E5ECF6",
           "showlakes": true,
           "showland": true,
           "subunitcolor": "white"
          },
          "hoverlabel": {
           "align": "left"
          },
          "hovermode": "closest",
          "mapbox": {
           "style": "light"
          },
          "paper_bgcolor": "white",
          "plot_bgcolor": "#E5ECF6",
          "polar": {
           "angularaxis": {
            "gridcolor": "white",
            "linecolor": "white",
            "ticks": ""
           },
           "bgcolor": "#E5ECF6",
           "radialaxis": {
            "gridcolor": "white",
            "linecolor": "white",
            "ticks": ""
           }
          },
          "scene": {
           "xaxis": {
            "backgroundcolor": "#E5ECF6",
            "gridcolor": "white",
            "gridwidth": 2,
            "linecolor": "white",
            "showbackground": true,
            "ticks": "",
            "zerolinecolor": "white"
           },
           "yaxis": {
            "backgroundcolor": "#E5ECF6",
            "gridcolor": "white",
            "gridwidth": 2,
            "linecolor": "white",
            "showbackground": true,
            "ticks": "",
            "zerolinecolor": "white"
           },
           "zaxis": {
            "backgroundcolor": "#E5ECF6",
            "gridcolor": "white",
            "gridwidth": 2,
            "linecolor": "white",
            "showbackground": true,
            "ticks": "",
            "zerolinecolor": "white"
           }
          },
          "shapedefaults": {
           "line": {
            "color": "#2a3f5f"
           }
          },
          "ternary": {
           "aaxis": {
            "gridcolor": "white",
            "linecolor": "white",
            "ticks": ""
           },
           "baxis": {
            "gridcolor": "white",
            "linecolor": "white",
            "ticks": ""
           },
           "bgcolor": "#E5ECF6",
           "caxis": {
            "gridcolor": "white",
            "linecolor": "white",
            "ticks": ""
           }
          },
          "title": {
           "x": 0.05
          },
          "xaxis": {
           "automargin": true,
           "gridcolor": "white",
           "linecolor": "white",
           "ticks": "",
           "title": {
            "standoff": 15
           },
           "zerolinecolor": "white",
           "zerolinewidth": 2
          },
          "yaxis": {
           "automargin": true,
           "gridcolor": "white",
           "linecolor": "white",
           "ticks": "",
           "title": {
            "standoff": 15
           },
           "zerolinecolor": "white",
           "zerolinewidth": 2
          }
         }
        },
        "title": {
         "text": "Distribuição das pontuações dos jogos"
        },
        "violinmode": "group",
        "xaxis": {
         "anchor": "y",
         "domain": [
          0,
          1
         ],
         "title": {
          "text": "Jogos"
         }
        },
        "yaxis": {
         "anchor": "x",
         "domain": [
          0,
          1
         ],
         "title": {
          "text": "Pontuação"
         }
        }
       }
      }
     },
     "metadata": {},
     "output_type": "display_data"
    }
   ],
   "source": [
    "fig = px.violin(df, y=GAMES, box=True, points='all')\n",
    "fig.update_traces(meanline_visible=True)\n",
    "fig.update_layout(title='Distribuição das pontuações dos jogos',\n",
    "                    xaxis_title='Jogos',\n",
    "                    yaxis_title='Pontuação',\n",
    "                    violinmode='group',\n",
    "                    font=dict(\n",
    "                        size=18\n",
    "                    ),\n",
    ")"
   ]
  },
  {
   "cell_type": "code",
   "execution_count": 51,
   "metadata": {},
   "outputs": [
    {
     "name": "stdout",
     "output_type": "stream",
     "text": [
      "Atenção & 0.1548 & 0.0018 \\\\\n",
      "Coordenação & 0.0737 & 0.6082 \\\\\n",
      "Memória & 0.1202 & 0.0398 \\\\\n",
      "Percepção & 0.1148 & 0.0585 \\\\\n",
      "Raciocínio & 0.1185 & 0.0446 \\\\\n"
     ]
    }
   ],
   "source": [
    "for game in GAMES:\n",
    "    print(f\"{game} & \", end='')\n",
    "\n",
    "    ksstat, pvalue = kstest_normal(df[game].dropna(), dist='norm')\n",
    "    # print(f\"Kolmogorov-Smirnov test: {ksstat}, {pvalue}\")\n",
    "    print(f\"{round(ksstat, 4)} & {round(pvalue, 4)} \\\\\\\\\", end='')\n",
    "    # if pvalue > 0.05:\n",
    "    #     print(\"Normal distribution\")\n",
    "    # else:\n",
    "    #     print(\"Not normal distribution\")\n",
    "    \n",
    "    print()"
   ]
  },
  {
   "cell_type": "code",
   "execution_count": 52,
   "metadata": {},
   "outputs": [
    {
     "data": {
      "application/vnd.plotly.v1+json": {
       "config": {
        "plotlyServerURL": "https://plot.ly"
       },
       "data": [
        {
         "histnorm": "probability",
         "name": "Atenção",
         "opacity": 0.75,
         "type": "histogram",
         "x": [
          36,
          7,
          64,
          7,
          30,
          7,
          27,
          57,
          48,
          20,
          51,
          61,
          62,
          19,
          0,
          55,
          14,
          14,
          60,
          17,
          10,
          48,
          66,
          49,
          58,
          57,
          58,
          58,
          58,
          63,
          63,
          61,
          48,
          29,
          57,
          65,
          15,
          28,
          0,
          7,
          68,
          42,
          53,
          50,
          40,
          62,
          65,
          42,
          65,
          12,
          45,
          12,
          14,
          22,
          55,
          41,
          23,
          34,
          52,
          0,
          26,
          null,
          null,
          null
         ]
        },
        {
         "histnorm": "probability",
         "name": "Coordenação",
         "opacity": 0.75,
         "type": "histogram",
         "x": [
          19.2,
          7.4,
          49.4,
          30.3,
          44.4,
          25.5,
          14.7,
          1.9,
          51,
          24.5,
          35.7,
          40.5,
          65,
          47.5,
          12.2,
          34.3,
          14.4,
          14.4,
          51,
          42.8,
          28.8,
          26.1,
          46,
          40,
          41.5,
          62.7,
          71,
          74,
          49.9,
          57,
          75.4,
          59.3,
          49,
          24.9,
          41.7,
          52,
          34.9,
          52.9,
          39,
          28.3,
          43.9,
          3.9,
          7.2,
          49.3,
          57.9,
          47.8,
          36,
          31.4,
          71,
          0,
          47.3,
          42,
          21.7,
          19.6,
          34.2,
          53,
          42.8,
          26.8,
          55,
          61.4,
          13.5,
          null,
          null,
          null
         ]
        },
        {
         "histnorm": "probability",
         "name": "Memória",
         "opacity": 0.75,
         "type": "histogram",
         "x": [
          21,
          40,
          29,
          18,
          38,
          17,
          29,
          36,
          23,
          28,
          51,
          56,
          72,
          25,
          1,
          17,
          33,
          33,
          15,
          32,
          28,
          40,
          34,
          37,
          33,
          38,
          51,
          56,
          68,
          67,
          39,
          63,
          30,
          46,
          16,
          24,
          42,
          27,
          10,
          40,
          22,
          9,
          25,
          32,
          58,
          26,
          34,
          33,
          51,
          15,
          30,
          25,
          40,
          23,
          38,
          32,
          32,
          7,
          29,
          50,
          28,
          null,
          null,
          null
         ]
        },
        {
         "histnorm": "probability",
         "name": "Percepção",
         "opacity": 0.75,
         "type": "histogram",
         "x": [
          24.2,
          29.7,
          98.1,
          48.9,
          60.8,
          55.3,
          35.7,
          17.5,
          49.5,
          30.9,
          43,
          42.9,
          98.4,
          105.3,
          0,
          60.6,
          54.8,
          54.8,
          36.1,
          53.2,
          11.9,
          66.7,
          121.1,
          91.5,
          85.5,
          60.802119,
          80.5,
          86.4,
          104.7,
          55,
          55,
          93,
          29.9,
          35.1,
          60.6,
          55.3,
          18.4,
          37.1,
          78.8,
          37.4,
          86.5,
          23.8,
          48.7,
          66.3,
          24.8,
          56.8,
          24.4,
          42.7,
          49.5,
          18.4,
          79.4,
          59.9,
          17.9,
          30.1,
          54.3,
          86.8,
          35.4,
          22.5,
          36.1,
          31.2,
          36.1,
          null,
          null,
          null
         ]
        },
        {
         "histnorm": "probability",
         "name": "Raciocínio",
         "opacity": 0.75,
         "type": "histogram",
         "x": [
          12,
          15,
          21,
          7,
          18,
          3,
          4,
          7,
          17,
          12,
          4,
          37,
          37,
          10,
          0,
          11,
          26,
          26,
          27,
          28,
          5,
          25,
          29,
          34,
          30,
          7,
          18,
          19,
          29,
          26,
          35,
          21,
          18,
          23,
          23,
          20,
          4,
          13,
          11,
          10,
          22,
          12,
          5,
          13,
          11,
          5,
          9,
          3,
          22,
          2,
          16,
          3,
          30,
          5,
          5,
          2,
          28,
          5,
          5,
          29,
          31,
          null,
          null,
          null
         ]
        }
       ],
       "layout": {
        "barmode": "overlay",
        "template": {
         "data": {
          "bar": [
           {
            "error_x": {
             "color": "#2a3f5f"
            },
            "error_y": {
             "color": "#2a3f5f"
            },
            "marker": {
             "line": {
              "color": "#E5ECF6",
              "width": 0.5
             },
             "pattern": {
              "fillmode": "overlay",
              "size": 10,
              "solidity": 0.2
             }
            },
            "type": "bar"
           }
          ],
          "barpolar": [
           {
            "marker": {
             "line": {
              "color": "#E5ECF6",
              "width": 0.5
             },
             "pattern": {
              "fillmode": "overlay",
              "size": 10,
              "solidity": 0.2
             }
            },
            "type": "barpolar"
           }
          ],
          "carpet": [
           {
            "aaxis": {
             "endlinecolor": "#2a3f5f",
             "gridcolor": "white",
             "linecolor": "white",
             "minorgridcolor": "white",
             "startlinecolor": "#2a3f5f"
            },
            "baxis": {
             "endlinecolor": "#2a3f5f",
             "gridcolor": "white",
             "linecolor": "white",
             "minorgridcolor": "white",
             "startlinecolor": "#2a3f5f"
            },
            "type": "carpet"
           }
          ],
          "choropleth": [
           {
            "colorbar": {
             "outlinewidth": 0,
             "ticks": ""
            },
            "type": "choropleth"
           }
          ],
          "contour": [
           {
            "colorbar": {
             "outlinewidth": 0,
             "ticks": ""
            },
            "colorscale": [
             [
              0,
              "#0d0887"
             ],
             [
              0.1111111111111111,
              "#46039f"
             ],
             [
              0.2222222222222222,
              "#7201a8"
             ],
             [
              0.3333333333333333,
              "#9c179e"
             ],
             [
              0.4444444444444444,
              "#bd3786"
             ],
             [
              0.5555555555555556,
              "#d8576b"
             ],
             [
              0.6666666666666666,
              "#ed7953"
             ],
             [
              0.7777777777777778,
              "#fb9f3a"
             ],
             [
              0.8888888888888888,
              "#fdca26"
             ],
             [
              1,
              "#f0f921"
             ]
            ],
            "type": "contour"
           }
          ],
          "contourcarpet": [
           {
            "colorbar": {
             "outlinewidth": 0,
             "ticks": ""
            },
            "type": "contourcarpet"
           }
          ],
          "heatmap": [
           {
            "colorbar": {
             "outlinewidth": 0,
             "ticks": ""
            },
            "colorscale": [
             [
              0,
              "#0d0887"
             ],
             [
              0.1111111111111111,
              "#46039f"
             ],
             [
              0.2222222222222222,
              "#7201a8"
             ],
             [
              0.3333333333333333,
              "#9c179e"
             ],
             [
              0.4444444444444444,
              "#bd3786"
             ],
             [
              0.5555555555555556,
              "#d8576b"
             ],
             [
              0.6666666666666666,
              "#ed7953"
             ],
             [
              0.7777777777777778,
              "#fb9f3a"
             ],
             [
              0.8888888888888888,
              "#fdca26"
             ],
             [
              1,
              "#f0f921"
             ]
            ],
            "type": "heatmap"
           }
          ],
          "heatmapgl": [
           {
            "colorbar": {
             "outlinewidth": 0,
             "ticks": ""
            },
            "colorscale": [
             [
              0,
              "#0d0887"
             ],
             [
              0.1111111111111111,
              "#46039f"
             ],
             [
              0.2222222222222222,
              "#7201a8"
             ],
             [
              0.3333333333333333,
              "#9c179e"
             ],
             [
              0.4444444444444444,
              "#bd3786"
             ],
             [
              0.5555555555555556,
              "#d8576b"
             ],
             [
              0.6666666666666666,
              "#ed7953"
             ],
             [
              0.7777777777777778,
              "#fb9f3a"
             ],
             [
              0.8888888888888888,
              "#fdca26"
             ],
             [
              1,
              "#f0f921"
             ]
            ],
            "type": "heatmapgl"
           }
          ],
          "histogram": [
           {
            "marker": {
             "pattern": {
              "fillmode": "overlay",
              "size": 10,
              "solidity": 0.2
             }
            },
            "type": "histogram"
           }
          ],
          "histogram2d": [
           {
            "colorbar": {
             "outlinewidth": 0,
             "ticks": ""
            },
            "colorscale": [
             [
              0,
              "#0d0887"
             ],
             [
              0.1111111111111111,
              "#46039f"
             ],
             [
              0.2222222222222222,
              "#7201a8"
             ],
             [
              0.3333333333333333,
              "#9c179e"
             ],
             [
              0.4444444444444444,
              "#bd3786"
             ],
             [
              0.5555555555555556,
              "#d8576b"
             ],
             [
              0.6666666666666666,
              "#ed7953"
             ],
             [
              0.7777777777777778,
              "#fb9f3a"
             ],
             [
              0.8888888888888888,
              "#fdca26"
             ],
             [
              1,
              "#f0f921"
             ]
            ],
            "type": "histogram2d"
           }
          ],
          "histogram2dcontour": [
           {
            "colorbar": {
             "outlinewidth": 0,
             "ticks": ""
            },
            "colorscale": [
             [
              0,
              "#0d0887"
             ],
             [
              0.1111111111111111,
              "#46039f"
             ],
             [
              0.2222222222222222,
              "#7201a8"
             ],
             [
              0.3333333333333333,
              "#9c179e"
             ],
             [
              0.4444444444444444,
              "#bd3786"
             ],
             [
              0.5555555555555556,
              "#d8576b"
             ],
             [
              0.6666666666666666,
              "#ed7953"
             ],
             [
              0.7777777777777778,
              "#fb9f3a"
             ],
             [
              0.8888888888888888,
              "#fdca26"
             ],
             [
              1,
              "#f0f921"
             ]
            ],
            "type": "histogram2dcontour"
           }
          ],
          "mesh3d": [
           {
            "colorbar": {
             "outlinewidth": 0,
             "ticks": ""
            },
            "type": "mesh3d"
           }
          ],
          "parcoords": [
           {
            "line": {
             "colorbar": {
              "outlinewidth": 0,
              "ticks": ""
             }
            },
            "type": "parcoords"
           }
          ],
          "pie": [
           {
            "automargin": true,
            "type": "pie"
           }
          ],
          "scatter": [
           {
            "fillpattern": {
             "fillmode": "overlay",
             "size": 10,
             "solidity": 0.2
            },
            "type": "scatter"
           }
          ],
          "scatter3d": [
           {
            "line": {
             "colorbar": {
              "outlinewidth": 0,
              "ticks": ""
             }
            },
            "marker": {
             "colorbar": {
              "outlinewidth": 0,
              "ticks": ""
             }
            },
            "type": "scatter3d"
           }
          ],
          "scattercarpet": [
           {
            "marker": {
             "colorbar": {
              "outlinewidth": 0,
              "ticks": ""
             }
            },
            "type": "scattercarpet"
           }
          ],
          "scattergeo": [
           {
            "marker": {
             "colorbar": {
              "outlinewidth": 0,
              "ticks": ""
             }
            },
            "type": "scattergeo"
           }
          ],
          "scattergl": [
           {
            "marker": {
             "colorbar": {
              "outlinewidth": 0,
              "ticks": ""
             }
            },
            "type": "scattergl"
           }
          ],
          "scattermapbox": [
           {
            "marker": {
             "colorbar": {
              "outlinewidth": 0,
              "ticks": ""
             }
            },
            "type": "scattermapbox"
           }
          ],
          "scatterpolar": [
           {
            "marker": {
             "colorbar": {
              "outlinewidth": 0,
              "ticks": ""
             }
            },
            "type": "scatterpolar"
           }
          ],
          "scatterpolargl": [
           {
            "marker": {
             "colorbar": {
              "outlinewidth": 0,
              "ticks": ""
             }
            },
            "type": "scatterpolargl"
           }
          ],
          "scatterternary": [
           {
            "marker": {
             "colorbar": {
              "outlinewidth": 0,
              "ticks": ""
             }
            },
            "type": "scatterternary"
           }
          ],
          "surface": [
           {
            "colorbar": {
             "outlinewidth": 0,
             "ticks": ""
            },
            "colorscale": [
             [
              0,
              "#0d0887"
             ],
             [
              0.1111111111111111,
              "#46039f"
             ],
             [
              0.2222222222222222,
              "#7201a8"
             ],
             [
              0.3333333333333333,
              "#9c179e"
             ],
             [
              0.4444444444444444,
              "#bd3786"
             ],
             [
              0.5555555555555556,
              "#d8576b"
             ],
             [
              0.6666666666666666,
              "#ed7953"
             ],
             [
              0.7777777777777778,
              "#fb9f3a"
             ],
             [
              0.8888888888888888,
              "#fdca26"
             ],
             [
              1,
              "#f0f921"
             ]
            ],
            "type": "surface"
           }
          ],
          "table": [
           {
            "cells": {
             "fill": {
              "color": "#EBF0F8"
             },
             "line": {
              "color": "white"
             }
            },
            "header": {
             "fill": {
              "color": "#C8D4E3"
             },
             "line": {
              "color": "white"
             }
            },
            "type": "table"
           }
          ]
         },
         "layout": {
          "annotationdefaults": {
           "arrowcolor": "#2a3f5f",
           "arrowhead": 0,
           "arrowwidth": 1
          },
          "autotypenumbers": "strict",
          "coloraxis": {
           "colorbar": {
            "outlinewidth": 0,
            "ticks": ""
           }
          },
          "colorscale": {
           "diverging": [
            [
             0,
             "#8e0152"
            ],
            [
             0.1,
             "#c51b7d"
            ],
            [
             0.2,
             "#de77ae"
            ],
            [
             0.3,
             "#f1b6da"
            ],
            [
             0.4,
             "#fde0ef"
            ],
            [
             0.5,
             "#f7f7f7"
            ],
            [
             0.6,
             "#e6f5d0"
            ],
            [
             0.7,
             "#b8e186"
            ],
            [
             0.8,
             "#7fbc41"
            ],
            [
             0.9,
             "#4d9221"
            ],
            [
             1,
             "#276419"
            ]
           ],
           "sequential": [
            [
             0,
             "#0d0887"
            ],
            [
             0.1111111111111111,
             "#46039f"
            ],
            [
             0.2222222222222222,
             "#7201a8"
            ],
            [
             0.3333333333333333,
             "#9c179e"
            ],
            [
             0.4444444444444444,
             "#bd3786"
            ],
            [
             0.5555555555555556,
             "#d8576b"
            ],
            [
             0.6666666666666666,
             "#ed7953"
            ],
            [
             0.7777777777777778,
             "#fb9f3a"
            ],
            [
             0.8888888888888888,
             "#fdca26"
            ],
            [
             1,
             "#f0f921"
            ]
           ],
           "sequentialminus": [
            [
             0,
             "#0d0887"
            ],
            [
             0.1111111111111111,
             "#46039f"
            ],
            [
             0.2222222222222222,
             "#7201a8"
            ],
            [
             0.3333333333333333,
             "#9c179e"
            ],
            [
             0.4444444444444444,
             "#bd3786"
            ],
            [
             0.5555555555555556,
             "#d8576b"
            ],
            [
             0.6666666666666666,
             "#ed7953"
            ],
            [
             0.7777777777777778,
             "#fb9f3a"
            ],
            [
             0.8888888888888888,
             "#fdca26"
            ],
            [
             1,
             "#f0f921"
            ]
           ]
          },
          "colorway": [
           "#636efa",
           "#EF553B",
           "#00cc96",
           "#ab63fa",
           "#FFA15A",
           "#19d3f3",
           "#FF6692",
           "#B6E880",
           "#FF97FF",
           "#FECB52"
          ],
          "font": {
           "color": "#2a3f5f"
          },
          "geo": {
           "bgcolor": "white",
           "lakecolor": "white",
           "landcolor": "#E5ECF6",
           "showlakes": true,
           "showland": true,
           "subunitcolor": "white"
          },
          "hoverlabel": {
           "align": "left"
          },
          "hovermode": "closest",
          "mapbox": {
           "style": "light"
          },
          "paper_bgcolor": "white",
          "plot_bgcolor": "#E5ECF6",
          "polar": {
           "angularaxis": {
            "gridcolor": "white",
            "linecolor": "white",
            "ticks": ""
           },
           "bgcolor": "#E5ECF6",
           "radialaxis": {
            "gridcolor": "white",
            "linecolor": "white",
            "ticks": ""
           }
          },
          "scene": {
           "xaxis": {
            "backgroundcolor": "#E5ECF6",
            "gridcolor": "white",
            "gridwidth": 2,
            "linecolor": "white",
            "showbackground": true,
            "ticks": "",
            "zerolinecolor": "white"
           },
           "yaxis": {
            "backgroundcolor": "#E5ECF6",
            "gridcolor": "white",
            "gridwidth": 2,
            "linecolor": "white",
            "showbackground": true,
            "ticks": "",
            "zerolinecolor": "white"
           },
           "zaxis": {
            "backgroundcolor": "#E5ECF6",
            "gridcolor": "white",
            "gridwidth": 2,
            "linecolor": "white",
            "showbackground": true,
            "ticks": "",
            "zerolinecolor": "white"
           }
          },
          "shapedefaults": {
           "line": {
            "color": "#2a3f5f"
           }
          },
          "ternary": {
           "aaxis": {
            "gridcolor": "white",
            "linecolor": "white",
            "ticks": ""
           },
           "baxis": {
            "gridcolor": "white",
            "linecolor": "white",
            "ticks": ""
           },
           "bgcolor": "#E5ECF6",
           "caxis": {
            "gridcolor": "white",
            "linecolor": "white",
            "ticks": ""
           }
          },
          "title": {
           "x": 0.05
          },
          "xaxis": {
           "automargin": true,
           "gridcolor": "white",
           "linecolor": "white",
           "ticks": "",
           "title": {
            "standoff": 15
           },
           "zerolinecolor": "white",
           "zerolinewidth": 2
          },
          "yaxis": {
           "automargin": true,
           "gridcolor": "white",
           "linecolor": "white",
           "ticks": "",
           "title": {
            "standoff": 15
           },
           "zerolinecolor": "white",
           "zerolinewidth": 2
          }
         }
        }
       }
      }
     },
     "metadata": {},
     "output_type": "display_data"
    }
   ],
   "source": [
    "# Plot the PMF of the scores\n",
    "fig = go.Figure()\n",
    "for game in GAMES:\n",
    "    fig.add_trace(go.Histogram(x=df[game], histnorm='probability', name=game))\n",
    "fig.update_layout(barmode='overlay')\n",
    "fig.update_traces(opacity=0.75)\n",
    "fig.show()"
   ]
  },
  {
   "attachments": {},
   "cell_type": "markdown",
   "metadata": {},
   "source": [
    "# Correlação entre desempenho e quantidade de sono"
   ]
  },
  {
   "cell_type": "code",
   "execution_count": 53,
   "metadata": {},
   "outputs": [
    {
     "data": {
      "application/vnd.plotly.v1+json": {
       "config": {
        "plotlyServerURL": "https://plot.ly"
       },
       "data": [
        {
         "alignmentgroup": "True",
         "bingroup": "x",
         "hovertemplate": "sono=%{x}<br>count=%{y}<extra></extra>",
         "legendgroup": "",
         "marker": {
          "color": "#636efa",
          "pattern": {
           "shape": ""
          }
         },
         "name": "",
         "offsetgroup": "",
         "orientation": "v",
         "showlegend": false,
         "type": "histogram",
         "x": [
          "≤6",
          "7",
          "≤6",
          "7",
          "8",
          "7",
          "7",
          "≤6",
          "8",
          "≤6",
          "8",
          "8",
          "7",
          "9",
          "≥10 ",
          "≤6",
          "8",
          "8",
          "≤6",
          "9",
          "9",
          "8",
          "≤6",
          "7",
          "7",
          "7",
          "7",
          "8",
          "8",
          "9",
          "8",
          "7",
          "7",
          "8",
          "8",
          "7",
          "≤6",
          "7",
          "7",
          "≤6",
          "7",
          "≤6",
          "8",
          "8",
          "7",
          "≤6",
          "≤6",
          "7",
          "≤6",
          "≤6",
          "7",
          "7",
          "7",
          "≤6",
          "8",
          "7",
          "≤6",
          "7",
          "≤6",
          "7",
          "≥10 ",
          null,
          null,
          null
         ],
         "xaxis": "x",
         "yaxis": "y"
        }
       ],
       "layout": {
        "barmode": "relative",
        "legend": {
         "tracegroupgap": 0
        },
        "margin": {
         "t": 60
        },
        "template": {
         "data": {
          "bar": [
           {
            "error_x": {
             "color": "#2a3f5f"
            },
            "error_y": {
             "color": "#2a3f5f"
            },
            "marker": {
             "line": {
              "color": "#E5ECF6",
              "width": 0.5
             },
             "pattern": {
              "fillmode": "overlay",
              "size": 10,
              "solidity": 0.2
             }
            },
            "type": "bar"
           }
          ],
          "barpolar": [
           {
            "marker": {
             "line": {
              "color": "#E5ECF6",
              "width": 0.5
             },
             "pattern": {
              "fillmode": "overlay",
              "size": 10,
              "solidity": 0.2
             }
            },
            "type": "barpolar"
           }
          ],
          "carpet": [
           {
            "aaxis": {
             "endlinecolor": "#2a3f5f",
             "gridcolor": "white",
             "linecolor": "white",
             "minorgridcolor": "white",
             "startlinecolor": "#2a3f5f"
            },
            "baxis": {
             "endlinecolor": "#2a3f5f",
             "gridcolor": "white",
             "linecolor": "white",
             "minorgridcolor": "white",
             "startlinecolor": "#2a3f5f"
            },
            "type": "carpet"
           }
          ],
          "choropleth": [
           {
            "colorbar": {
             "outlinewidth": 0,
             "ticks": ""
            },
            "type": "choropleth"
           }
          ],
          "contour": [
           {
            "colorbar": {
             "outlinewidth": 0,
             "ticks": ""
            },
            "colorscale": [
             [
              0,
              "#0d0887"
             ],
             [
              0.1111111111111111,
              "#46039f"
             ],
             [
              0.2222222222222222,
              "#7201a8"
             ],
             [
              0.3333333333333333,
              "#9c179e"
             ],
             [
              0.4444444444444444,
              "#bd3786"
             ],
             [
              0.5555555555555556,
              "#d8576b"
             ],
             [
              0.6666666666666666,
              "#ed7953"
             ],
             [
              0.7777777777777778,
              "#fb9f3a"
             ],
             [
              0.8888888888888888,
              "#fdca26"
             ],
             [
              1,
              "#f0f921"
             ]
            ],
            "type": "contour"
           }
          ],
          "contourcarpet": [
           {
            "colorbar": {
             "outlinewidth": 0,
             "ticks": ""
            },
            "type": "contourcarpet"
           }
          ],
          "heatmap": [
           {
            "colorbar": {
             "outlinewidth": 0,
             "ticks": ""
            },
            "colorscale": [
             [
              0,
              "#0d0887"
             ],
             [
              0.1111111111111111,
              "#46039f"
             ],
             [
              0.2222222222222222,
              "#7201a8"
             ],
             [
              0.3333333333333333,
              "#9c179e"
             ],
             [
              0.4444444444444444,
              "#bd3786"
             ],
             [
              0.5555555555555556,
              "#d8576b"
             ],
             [
              0.6666666666666666,
              "#ed7953"
             ],
             [
              0.7777777777777778,
              "#fb9f3a"
             ],
             [
              0.8888888888888888,
              "#fdca26"
             ],
             [
              1,
              "#f0f921"
             ]
            ],
            "type": "heatmap"
           }
          ],
          "heatmapgl": [
           {
            "colorbar": {
             "outlinewidth": 0,
             "ticks": ""
            },
            "colorscale": [
             [
              0,
              "#0d0887"
             ],
             [
              0.1111111111111111,
              "#46039f"
             ],
             [
              0.2222222222222222,
              "#7201a8"
             ],
             [
              0.3333333333333333,
              "#9c179e"
             ],
             [
              0.4444444444444444,
              "#bd3786"
             ],
             [
              0.5555555555555556,
              "#d8576b"
             ],
             [
              0.6666666666666666,
              "#ed7953"
             ],
             [
              0.7777777777777778,
              "#fb9f3a"
             ],
             [
              0.8888888888888888,
              "#fdca26"
             ],
             [
              1,
              "#f0f921"
             ]
            ],
            "type": "heatmapgl"
           }
          ],
          "histogram": [
           {
            "marker": {
             "pattern": {
              "fillmode": "overlay",
              "size": 10,
              "solidity": 0.2
             }
            },
            "type": "histogram"
           }
          ],
          "histogram2d": [
           {
            "colorbar": {
             "outlinewidth": 0,
             "ticks": ""
            },
            "colorscale": [
             [
              0,
              "#0d0887"
             ],
             [
              0.1111111111111111,
              "#46039f"
             ],
             [
              0.2222222222222222,
              "#7201a8"
             ],
             [
              0.3333333333333333,
              "#9c179e"
             ],
             [
              0.4444444444444444,
              "#bd3786"
             ],
             [
              0.5555555555555556,
              "#d8576b"
             ],
             [
              0.6666666666666666,
              "#ed7953"
             ],
             [
              0.7777777777777778,
              "#fb9f3a"
             ],
             [
              0.8888888888888888,
              "#fdca26"
             ],
             [
              1,
              "#f0f921"
             ]
            ],
            "type": "histogram2d"
           }
          ],
          "histogram2dcontour": [
           {
            "colorbar": {
             "outlinewidth": 0,
             "ticks": ""
            },
            "colorscale": [
             [
              0,
              "#0d0887"
             ],
             [
              0.1111111111111111,
              "#46039f"
             ],
             [
              0.2222222222222222,
              "#7201a8"
             ],
             [
              0.3333333333333333,
              "#9c179e"
             ],
             [
              0.4444444444444444,
              "#bd3786"
             ],
             [
              0.5555555555555556,
              "#d8576b"
             ],
             [
              0.6666666666666666,
              "#ed7953"
             ],
             [
              0.7777777777777778,
              "#fb9f3a"
             ],
             [
              0.8888888888888888,
              "#fdca26"
             ],
             [
              1,
              "#f0f921"
             ]
            ],
            "type": "histogram2dcontour"
           }
          ],
          "mesh3d": [
           {
            "colorbar": {
             "outlinewidth": 0,
             "ticks": ""
            },
            "type": "mesh3d"
           }
          ],
          "parcoords": [
           {
            "line": {
             "colorbar": {
              "outlinewidth": 0,
              "ticks": ""
             }
            },
            "type": "parcoords"
           }
          ],
          "pie": [
           {
            "automargin": true,
            "type": "pie"
           }
          ],
          "scatter": [
           {
            "fillpattern": {
             "fillmode": "overlay",
             "size": 10,
             "solidity": 0.2
            },
            "type": "scatter"
           }
          ],
          "scatter3d": [
           {
            "line": {
             "colorbar": {
              "outlinewidth": 0,
              "ticks": ""
             }
            },
            "marker": {
             "colorbar": {
              "outlinewidth": 0,
              "ticks": ""
             }
            },
            "type": "scatter3d"
           }
          ],
          "scattercarpet": [
           {
            "marker": {
             "colorbar": {
              "outlinewidth": 0,
              "ticks": ""
             }
            },
            "type": "scattercarpet"
           }
          ],
          "scattergeo": [
           {
            "marker": {
             "colorbar": {
              "outlinewidth": 0,
              "ticks": ""
             }
            },
            "type": "scattergeo"
           }
          ],
          "scattergl": [
           {
            "marker": {
             "colorbar": {
              "outlinewidth": 0,
              "ticks": ""
             }
            },
            "type": "scattergl"
           }
          ],
          "scattermapbox": [
           {
            "marker": {
             "colorbar": {
              "outlinewidth": 0,
              "ticks": ""
             }
            },
            "type": "scattermapbox"
           }
          ],
          "scatterpolar": [
           {
            "marker": {
             "colorbar": {
              "outlinewidth": 0,
              "ticks": ""
             }
            },
            "type": "scatterpolar"
           }
          ],
          "scatterpolargl": [
           {
            "marker": {
             "colorbar": {
              "outlinewidth": 0,
              "ticks": ""
             }
            },
            "type": "scatterpolargl"
           }
          ],
          "scatterternary": [
           {
            "marker": {
             "colorbar": {
              "outlinewidth": 0,
              "ticks": ""
             }
            },
            "type": "scatterternary"
           }
          ],
          "surface": [
           {
            "colorbar": {
             "outlinewidth": 0,
             "ticks": ""
            },
            "colorscale": [
             [
              0,
              "#0d0887"
             ],
             [
              0.1111111111111111,
              "#46039f"
             ],
             [
              0.2222222222222222,
              "#7201a8"
             ],
             [
              0.3333333333333333,
              "#9c179e"
             ],
             [
              0.4444444444444444,
              "#bd3786"
             ],
             [
              0.5555555555555556,
              "#d8576b"
             ],
             [
              0.6666666666666666,
              "#ed7953"
             ],
             [
              0.7777777777777778,
              "#fb9f3a"
             ],
             [
              0.8888888888888888,
              "#fdca26"
             ],
             [
              1,
              "#f0f921"
             ]
            ],
            "type": "surface"
           }
          ],
          "table": [
           {
            "cells": {
             "fill": {
              "color": "#EBF0F8"
             },
             "line": {
              "color": "white"
             }
            },
            "header": {
             "fill": {
              "color": "#C8D4E3"
             },
             "line": {
              "color": "white"
             }
            },
            "type": "table"
           }
          ]
         },
         "layout": {
          "annotationdefaults": {
           "arrowcolor": "#2a3f5f",
           "arrowhead": 0,
           "arrowwidth": 1
          },
          "autotypenumbers": "strict",
          "coloraxis": {
           "colorbar": {
            "outlinewidth": 0,
            "ticks": ""
           }
          },
          "colorscale": {
           "diverging": [
            [
             0,
             "#8e0152"
            ],
            [
             0.1,
             "#c51b7d"
            ],
            [
             0.2,
             "#de77ae"
            ],
            [
             0.3,
             "#f1b6da"
            ],
            [
             0.4,
             "#fde0ef"
            ],
            [
             0.5,
             "#f7f7f7"
            ],
            [
             0.6,
             "#e6f5d0"
            ],
            [
             0.7,
             "#b8e186"
            ],
            [
             0.8,
             "#7fbc41"
            ],
            [
             0.9,
             "#4d9221"
            ],
            [
             1,
             "#276419"
            ]
           ],
           "sequential": [
            [
             0,
             "#0d0887"
            ],
            [
             0.1111111111111111,
             "#46039f"
            ],
            [
             0.2222222222222222,
             "#7201a8"
            ],
            [
             0.3333333333333333,
             "#9c179e"
            ],
            [
             0.4444444444444444,
             "#bd3786"
            ],
            [
             0.5555555555555556,
             "#d8576b"
            ],
            [
             0.6666666666666666,
             "#ed7953"
            ],
            [
             0.7777777777777778,
             "#fb9f3a"
            ],
            [
             0.8888888888888888,
             "#fdca26"
            ],
            [
             1,
             "#f0f921"
            ]
           ],
           "sequentialminus": [
            [
             0,
             "#0d0887"
            ],
            [
             0.1111111111111111,
             "#46039f"
            ],
            [
             0.2222222222222222,
             "#7201a8"
            ],
            [
             0.3333333333333333,
             "#9c179e"
            ],
            [
             0.4444444444444444,
             "#bd3786"
            ],
            [
             0.5555555555555556,
             "#d8576b"
            ],
            [
             0.6666666666666666,
             "#ed7953"
            ],
            [
             0.7777777777777778,
             "#fb9f3a"
            ],
            [
             0.8888888888888888,
             "#fdca26"
            ],
            [
             1,
             "#f0f921"
            ]
           ]
          },
          "colorway": [
           "#636efa",
           "#EF553B",
           "#00cc96",
           "#ab63fa",
           "#FFA15A",
           "#19d3f3",
           "#FF6692",
           "#B6E880",
           "#FF97FF",
           "#FECB52"
          ],
          "font": {
           "color": "#2a3f5f"
          },
          "geo": {
           "bgcolor": "white",
           "lakecolor": "white",
           "landcolor": "#E5ECF6",
           "showlakes": true,
           "showland": true,
           "subunitcolor": "white"
          },
          "hoverlabel": {
           "align": "left"
          },
          "hovermode": "closest",
          "mapbox": {
           "style": "light"
          },
          "paper_bgcolor": "white",
          "plot_bgcolor": "#E5ECF6",
          "polar": {
           "angularaxis": {
            "gridcolor": "white",
            "linecolor": "white",
            "ticks": ""
           },
           "bgcolor": "#E5ECF6",
           "radialaxis": {
            "gridcolor": "white",
            "linecolor": "white",
            "ticks": ""
           }
          },
          "scene": {
           "xaxis": {
            "backgroundcolor": "#E5ECF6",
            "gridcolor": "white",
            "gridwidth": 2,
            "linecolor": "white",
            "showbackground": true,
            "ticks": "",
            "zerolinecolor": "white"
           },
           "yaxis": {
            "backgroundcolor": "#E5ECF6",
            "gridcolor": "white",
            "gridwidth": 2,
            "linecolor": "white",
            "showbackground": true,
            "ticks": "",
            "zerolinecolor": "white"
           },
           "zaxis": {
            "backgroundcolor": "#E5ECF6",
            "gridcolor": "white",
            "gridwidth": 2,
            "linecolor": "white",
            "showbackground": true,
            "ticks": "",
            "zerolinecolor": "white"
           }
          },
          "shapedefaults": {
           "line": {
            "color": "#2a3f5f"
           }
          },
          "ternary": {
           "aaxis": {
            "gridcolor": "white",
            "linecolor": "white",
            "ticks": ""
           },
           "baxis": {
            "gridcolor": "white",
            "linecolor": "white",
            "ticks": ""
           },
           "bgcolor": "#E5ECF6",
           "caxis": {
            "gridcolor": "white",
            "linecolor": "white",
            "ticks": ""
           }
          },
          "title": {
           "x": 0.05
          },
          "xaxis": {
           "automargin": true,
           "gridcolor": "white",
           "linecolor": "white",
           "ticks": "",
           "title": {
            "standoff": 15
           },
           "zerolinecolor": "white",
           "zerolinewidth": 2
          },
          "yaxis": {
           "automargin": true,
           "gridcolor": "white",
           "linecolor": "white",
           "ticks": "",
           "title": {
            "standoff": 15
           },
           "zerolinecolor": "white",
           "zerolinewidth": 2
          }
         }
        },
        "xaxis": {
         "anchor": "y",
         "domain": [
          0,
          1
         ],
         "title": {
          "text": "sono"
         }
        },
        "yaxis": {
         "anchor": "x",
         "domain": [
          0,
          1
         ],
         "title": {
          "text": "count"
         }
        }
       }
      }
     },
     "metadata": {},
     "output_type": "display_data"
    }
   ],
   "source": [
    "px.histogram(df, x='sono')"
   ]
  },
  {
   "cell_type": "code",
   "execution_count": 54,
   "metadata": {},
   "outputs": [
    {
     "data": {
      "application/vnd.plotly.v1+json": {
       "config": {
        "plotlyServerURL": "https://plot.ly"
       },
       "data": [
        {
         "alignmentgroup": "True",
         "hovertemplate": "sono=≤6<br>variable=%{x}<br>value=%{y}<extra></extra>",
         "legendgroup": "≤6",
         "marker": {
          "color": "#636efa"
         },
         "name": "≤6",
         "notched": false,
         "offsetgroup": "≤6",
         "orientation": "v",
         "showlegend": true,
         "type": "box",
         "x": [
          "Atenção",
          "Atenção",
          "Atenção",
          "Atenção",
          "Atenção",
          "Atenção",
          "Atenção",
          "Atenção",
          "Atenção",
          "Atenção",
          "Atenção",
          "Atenção",
          "Atenção",
          "Atenção",
          "Atenção",
          "Atenção",
          "Atenção",
          "Coordenação",
          "Coordenação",
          "Coordenação",
          "Coordenação",
          "Coordenação",
          "Coordenação",
          "Coordenação",
          "Coordenação",
          "Coordenação",
          "Coordenação",
          "Coordenação",
          "Coordenação",
          "Coordenação",
          "Coordenação",
          "Coordenação",
          "Coordenação",
          "Coordenação",
          "Memória",
          "Memória",
          "Memória",
          "Memória",
          "Memória",
          "Memória",
          "Memória",
          "Memória",
          "Memória",
          "Memória",
          "Memória",
          "Memória",
          "Memória",
          "Memória",
          "Memória",
          "Memória",
          "Memória",
          "Percepção",
          "Percepção",
          "Percepção",
          "Percepção",
          "Percepção",
          "Percepção",
          "Percepção",
          "Percepção",
          "Percepção",
          "Percepção",
          "Percepção",
          "Percepção",
          "Percepção",
          "Percepção",
          "Percepção",
          "Percepção",
          "Percepção",
          "Raciocínio",
          "Raciocínio",
          "Raciocínio",
          "Raciocínio",
          "Raciocínio",
          "Raciocínio",
          "Raciocínio",
          "Raciocínio",
          "Raciocínio",
          "Raciocínio",
          "Raciocínio",
          "Raciocínio",
          "Raciocínio",
          "Raciocínio",
          "Raciocínio",
          "Raciocínio",
          "Raciocínio"
         ],
         "x0": " ",
         "xaxis": "x",
         "y": [
          36,
          64,
          57,
          20,
          55,
          60,
          66,
          15,
          7,
          42,
          62,
          65,
          65,
          12,
          22,
          23,
          52,
          19.2,
          49.4,
          1.9,
          24.5,
          34.3,
          51,
          46,
          34.9,
          28.3,
          3.9,
          47.8,
          36,
          71,
          0,
          19.6,
          42.8,
          55,
          21,
          29,
          36,
          28,
          17,
          15,
          34,
          42,
          40,
          9,
          26,
          34,
          51,
          15,
          23,
          32,
          29,
          24.2,
          98.1,
          17.5,
          30.9,
          60.6,
          36.1,
          121.1,
          18.4,
          37.4,
          23.8,
          56.8,
          24.4,
          49.5,
          18.4,
          30.1,
          35.4,
          36.1,
          12,
          21,
          7,
          12,
          11,
          27,
          29,
          4,
          10,
          12,
          5,
          9,
          22,
          2,
          5,
          28,
          5
         ],
         "y0": " ",
         "yaxis": "y"
        },
        {
         "alignmentgroup": "True",
         "hovertemplate": "sono=7<br>variable=%{x}<br>value=%{y}<extra></extra>",
         "legendgroup": "7",
         "marker": {
          "color": "#EF553B"
         },
         "name": "7",
         "notched": false,
         "offsetgroup": "7",
         "orientation": "v",
         "showlegend": true,
         "type": "box",
         "x": [
          "Atenção",
          "Atenção",
          "Atenção",
          "Atenção",
          "Atenção",
          "Atenção",
          "Atenção",
          "Atenção",
          "Atenção",
          "Atenção",
          "Atenção",
          "Atenção",
          "Atenção",
          "Atenção",
          "Atenção",
          "Atenção",
          "Atenção",
          "Atenção",
          "Atenção",
          "Atenção",
          "Atenção",
          "Atenção",
          "Atenção",
          "Coordenação",
          "Coordenação",
          "Coordenação",
          "Coordenação",
          "Coordenação",
          "Coordenação",
          "Coordenação",
          "Coordenação",
          "Coordenação",
          "Coordenação",
          "Coordenação",
          "Coordenação",
          "Coordenação",
          "Coordenação",
          "Coordenação",
          "Coordenação",
          "Coordenação",
          "Coordenação",
          "Coordenação",
          "Coordenação",
          "Coordenação",
          "Coordenação",
          "Coordenação",
          "Memória",
          "Memória",
          "Memória",
          "Memória",
          "Memória",
          "Memória",
          "Memória",
          "Memória",
          "Memória",
          "Memória",
          "Memória",
          "Memória",
          "Memória",
          "Memória",
          "Memória",
          "Memória",
          "Memória",
          "Memória",
          "Memória",
          "Memória",
          "Memória",
          "Memória",
          "Memória",
          "Percepção",
          "Percepção",
          "Percepção",
          "Percepção",
          "Percepção",
          "Percepção",
          "Percepção",
          "Percepção",
          "Percepção",
          "Percepção",
          "Percepção",
          "Percepção",
          "Percepção",
          "Percepção",
          "Percepção",
          "Percepção",
          "Percepção",
          "Percepção",
          "Percepção",
          "Percepção",
          "Percepção",
          "Percepção",
          "Percepção",
          "Raciocínio",
          "Raciocínio",
          "Raciocínio",
          "Raciocínio",
          "Raciocínio",
          "Raciocínio",
          "Raciocínio",
          "Raciocínio",
          "Raciocínio",
          "Raciocínio",
          "Raciocínio",
          "Raciocínio",
          "Raciocínio",
          "Raciocínio",
          "Raciocínio",
          "Raciocínio",
          "Raciocínio",
          "Raciocínio",
          "Raciocínio",
          "Raciocínio",
          "Raciocínio",
          "Raciocínio",
          "Raciocínio"
         ],
         "x0": " ",
         "xaxis": "x",
         "y": [
          7,
          7,
          7,
          27,
          62,
          49,
          58,
          57,
          58,
          61,
          48,
          65,
          28,
          0,
          68,
          40,
          42,
          45,
          12,
          14,
          41,
          34,
          0,
          7.4,
          30.3,
          25.5,
          14.7,
          65,
          40,
          41.5,
          62.7,
          71,
          59.3,
          49,
          52,
          52.9,
          39,
          43.9,
          57.9,
          31.4,
          47.3,
          42,
          21.7,
          53,
          26.8,
          61.4,
          40,
          18,
          17,
          29,
          72,
          37,
          33,
          38,
          51,
          63,
          30,
          24,
          27,
          10,
          22,
          58,
          33,
          30,
          25,
          40,
          32,
          7,
          50,
          29.7,
          48.9,
          55.3,
          35.7,
          98.4,
          91.5,
          85.5,
          60.802119,
          80.5,
          93,
          29.9,
          55.3,
          37.1,
          78.8,
          86.5,
          24.8,
          42.7,
          79.4,
          59.9,
          17.9,
          86.8,
          22.5,
          31.2,
          15,
          7,
          3,
          4,
          37,
          34,
          30,
          7,
          18,
          21,
          18,
          20,
          13,
          11,
          22,
          11,
          3,
          16,
          3,
          30,
          2,
          5,
          29
         ],
         "y0": " ",
         "yaxis": "y"
        },
        {
         "alignmentgroup": "True",
         "hovertemplate": "sono=8<br>variable=%{x}<br>value=%{y}<extra></extra>",
         "legendgroup": "8",
         "marker": {
          "color": "#00cc96"
         },
         "name": "8",
         "notched": false,
         "offsetgroup": "8",
         "orientation": "v",
         "showlegend": true,
         "type": "box",
         "x": [
          "Atenção",
          "Atenção",
          "Atenção",
          "Atenção",
          "Atenção",
          "Atenção",
          "Atenção",
          "Atenção",
          "Atenção",
          "Atenção",
          "Atenção",
          "Atenção",
          "Atenção",
          "Atenção",
          "Atenção",
          "Coordenação",
          "Coordenação",
          "Coordenação",
          "Coordenação",
          "Coordenação",
          "Coordenação",
          "Coordenação",
          "Coordenação",
          "Coordenação",
          "Coordenação",
          "Coordenação",
          "Coordenação",
          "Coordenação",
          "Coordenação",
          "Coordenação",
          "Memória",
          "Memória",
          "Memória",
          "Memória",
          "Memória",
          "Memória",
          "Memória",
          "Memória",
          "Memória",
          "Memória",
          "Memória",
          "Memória",
          "Memória",
          "Memória",
          "Memória",
          "Percepção",
          "Percepção",
          "Percepção",
          "Percepção",
          "Percepção",
          "Percepção",
          "Percepção",
          "Percepção",
          "Percepção",
          "Percepção",
          "Percepção",
          "Percepção",
          "Percepção",
          "Percepção",
          "Percepção",
          "Raciocínio",
          "Raciocínio",
          "Raciocínio",
          "Raciocínio",
          "Raciocínio",
          "Raciocínio",
          "Raciocínio",
          "Raciocínio",
          "Raciocínio",
          "Raciocínio",
          "Raciocínio",
          "Raciocínio",
          "Raciocínio",
          "Raciocínio",
          "Raciocínio"
         ],
         "x0": " ",
         "xaxis": "x",
         "y": [
          30,
          48,
          51,
          61,
          14,
          14,
          48,
          58,
          58,
          63,
          29,
          57,
          53,
          50,
          55,
          44.4,
          51,
          35.7,
          40.5,
          14.4,
          14.4,
          26.1,
          74,
          49.9,
          75.4,
          24.9,
          41.7,
          7.2,
          49.3,
          34.2,
          38,
          23,
          51,
          56,
          33,
          33,
          40,
          56,
          68,
          39,
          46,
          16,
          25,
          32,
          38,
          60.8,
          49.5,
          43,
          42.9,
          54.8,
          54.8,
          66.7,
          86.4,
          104.7,
          55,
          35.1,
          60.6,
          48.7,
          66.3,
          54.3,
          18,
          17,
          4,
          37,
          26,
          26,
          25,
          19,
          29,
          35,
          23,
          23,
          5,
          13,
          5
         ],
         "y0": " ",
         "yaxis": "y"
        },
        {
         "alignmentgroup": "True",
         "hovertemplate": "sono=9<br>variable=%{x}<br>value=%{y}<extra></extra>",
         "legendgroup": "9",
         "marker": {
          "color": "#ab63fa"
         },
         "name": "9",
         "notched": false,
         "offsetgroup": "9",
         "orientation": "v",
         "showlegend": true,
         "type": "box",
         "x": [
          "Atenção",
          "Atenção",
          "Atenção",
          "Atenção",
          "Coordenação",
          "Coordenação",
          "Coordenação",
          "Coordenação",
          "Memória",
          "Memória",
          "Memória",
          "Memória",
          "Percepção",
          "Percepção",
          "Percepção",
          "Percepção",
          "Raciocínio",
          "Raciocínio",
          "Raciocínio",
          "Raciocínio"
         ],
         "x0": " ",
         "xaxis": "x",
         "y": [
          19,
          17,
          10,
          63,
          47.5,
          42.8,
          28.8,
          57,
          25,
          32,
          28,
          67,
          105.3,
          53.2,
          11.9,
          55,
          10,
          28,
          5,
          26
         ],
         "y0": " ",
         "yaxis": "y"
        },
        {
         "alignmentgroup": "True",
         "hovertemplate": "sono=≥10 <br>variable=%{x}<br>value=%{y}<extra></extra>",
         "legendgroup": "≥10 ",
         "marker": {
          "color": "#FFA15A"
         },
         "name": "≥10 ",
         "notched": false,
         "offsetgroup": "≥10 ",
         "orientation": "v",
         "showlegend": true,
         "type": "box",
         "x": [
          "Atenção",
          "Atenção",
          "Coordenação",
          "Coordenação",
          "Memória",
          "Memória",
          "Percepção",
          "Percepção",
          "Raciocínio",
          "Raciocínio"
         ],
         "x0": " ",
         "xaxis": "x",
         "y": [
          0,
          26,
          12.2,
          13.5,
          1,
          28,
          0,
          36.1,
          0,
          31
         ],
         "y0": " ",
         "yaxis": "y"
        }
       ],
       "layout": {
        "boxmode": "group",
        "font": {
         "size": 18
        },
        "legend": {
         "title": {
          "text": "Horas de sono"
         },
         "tracegroupgap": 0
        },
        "margin": {
         "t": 60
        },
        "template": {
         "data": {
          "bar": [
           {
            "error_x": {
             "color": "#2a3f5f"
            },
            "error_y": {
             "color": "#2a3f5f"
            },
            "marker": {
             "line": {
              "color": "#E5ECF6",
              "width": 0.5
             },
             "pattern": {
              "fillmode": "overlay",
              "size": 10,
              "solidity": 0.2
             }
            },
            "type": "bar"
           }
          ],
          "barpolar": [
           {
            "marker": {
             "line": {
              "color": "#E5ECF6",
              "width": 0.5
             },
             "pattern": {
              "fillmode": "overlay",
              "size": 10,
              "solidity": 0.2
             }
            },
            "type": "barpolar"
           }
          ],
          "carpet": [
           {
            "aaxis": {
             "endlinecolor": "#2a3f5f",
             "gridcolor": "white",
             "linecolor": "white",
             "minorgridcolor": "white",
             "startlinecolor": "#2a3f5f"
            },
            "baxis": {
             "endlinecolor": "#2a3f5f",
             "gridcolor": "white",
             "linecolor": "white",
             "minorgridcolor": "white",
             "startlinecolor": "#2a3f5f"
            },
            "type": "carpet"
           }
          ],
          "choropleth": [
           {
            "colorbar": {
             "outlinewidth": 0,
             "ticks": ""
            },
            "type": "choropleth"
           }
          ],
          "contour": [
           {
            "colorbar": {
             "outlinewidth": 0,
             "ticks": ""
            },
            "colorscale": [
             [
              0,
              "#0d0887"
             ],
             [
              0.1111111111111111,
              "#46039f"
             ],
             [
              0.2222222222222222,
              "#7201a8"
             ],
             [
              0.3333333333333333,
              "#9c179e"
             ],
             [
              0.4444444444444444,
              "#bd3786"
             ],
             [
              0.5555555555555556,
              "#d8576b"
             ],
             [
              0.6666666666666666,
              "#ed7953"
             ],
             [
              0.7777777777777778,
              "#fb9f3a"
             ],
             [
              0.8888888888888888,
              "#fdca26"
             ],
             [
              1,
              "#f0f921"
             ]
            ],
            "type": "contour"
           }
          ],
          "contourcarpet": [
           {
            "colorbar": {
             "outlinewidth": 0,
             "ticks": ""
            },
            "type": "contourcarpet"
           }
          ],
          "heatmap": [
           {
            "colorbar": {
             "outlinewidth": 0,
             "ticks": ""
            },
            "colorscale": [
             [
              0,
              "#0d0887"
             ],
             [
              0.1111111111111111,
              "#46039f"
             ],
             [
              0.2222222222222222,
              "#7201a8"
             ],
             [
              0.3333333333333333,
              "#9c179e"
             ],
             [
              0.4444444444444444,
              "#bd3786"
             ],
             [
              0.5555555555555556,
              "#d8576b"
             ],
             [
              0.6666666666666666,
              "#ed7953"
             ],
             [
              0.7777777777777778,
              "#fb9f3a"
             ],
             [
              0.8888888888888888,
              "#fdca26"
             ],
             [
              1,
              "#f0f921"
             ]
            ],
            "type": "heatmap"
           }
          ],
          "heatmapgl": [
           {
            "colorbar": {
             "outlinewidth": 0,
             "ticks": ""
            },
            "colorscale": [
             [
              0,
              "#0d0887"
             ],
             [
              0.1111111111111111,
              "#46039f"
             ],
             [
              0.2222222222222222,
              "#7201a8"
             ],
             [
              0.3333333333333333,
              "#9c179e"
             ],
             [
              0.4444444444444444,
              "#bd3786"
             ],
             [
              0.5555555555555556,
              "#d8576b"
             ],
             [
              0.6666666666666666,
              "#ed7953"
             ],
             [
              0.7777777777777778,
              "#fb9f3a"
             ],
             [
              0.8888888888888888,
              "#fdca26"
             ],
             [
              1,
              "#f0f921"
             ]
            ],
            "type": "heatmapgl"
           }
          ],
          "histogram": [
           {
            "marker": {
             "pattern": {
              "fillmode": "overlay",
              "size": 10,
              "solidity": 0.2
             }
            },
            "type": "histogram"
           }
          ],
          "histogram2d": [
           {
            "colorbar": {
             "outlinewidth": 0,
             "ticks": ""
            },
            "colorscale": [
             [
              0,
              "#0d0887"
             ],
             [
              0.1111111111111111,
              "#46039f"
             ],
             [
              0.2222222222222222,
              "#7201a8"
             ],
             [
              0.3333333333333333,
              "#9c179e"
             ],
             [
              0.4444444444444444,
              "#bd3786"
             ],
             [
              0.5555555555555556,
              "#d8576b"
             ],
             [
              0.6666666666666666,
              "#ed7953"
             ],
             [
              0.7777777777777778,
              "#fb9f3a"
             ],
             [
              0.8888888888888888,
              "#fdca26"
             ],
             [
              1,
              "#f0f921"
             ]
            ],
            "type": "histogram2d"
           }
          ],
          "histogram2dcontour": [
           {
            "colorbar": {
             "outlinewidth": 0,
             "ticks": ""
            },
            "colorscale": [
             [
              0,
              "#0d0887"
             ],
             [
              0.1111111111111111,
              "#46039f"
             ],
             [
              0.2222222222222222,
              "#7201a8"
             ],
             [
              0.3333333333333333,
              "#9c179e"
             ],
             [
              0.4444444444444444,
              "#bd3786"
             ],
             [
              0.5555555555555556,
              "#d8576b"
             ],
             [
              0.6666666666666666,
              "#ed7953"
             ],
             [
              0.7777777777777778,
              "#fb9f3a"
             ],
             [
              0.8888888888888888,
              "#fdca26"
             ],
             [
              1,
              "#f0f921"
             ]
            ],
            "type": "histogram2dcontour"
           }
          ],
          "mesh3d": [
           {
            "colorbar": {
             "outlinewidth": 0,
             "ticks": ""
            },
            "type": "mesh3d"
           }
          ],
          "parcoords": [
           {
            "line": {
             "colorbar": {
              "outlinewidth": 0,
              "ticks": ""
             }
            },
            "type": "parcoords"
           }
          ],
          "pie": [
           {
            "automargin": true,
            "type": "pie"
           }
          ],
          "scatter": [
           {
            "fillpattern": {
             "fillmode": "overlay",
             "size": 10,
             "solidity": 0.2
            },
            "type": "scatter"
           }
          ],
          "scatter3d": [
           {
            "line": {
             "colorbar": {
              "outlinewidth": 0,
              "ticks": ""
             }
            },
            "marker": {
             "colorbar": {
              "outlinewidth": 0,
              "ticks": ""
             }
            },
            "type": "scatter3d"
           }
          ],
          "scattercarpet": [
           {
            "marker": {
             "colorbar": {
              "outlinewidth": 0,
              "ticks": ""
             }
            },
            "type": "scattercarpet"
           }
          ],
          "scattergeo": [
           {
            "marker": {
             "colorbar": {
              "outlinewidth": 0,
              "ticks": ""
             }
            },
            "type": "scattergeo"
           }
          ],
          "scattergl": [
           {
            "marker": {
             "colorbar": {
              "outlinewidth": 0,
              "ticks": ""
             }
            },
            "type": "scattergl"
           }
          ],
          "scattermapbox": [
           {
            "marker": {
             "colorbar": {
              "outlinewidth": 0,
              "ticks": ""
             }
            },
            "type": "scattermapbox"
           }
          ],
          "scatterpolar": [
           {
            "marker": {
             "colorbar": {
              "outlinewidth": 0,
              "ticks": ""
             }
            },
            "type": "scatterpolar"
           }
          ],
          "scatterpolargl": [
           {
            "marker": {
             "colorbar": {
              "outlinewidth": 0,
              "ticks": ""
             }
            },
            "type": "scatterpolargl"
           }
          ],
          "scatterternary": [
           {
            "marker": {
             "colorbar": {
              "outlinewidth": 0,
              "ticks": ""
             }
            },
            "type": "scatterternary"
           }
          ],
          "surface": [
           {
            "colorbar": {
             "outlinewidth": 0,
             "ticks": ""
            },
            "colorscale": [
             [
              0,
              "#0d0887"
             ],
             [
              0.1111111111111111,
              "#46039f"
             ],
             [
              0.2222222222222222,
              "#7201a8"
             ],
             [
              0.3333333333333333,
              "#9c179e"
             ],
             [
              0.4444444444444444,
              "#bd3786"
             ],
             [
              0.5555555555555556,
              "#d8576b"
             ],
             [
              0.6666666666666666,
              "#ed7953"
             ],
             [
              0.7777777777777778,
              "#fb9f3a"
             ],
             [
              0.8888888888888888,
              "#fdca26"
             ],
             [
              1,
              "#f0f921"
             ]
            ],
            "type": "surface"
           }
          ],
          "table": [
           {
            "cells": {
             "fill": {
              "color": "#EBF0F8"
             },
             "line": {
              "color": "white"
             }
            },
            "header": {
             "fill": {
              "color": "#C8D4E3"
             },
             "line": {
              "color": "white"
             }
            },
            "type": "table"
           }
          ]
         },
         "layout": {
          "annotationdefaults": {
           "arrowcolor": "#2a3f5f",
           "arrowhead": 0,
           "arrowwidth": 1
          },
          "autotypenumbers": "strict",
          "coloraxis": {
           "colorbar": {
            "outlinewidth": 0,
            "ticks": ""
           }
          },
          "colorscale": {
           "diverging": [
            [
             0,
             "#8e0152"
            ],
            [
             0.1,
             "#c51b7d"
            ],
            [
             0.2,
             "#de77ae"
            ],
            [
             0.3,
             "#f1b6da"
            ],
            [
             0.4,
             "#fde0ef"
            ],
            [
             0.5,
             "#f7f7f7"
            ],
            [
             0.6,
             "#e6f5d0"
            ],
            [
             0.7,
             "#b8e186"
            ],
            [
             0.8,
             "#7fbc41"
            ],
            [
             0.9,
             "#4d9221"
            ],
            [
             1,
             "#276419"
            ]
           ],
           "sequential": [
            [
             0,
             "#0d0887"
            ],
            [
             0.1111111111111111,
             "#46039f"
            ],
            [
             0.2222222222222222,
             "#7201a8"
            ],
            [
             0.3333333333333333,
             "#9c179e"
            ],
            [
             0.4444444444444444,
             "#bd3786"
            ],
            [
             0.5555555555555556,
             "#d8576b"
            ],
            [
             0.6666666666666666,
             "#ed7953"
            ],
            [
             0.7777777777777778,
             "#fb9f3a"
            ],
            [
             0.8888888888888888,
             "#fdca26"
            ],
            [
             1,
             "#f0f921"
            ]
           ],
           "sequentialminus": [
            [
             0,
             "#0d0887"
            ],
            [
             0.1111111111111111,
             "#46039f"
            ],
            [
             0.2222222222222222,
             "#7201a8"
            ],
            [
             0.3333333333333333,
             "#9c179e"
            ],
            [
             0.4444444444444444,
             "#bd3786"
            ],
            [
             0.5555555555555556,
             "#d8576b"
            ],
            [
             0.6666666666666666,
             "#ed7953"
            ],
            [
             0.7777777777777778,
             "#fb9f3a"
            ],
            [
             0.8888888888888888,
             "#fdca26"
            ],
            [
             1,
             "#f0f921"
            ]
           ]
          },
          "colorway": [
           "#636efa",
           "#EF553B",
           "#00cc96",
           "#ab63fa",
           "#FFA15A",
           "#19d3f3",
           "#FF6692",
           "#B6E880",
           "#FF97FF",
           "#FECB52"
          ],
          "font": {
           "color": "#2a3f5f"
          },
          "geo": {
           "bgcolor": "white",
           "lakecolor": "white",
           "landcolor": "#E5ECF6",
           "showlakes": true,
           "showland": true,
           "subunitcolor": "white"
          },
          "hoverlabel": {
           "align": "left"
          },
          "hovermode": "closest",
          "mapbox": {
           "style": "light"
          },
          "paper_bgcolor": "white",
          "plot_bgcolor": "#E5ECF6",
          "polar": {
           "angularaxis": {
            "gridcolor": "white",
            "linecolor": "white",
            "ticks": ""
           },
           "bgcolor": "#E5ECF6",
           "radialaxis": {
            "gridcolor": "white",
            "linecolor": "white",
            "ticks": ""
           }
          },
          "scene": {
           "xaxis": {
            "backgroundcolor": "#E5ECF6",
            "gridcolor": "white",
            "gridwidth": 2,
            "linecolor": "white",
            "showbackground": true,
            "ticks": "",
            "zerolinecolor": "white"
           },
           "yaxis": {
            "backgroundcolor": "#E5ECF6",
            "gridcolor": "white",
            "gridwidth": 2,
            "linecolor": "white",
            "showbackground": true,
            "ticks": "",
            "zerolinecolor": "white"
           },
           "zaxis": {
            "backgroundcolor": "#E5ECF6",
            "gridcolor": "white",
            "gridwidth": 2,
            "linecolor": "white",
            "showbackground": true,
            "ticks": "",
            "zerolinecolor": "white"
           }
          },
          "shapedefaults": {
           "line": {
            "color": "#2a3f5f"
           }
          },
          "ternary": {
           "aaxis": {
            "gridcolor": "white",
            "linecolor": "white",
            "ticks": ""
           },
           "baxis": {
            "gridcolor": "white",
            "linecolor": "white",
            "ticks": ""
           },
           "bgcolor": "#E5ECF6",
           "caxis": {
            "gridcolor": "white",
            "linecolor": "white",
            "ticks": ""
           }
          },
          "title": {
           "x": 0.05
          },
          "xaxis": {
           "automargin": true,
           "gridcolor": "white",
           "linecolor": "white",
           "ticks": "",
           "title": {
            "standoff": 15
           },
           "zerolinecolor": "white",
           "zerolinewidth": 2
          },
          "yaxis": {
           "automargin": true,
           "gridcolor": "white",
           "linecolor": "white",
           "ticks": "",
           "title": {
            "standoff": 15
           },
           "zerolinecolor": "white",
           "zerolinewidth": 2
          }
         }
        },
        "title": {
         "text": "Distribuição das pontuações dos jogos por sono"
        },
        "xaxis": {
         "anchor": "y",
         "domain": [
          0,
          1
         ],
         "title": {
          "text": "Jogos"
         }
        },
        "yaxis": {
         "anchor": "x",
         "domain": [
          0,
          1
         ],
         "title": {
          "text": "Pontuação"
         }
        }
       }
      }
     },
     "metadata": {},
     "output_type": "display_data"
    }
   ],
   "source": [
    "fig = px.box(df, y=GAMES, color='sono')\n",
    "fig.update_layout(title='Distribuição das pontuações dos jogos por sono',\n",
    "                    xaxis_title='Jogos',\n",
    "                    yaxis_title='Pontuação',\n",
    "                    font=dict(\n",
    "                        size=18\n",
    "                    ),\n",
    "                    legend_title='Horas de sono'\n",
    ")"
   ]
  },
  {
   "cell_type": "code",
   "execution_count": 68,
   "metadata": {},
   "outputs": [
    {
     "data": {
      "application/vnd.plotly.v1+json": {
       "config": {
        "plotlyServerURL": "https://plot.ly"
       },
       "data": [
        {
         "alignmentgroup": "True",
         "hovertemplate": "safe_sleep=False<br>variable=%{x}<br>value=%{y}<extra></extra>",
         "legendgroup": "False",
         "marker": {
          "color": "#636efa"
         },
         "name": "False",
         "notched": false,
         "offsetgroup": "False",
         "orientation": "v",
         "showlegend": true,
         "type": "box",
         "x": [
          "Atenção",
          "Atenção",
          "Atenção",
          "Atenção",
          "Atenção",
          "Atenção",
          "Atenção",
          "Atenção",
          "Atenção",
          "Atenção",
          "Atenção",
          "Atenção",
          "Atenção",
          "Atenção",
          "Atenção",
          "Atenção",
          "Atenção",
          "Atenção",
          "Atenção",
          "Atenção",
          "Atenção",
          "Atenção",
          "Coordenação",
          "Coordenação",
          "Coordenação",
          "Coordenação",
          "Coordenação",
          "Coordenação",
          "Coordenação",
          "Coordenação",
          "Coordenação",
          "Coordenação",
          "Coordenação",
          "Coordenação",
          "Coordenação",
          "Coordenação",
          "Coordenação",
          "Coordenação",
          "Coordenação",
          "Coordenação",
          "Coordenação",
          "Coordenação",
          "Coordenação",
          "Coordenação",
          "Memória",
          "Memória",
          "Memória",
          "Memória",
          "Memória",
          "Memória",
          "Memória",
          "Memória",
          "Memória",
          "Memória",
          "Memória",
          "Memória",
          "Memória",
          "Memória",
          "Memória",
          "Memória",
          "Memória",
          "Memória",
          "Memória",
          "Memória",
          "Memória",
          "Memória",
          "Percepção",
          "Percepção",
          "Percepção",
          "Percepção",
          "Percepção",
          "Percepção",
          "Percepção",
          "Percepção",
          "Percepção",
          "Percepção",
          "Percepção",
          "Percepção",
          "Percepção",
          "Percepção",
          "Percepção",
          "Percepção",
          "Percepção",
          "Percepção",
          "Percepção",
          "Percepção",
          "Percepção",
          "Percepção",
          "Raciocínio",
          "Raciocínio",
          "Raciocínio",
          "Raciocínio",
          "Raciocínio",
          "Raciocínio",
          "Raciocínio",
          "Raciocínio",
          "Raciocínio",
          "Raciocínio",
          "Raciocínio",
          "Raciocínio",
          "Raciocínio",
          "Raciocínio",
          "Raciocínio",
          "Raciocínio",
          "Raciocínio",
          "Raciocínio",
          "Raciocínio",
          "Raciocínio",
          "Raciocínio",
          "Raciocínio"
         ],
         "x0": " ",
         "xaxis": "x",
         "y": [
          36,
          64,
          57,
          20,
          0,
          55,
          60,
          66,
          15,
          7,
          42,
          62,
          65,
          65,
          12,
          22,
          23,
          52,
          26,
          null,
          null,
          null,
          19.2,
          49.4,
          1.9,
          24.5,
          12.2,
          34.3,
          51,
          46,
          34.9,
          28.3,
          3.9,
          47.8,
          36,
          71,
          0,
          19.6,
          42.8,
          55,
          13.5,
          null,
          null,
          null,
          21,
          29,
          36,
          28,
          1,
          17,
          15,
          34,
          42,
          40,
          9,
          26,
          34,
          51,
          15,
          23,
          32,
          29,
          28,
          null,
          null,
          null,
          24.2,
          98.1,
          17.5,
          30.9,
          0,
          60.6,
          36.1,
          121.1,
          18.4,
          37.4,
          23.8,
          56.8,
          24.4,
          49.5,
          18.4,
          30.1,
          35.4,
          36.1,
          36.1,
          null,
          null,
          null,
          12,
          21,
          7,
          12,
          0,
          11,
          27,
          29,
          4,
          10,
          12,
          5,
          9,
          22,
          2,
          5,
          28,
          5,
          31,
          null,
          null,
          null
         ],
         "y0": " ",
         "yaxis": "y"
        },
        {
         "alignmentgroup": "True",
         "hovertemplate": "safe_sleep=True<br>variable=%{x}<br>value=%{y}<extra></extra>",
         "legendgroup": "True",
         "marker": {
          "color": "#EF553B"
         },
         "name": "True",
         "notched": false,
         "offsetgroup": "True",
         "orientation": "v",
         "showlegend": true,
         "type": "box",
         "x": [
          "Atenção",
          "Atenção",
          "Atenção",
          "Atenção",
          "Atenção",
          "Atenção",
          "Atenção",
          "Atenção",
          "Atenção",
          "Atenção",
          "Atenção",
          "Atenção",
          "Atenção",
          "Atenção",
          "Atenção",
          "Atenção",
          "Atenção",
          "Atenção",
          "Atenção",
          "Atenção",
          "Atenção",
          "Atenção",
          "Atenção",
          "Atenção",
          "Atenção",
          "Atenção",
          "Atenção",
          "Atenção",
          "Atenção",
          "Atenção",
          "Atenção",
          "Atenção",
          "Atenção",
          "Atenção",
          "Atenção",
          "Atenção",
          "Atenção",
          "Atenção",
          "Atenção",
          "Atenção",
          "Coordenação",
          "Coordenação",
          "Coordenação",
          "Coordenação",
          "Coordenação",
          "Coordenação",
          "Coordenação",
          "Coordenação",
          "Coordenação",
          "Coordenação",
          "Coordenação",
          "Coordenação",
          "Coordenação",
          "Coordenação",
          "Coordenação",
          "Coordenação",
          "Coordenação",
          "Coordenação",
          "Coordenação",
          "Coordenação",
          "Coordenação",
          "Coordenação",
          "Coordenação",
          "Coordenação",
          "Coordenação",
          "Coordenação",
          "Coordenação",
          "Coordenação",
          "Coordenação",
          "Coordenação",
          "Coordenação",
          "Coordenação",
          "Coordenação",
          "Coordenação",
          "Coordenação",
          "Coordenação",
          "Coordenação",
          "Coordenação",
          "Coordenação",
          "Coordenação",
          "Memória",
          "Memória",
          "Memória",
          "Memória",
          "Memória",
          "Memória",
          "Memória",
          "Memória",
          "Memória",
          "Memória",
          "Memória",
          "Memória",
          "Memória",
          "Memória",
          "Memória",
          "Memória",
          "Memória",
          "Memória",
          "Memória",
          "Memória",
          "Memória",
          "Memória",
          "Memória",
          "Memória",
          "Memória",
          "Memória",
          "Memória",
          "Memória",
          "Memória",
          "Memória",
          "Memória",
          "Memória",
          "Memória",
          "Memória",
          "Memória",
          "Memória",
          "Memória",
          "Memória",
          "Memória",
          "Memória",
          "Percepção",
          "Percepção",
          "Percepção",
          "Percepção",
          "Percepção",
          "Percepção",
          "Percepção",
          "Percepção",
          "Percepção",
          "Percepção",
          "Percepção",
          "Percepção",
          "Percepção",
          "Percepção",
          "Percepção",
          "Percepção",
          "Percepção",
          "Percepção",
          "Percepção",
          "Percepção",
          "Percepção",
          "Percepção",
          "Percepção",
          "Percepção",
          "Percepção",
          "Percepção",
          "Percepção",
          "Percepção",
          "Percepção",
          "Percepção",
          "Percepção",
          "Percepção",
          "Percepção",
          "Percepção",
          "Percepção",
          "Percepção",
          "Percepção",
          "Percepção",
          "Percepção",
          "Percepção",
          "Raciocínio",
          "Raciocínio",
          "Raciocínio",
          "Raciocínio",
          "Raciocínio",
          "Raciocínio",
          "Raciocínio",
          "Raciocínio",
          "Raciocínio",
          "Raciocínio",
          "Raciocínio",
          "Raciocínio",
          "Raciocínio",
          "Raciocínio",
          "Raciocínio",
          "Raciocínio",
          "Raciocínio",
          "Raciocínio",
          "Raciocínio",
          "Raciocínio",
          "Raciocínio",
          "Raciocínio",
          "Raciocínio",
          "Raciocínio",
          "Raciocínio",
          "Raciocínio",
          "Raciocínio",
          "Raciocínio",
          "Raciocínio",
          "Raciocínio",
          "Raciocínio",
          "Raciocínio",
          "Raciocínio",
          "Raciocínio",
          "Raciocínio",
          "Raciocínio",
          "Raciocínio",
          "Raciocínio",
          "Raciocínio",
          "Raciocínio"
         ],
         "x0": " ",
         "xaxis": "x",
         "y": [
          7,
          7,
          30,
          7,
          27,
          48,
          51,
          61,
          62,
          19,
          14,
          14,
          17,
          10,
          48,
          49,
          58,
          57,
          58,
          58,
          58,
          63,
          63,
          61,
          48,
          29,
          57,
          65,
          0,
          68,
          53,
          50,
          40,
          42,
          45,
          12,
          14,
          55,
          41,
          34,
          7.4,
          30.3,
          44.4,
          25.5,
          14.7,
          51,
          35.7,
          40.5,
          65,
          47.5,
          14.4,
          14.4,
          42.8,
          28.8,
          26.1,
          40,
          41.5,
          62.7,
          71,
          74,
          49.9,
          57,
          75.4,
          59.3,
          49,
          24.9,
          41.7,
          52,
          39,
          43.9,
          7.2,
          49.3,
          57.9,
          31.4,
          47.3,
          42,
          21.7,
          34.2,
          53,
          26.8,
          40,
          18,
          38,
          17,
          29,
          23,
          51,
          56,
          72,
          25,
          33,
          33,
          32,
          28,
          40,
          37,
          33,
          38,
          51,
          56,
          68,
          67,
          39,
          63,
          30,
          46,
          16,
          24,
          10,
          22,
          25,
          32,
          58,
          33,
          30,
          25,
          40,
          38,
          32,
          7,
          29.7,
          48.9,
          60.8,
          55.3,
          35.7,
          49.5,
          43,
          42.9,
          98.4,
          105.3,
          54.8,
          54.8,
          53.2,
          11.9,
          66.7,
          91.5,
          85.5,
          60.802119,
          80.5,
          86.4,
          104.7,
          55,
          55,
          93,
          29.9,
          35.1,
          60.6,
          55.3,
          78.8,
          86.5,
          48.7,
          66.3,
          24.8,
          42.7,
          79.4,
          59.9,
          17.9,
          54.3,
          86.8,
          22.5,
          15,
          7,
          18,
          3,
          4,
          17,
          4,
          37,
          37,
          10,
          26,
          26,
          28,
          5,
          25,
          34,
          30,
          7,
          18,
          19,
          29,
          26,
          35,
          21,
          18,
          23,
          23,
          20,
          11,
          22,
          5,
          13,
          11,
          3,
          16,
          3,
          30,
          5,
          2,
          5
         ],
         "y0": " ",
         "yaxis": "y"
        }
       ],
       "layout": {
        "boxmode": "group",
        "font": {
         "size": 18
        },
        "legend": {
         "title": {
          "text": "Sono saudável"
         },
         "tracegroupgap": 0
        },
        "margin": {
         "t": 60
        },
        "template": {
         "data": {
          "bar": [
           {
            "error_x": {
             "color": "#2a3f5f"
            },
            "error_y": {
             "color": "#2a3f5f"
            },
            "marker": {
             "line": {
              "color": "#E5ECF6",
              "width": 0.5
             },
             "pattern": {
              "fillmode": "overlay",
              "size": 10,
              "solidity": 0.2
             }
            },
            "type": "bar"
           }
          ],
          "barpolar": [
           {
            "marker": {
             "line": {
              "color": "#E5ECF6",
              "width": 0.5
             },
             "pattern": {
              "fillmode": "overlay",
              "size": 10,
              "solidity": 0.2
             }
            },
            "type": "barpolar"
           }
          ],
          "carpet": [
           {
            "aaxis": {
             "endlinecolor": "#2a3f5f",
             "gridcolor": "white",
             "linecolor": "white",
             "minorgridcolor": "white",
             "startlinecolor": "#2a3f5f"
            },
            "baxis": {
             "endlinecolor": "#2a3f5f",
             "gridcolor": "white",
             "linecolor": "white",
             "minorgridcolor": "white",
             "startlinecolor": "#2a3f5f"
            },
            "type": "carpet"
           }
          ],
          "choropleth": [
           {
            "colorbar": {
             "outlinewidth": 0,
             "ticks": ""
            },
            "type": "choropleth"
           }
          ],
          "contour": [
           {
            "colorbar": {
             "outlinewidth": 0,
             "ticks": ""
            },
            "colorscale": [
             [
              0,
              "#0d0887"
             ],
             [
              0.1111111111111111,
              "#46039f"
             ],
             [
              0.2222222222222222,
              "#7201a8"
             ],
             [
              0.3333333333333333,
              "#9c179e"
             ],
             [
              0.4444444444444444,
              "#bd3786"
             ],
             [
              0.5555555555555556,
              "#d8576b"
             ],
             [
              0.6666666666666666,
              "#ed7953"
             ],
             [
              0.7777777777777778,
              "#fb9f3a"
             ],
             [
              0.8888888888888888,
              "#fdca26"
             ],
             [
              1,
              "#f0f921"
             ]
            ],
            "type": "contour"
           }
          ],
          "contourcarpet": [
           {
            "colorbar": {
             "outlinewidth": 0,
             "ticks": ""
            },
            "type": "contourcarpet"
           }
          ],
          "heatmap": [
           {
            "colorbar": {
             "outlinewidth": 0,
             "ticks": ""
            },
            "colorscale": [
             [
              0,
              "#0d0887"
             ],
             [
              0.1111111111111111,
              "#46039f"
             ],
             [
              0.2222222222222222,
              "#7201a8"
             ],
             [
              0.3333333333333333,
              "#9c179e"
             ],
             [
              0.4444444444444444,
              "#bd3786"
             ],
             [
              0.5555555555555556,
              "#d8576b"
             ],
             [
              0.6666666666666666,
              "#ed7953"
             ],
             [
              0.7777777777777778,
              "#fb9f3a"
             ],
             [
              0.8888888888888888,
              "#fdca26"
             ],
             [
              1,
              "#f0f921"
             ]
            ],
            "type": "heatmap"
           }
          ],
          "heatmapgl": [
           {
            "colorbar": {
             "outlinewidth": 0,
             "ticks": ""
            },
            "colorscale": [
             [
              0,
              "#0d0887"
             ],
             [
              0.1111111111111111,
              "#46039f"
             ],
             [
              0.2222222222222222,
              "#7201a8"
             ],
             [
              0.3333333333333333,
              "#9c179e"
             ],
             [
              0.4444444444444444,
              "#bd3786"
             ],
             [
              0.5555555555555556,
              "#d8576b"
             ],
             [
              0.6666666666666666,
              "#ed7953"
             ],
             [
              0.7777777777777778,
              "#fb9f3a"
             ],
             [
              0.8888888888888888,
              "#fdca26"
             ],
             [
              1,
              "#f0f921"
             ]
            ],
            "type": "heatmapgl"
           }
          ],
          "histogram": [
           {
            "marker": {
             "pattern": {
              "fillmode": "overlay",
              "size": 10,
              "solidity": 0.2
             }
            },
            "type": "histogram"
           }
          ],
          "histogram2d": [
           {
            "colorbar": {
             "outlinewidth": 0,
             "ticks": ""
            },
            "colorscale": [
             [
              0,
              "#0d0887"
             ],
             [
              0.1111111111111111,
              "#46039f"
             ],
             [
              0.2222222222222222,
              "#7201a8"
             ],
             [
              0.3333333333333333,
              "#9c179e"
             ],
             [
              0.4444444444444444,
              "#bd3786"
             ],
             [
              0.5555555555555556,
              "#d8576b"
             ],
             [
              0.6666666666666666,
              "#ed7953"
             ],
             [
              0.7777777777777778,
              "#fb9f3a"
             ],
             [
              0.8888888888888888,
              "#fdca26"
             ],
             [
              1,
              "#f0f921"
             ]
            ],
            "type": "histogram2d"
           }
          ],
          "histogram2dcontour": [
           {
            "colorbar": {
             "outlinewidth": 0,
             "ticks": ""
            },
            "colorscale": [
             [
              0,
              "#0d0887"
             ],
             [
              0.1111111111111111,
              "#46039f"
             ],
             [
              0.2222222222222222,
              "#7201a8"
             ],
             [
              0.3333333333333333,
              "#9c179e"
             ],
             [
              0.4444444444444444,
              "#bd3786"
             ],
             [
              0.5555555555555556,
              "#d8576b"
             ],
             [
              0.6666666666666666,
              "#ed7953"
             ],
             [
              0.7777777777777778,
              "#fb9f3a"
             ],
             [
              0.8888888888888888,
              "#fdca26"
             ],
             [
              1,
              "#f0f921"
             ]
            ],
            "type": "histogram2dcontour"
           }
          ],
          "mesh3d": [
           {
            "colorbar": {
             "outlinewidth": 0,
             "ticks": ""
            },
            "type": "mesh3d"
           }
          ],
          "parcoords": [
           {
            "line": {
             "colorbar": {
              "outlinewidth": 0,
              "ticks": ""
             }
            },
            "type": "parcoords"
           }
          ],
          "pie": [
           {
            "automargin": true,
            "type": "pie"
           }
          ],
          "scatter": [
           {
            "fillpattern": {
             "fillmode": "overlay",
             "size": 10,
             "solidity": 0.2
            },
            "type": "scatter"
           }
          ],
          "scatter3d": [
           {
            "line": {
             "colorbar": {
              "outlinewidth": 0,
              "ticks": ""
             }
            },
            "marker": {
             "colorbar": {
              "outlinewidth": 0,
              "ticks": ""
             }
            },
            "type": "scatter3d"
           }
          ],
          "scattercarpet": [
           {
            "marker": {
             "colorbar": {
              "outlinewidth": 0,
              "ticks": ""
             }
            },
            "type": "scattercarpet"
           }
          ],
          "scattergeo": [
           {
            "marker": {
             "colorbar": {
              "outlinewidth": 0,
              "ticks": ""
             }
            },
            "type": "scattergeo"
           }
          ],
          "scattergl": [
           {
            "marker": {
             "colorbar": {
              "outlinewidth": 0,
              "ticks": ""
             }
            },
            "type": "scattergl"
           }
          ],
          "scattermapbox": [
           {
            "marker": {
             "colorbar": {
              "outlinewidth": 0,
              "ticks": ""
             }
            },
            "type": "scattermapbox"
           }
          ],
          "scatterpolar": [
           {
            "marker": {
             "colorbar": {
              "outlinewidth": 0,
              "ticks": ""
             }
            },
            "type": "scatterpolar"
           }
          ],
          "scatterpolargl": [
           {
            "marker": {
             "colorbar": {
              "outlinewidth": 0,
              "ticks": ""
             }
            },
            "type": "scatterpolargl"
           }
          ],
          "scatterternary": [
           {
            "marker": {
             "colorbar": {
              "outlinewidth": 0,
              "ticks": ""
             }
            },
            "type": "scatterternary"
           }
          ],
          "surface": [
           {
            "colorbar": {
             "outlinewidth": 0,
             "ticks": ""
            },
            "colorscale": [
             [
              0,
              "#0d0887"
             ],
             [
              0.1111111111111111,
              "#46039f"
             ],
             [
              0.2222222222222222,
              "#7201a8"
             ],
             [
              0.3333333333333333,
              "#9c179e"
             ],
             [
              0.4444444444444444,
              "#bd3786"
             ],
             [
              0.5555555555555556,
              "#d8576b"
             ],
             [
              0.6666666666666666,
              "#ed7953"
             ],
             [
              0.7777777777777778,
              "#fb9f3a"
             ],
             [
              0.8888888888888888,
              "#fdca26"
             ],
             [
              1,
              "#f0f921"
             ]
            ],
            "type": "surface"
           }
          ],
          "table": [
           {
            "cells": {
             "fill": {
              "color": "#EBF0F8"
             },
             "line": {
              "color": "white"
             }
            },
            "header": {
             "fill": {
              "color": "#C8D4E3"
             },
             "line": {
              "color": "white"
             }
            },
            "type": "table"
           }
          ]
         },
         "layout": {
          "annotationdefaults": {
           "arrowcolor": "#2a3f5f",
           "arrowhead": 0,
           "arrowwidth": 1
          },
          "autotypenumbers": "strict",
          "coloraxis": {
           "colorbar": {
            "outlinewidth": 0,
            "ticks": ""
           }
          },
          "colorscale": {
           "diverging": [
            [
             0,
             "#8e0152"
            ],
            [
             0.1,
             "#c51b7d"
            ],
            [
             0.2,
             "#de77ae"
            ],
            [
             0.3,
             "#f1b6da"
            ],
            [
             0.4,
             "#fde0ef"
            ],
            [
             0.5,
             "#f7f7f7"
            ],
            [
             0.6,
             "#e6f5d0"
            ],
            [
             0.7,
             "#b8e186"
            ],
            [
             0.8,
             "#7fbc41"
            ],
            [
             0.9,
             "#4d9221"
            ],
            [
             1,
             "#276419"
            ]
           ],
           "sequential": [
            [
             0,
             "#0d0887"
            ],
            [
             0.1111111111111111,
             "#46039f"
            ],
            [
             0.2222222222222222,
             "#7201a8"
            ],
            [
             0.3333333333333333,
             "#9c179e"
            ],
            [
             0.4444444444444444,
             "#bd3786"
            ],
            [
             0.5555555555555556,
             "#d8576b"
            ],
            [
             0.6666666666666666,
             "#ed7953"
            ],
            [
             0.7777777777777778,
             "#fb9f3a"
            ],
            [
             0.8888888888888888,
             "#fdca26"
            ],
            [
             1,
             "#f0f921"
            ]
           ],
           "sequentialminus": [
            [
             0,
             "#0d0887"
            ],
            [
             0.1111111111111111,
             "#46039f"
            ],
            [
             0.2222222222222222,
             "#7201a8"
            ],
            [
             0.3333333333333333,
             "#9c179e"
            ],
            [
             0.4444444444444444,
             "#bd3786"
            ],
            [
             0.5555555555555556,
             "#d8576b"
            ],
            [
             0.6666666666666666,
             "#ed7953"
            ],
            [
             0.7777777777777778,
             "#fb9f3a"
            ],
            [
             0.8888888888888888,
             "#fdca26"
            ],
            [
             1,
             "#f0f921"
            ]
           ]
          },
          "colorway": [
           "#636efa",
           "#EF553B",
           "#00cc96",
           "#ab63fa",
           "#FFA15A",
           "#19d3f3",
           "#FF6692",
           "#B6E880",
           "#FF97FF",
           "#FECB52"
          ],
          "font": {
           "color": "#2a3f5f"
          },
          "geo": {
           "bgcolor": "white",
           "lakecolor": "white",
           "landcolor": "#E5ECF6",
           "showlakes": true,
           "showland": true,
           "subunitcolor": "white"
          },
          "hoverlabel": {
           "align": "left"
          },
          "hovermode": "closest",
          "mapbox": {
           "style": "light"
          },
          "paper_bgcolor": "white",
          "plot_bgcolor": "#E5ECF6",
          "polar": {
           "angularaxis": {
            "gridcolor": "white",
            "linecolor": "white",
            "ticks": ""
           },
           "bgcolor": "#E5ECF6",
           "radialaxis": {
            "gridcolor": "white",
            "linecolor": "white",
            "ticks": ""
           }
          },
          "scene": {
           "xaxis": {
            "backgroundcolor": "#E5ECF6",
            "gridcolor": "white",
            "gridwidth": 2,
            "linecolor": "white",
            "showbackground": true,
            "ticks": "",
            "zerolinecolor": "white"
           },
           "yaxis": {
            "backgroundcolor": "#E5ECF6",
            "gridcolor": "white",
            "gridwidth": 2,
            "linecolor": "white",
            "showbackground": true,
            "ticks": "",
            "zerolinecolor": "white"
           },
           "zaxis": {
            "backgroundcolor": "#E5ECF6",
            "gridcolor": "white",
            "gridwidth": 2,
            "linecolor": "white",
            "showbackground": true,
            "ticks": "",
            "zerolinecolor": "white"
           }
          },
          "shapedefaults": {
           "line": {
            "color": "#2a3f5f"
           }
          },
          "ternary": {
           "aaxis": {
            "gridcolor": "white",
            "linecolor": "white",
            "ticks": ""
           },
           "baxis": {
            "gridcolor": "white",
            "linecolor": "white",
            "ticks": ""
           },
           "bgcolor": "#E5ECF6",
           "caxis": {
            "gridcolor": "white",
            "linecolor": "white",
            "ticks": ""
           }
          },
          "title": {
           "x": 0.05
          },
          "xaxis": {
           "automargin": true,
           "gridcolor": "white",
           "linecolor": "white",
           "ticks": "",
           "title": {
            "standoff": 15
           },
           "zerolinecolor": "white",
           "zerolinewidth": 2
          },
          "yaxis": {
           "automargin": true,
           "gridcolor": "white",
           "linecolor": "white",
           "ticks": "",
           "title": {
            "standoff": 15
           },
           "zerolinecolor": "white",
           "zerolinewidth": 2
          }
         }
        },
        "title": {
         "text": "Distribuição das pontuações dos jogos por sono"
        },
        "xaxis": {
         "anchor": "y",
         "domain": [
          0,
          1
         ],
         "title": {
          "text": "Jogos"
         }
        },
        "yaxis": {
         "anchor": "x",
         "domain": [
          0,
          1
         ],
         "title": {
          "text": "Pontuação"
         }
        }
       }
      }
     },
     "metadata": {},
     "output_type": "display_data"
    }
   ],
   "source": [
    "df_sleep = df.copy()\n",
    "df_sleep['safe_sleep'] = df_sleep['sono'].apply(lambda x: x in ['7', '8', '9'])\n",
    "\n",
    "fig = px.box(df_sleep, y=GAMES, color='safe_sleep')\n",
    "fig.update_layout(title='Distribuição das pontuações dos jogos por sono',\n",
    "                    xaxis_title='Jogos',\n",
    "                    yaxis_title='Pontuação',\n",
    "                    font=dict(\n",
    "                        size=18\n",
    "                    ),\n",
    "                    legend_title='Sono saudável'\n",
    ")"
   ]
  },
  {
   "cell_type": "code",
   "execution_count": 72,
   "metadata": {},
   "outputs": [
    {
     "name": "stdout",
     "output_type": "stream",
     "text": [
      "Atenção & $0.5789 \\pm 11.91$ & 0.0 & 18.739 \\\\\n",
      "Coordenação & $9.8939 \\pm 10.19$ & 0.062 & 14.653 \\\\\n",
      "Memória & $9.5329 \\pm 8.19$ & 0.087 & 11.22 \\\\\n",
      "Percepção & $19.5885 \\pm 14.33$ & 0.116 & 19.376 \\\\\n",
      "Raciocínio & $4.0118 \\pm 5.86$ & 0.032 & 8.835 \\\\\n"
     ]
    }
   ],
   "source": [
    "for game in GAMES:\n",
    "    model = smf.ols(formula=game+' ~ safe_sleep', data=df_sleep)\n",
    "    results = model.fit()\n",
    "\n",
    "    # print(f\"Game: {game}\")\n",
    "    # # print(results.summary())\n",
    "    # print('Intercept: ', results.params[0])\n",
    "    # print('Slope: ', results.params[1])\n",
    "    # print('Slope confidence interval 95%: ', results.conf_int()[0].values[1], ', ', results.conf_int()[1].values[1])\n",
    "    # print('R2: ', results.rsquared)\n",
    "    # print()\n",
    "\n",
    "    print(f\"{game} & \", end='')\n",
    "    print(f\"${round(results.params[1], 4)} \\pm {round(results.conf_int()[1].values[1] - results.params[1], 2)}$ & \", end='')\n",
    "    print(f\"{round(results.rsquared, 3)} & \", end='')\n",
    "    print(f\"{round(np.mean(np.abs(results.resid)), 3)} \\\\\\\\\", end='')\n",
    "    print()\n"
   ]
  },
  {
   "attachments": {},
   "cell_type": "markdown",
   "metadata": {},
   "source": [
    "# Correlação entre desempenho e experiência com jogos"
   ]
  },
  {
   "cell_type": "code",
   "execution_count": 74,
   "metadata": {},
   "outputs": [],
   "source": [
    "px.histogram(df, x='experience')\n",
    "\n",
    "df['experience'] = df['experience'].astype(int)"
   ]
  },
  {
   "cell_type": "code",
   "execution_count": 75,
   "metadata": {},
   "outputs": [
    {
     "data": {
      "application/vnd.plotly.v1+json": {
       "config": {
        "plotlyServerURL": "https://plot.ly"
       },
       "data": [
        {
         "alignmentgroup": "True",
         "hovertemplate": "experience=0<br>variable=%{x}<br>value=%{y}<extra></extra>",
         "legendgroup": "0",
         "marker": {
          "color": "#636efa"
         },
         "name": "0",
         "notched": false,
         "offsetgroup": "0",
         "orientation": "v",
         "showlegend": true,
         "type": "box",
         "x": [
          "Atenção",
          "Atenção",
          "Atenção",
          "Coordenação",
          "Coordenação",
          "Coordenação",
          "Memória",
          "Memória",
          "Memória",
          "Percepção",
          "Percepção",
          "Percepção",
          "Raciocínio",
          "Raciocínio",
          "Raciocínio"
         ],
         "x0": " ",
         "xaxis": "x",
         "y": [
          57,
          53,
          55,
          1.9,
          7.2,
          34.2,
          36,
          25,
          38,
          17.5,
          48.7,
          54.3,
          7,
          5,
          5
         ],
         "y0": " ",
         "yaxis": "y"
        },
        {
         "alignmentgroup": "True",
         "hovertemplate": "experience=1<br>variable=%{x}<br>value=%{y}<extra></extra>",
         "legendgroup": "1",
         "marker": {
          "color": "#EF553B"
         },
         "name": "1",
         "notched": false,
         "offsetgroup": "1",
         "orientation": "v",
         "showlegend": true,
         "type": "box",
         "x": [
          "Atenção",
          "Atenção",
          "Atenção",
          "Atenção",
          "Atenção",
          "Atenção",
          "Atenção",
          "Atenção",
          "Atenção",
          "Coordenação",
          "Coordenação",
          "Coordenação",
          "Coordenação",
          "Coordenação",
          "Coordenação",
          "Coordenação",
          "Coordenação",
          "Coordenação",
          "Memória",
          "Memória",
          "Memória",
          "Memória",
          "Memória",
          "Memória",
          "Memória",
          "Memória",
          "Memória",
          "Percepção",
          "Percepção",
          "Percepção",
          "Percepção",
          "Percepção",
          "Percepção",
          "Percepção",
          "Percepção",
          "Percepção",
          "Raciocínio",
          "Raciocínio",
          "Raciocínio",
          "Raciocínio",
          "Raciocínio",
          "Raciocínio",
          "Raciocínio",
          "Raciocínio",
          "Raciocínio"
         ],
         "x0": " ",
         "xaxis": "x",
         "y": [
          19,
          15,
          45,
          22,
          23,
          34,
          52,
          26,
          null,
          47.5,
          34.9,
          47.3,
          19.6,
          42.8,
          26.8,
          55,
          13.5,
          null,
          25,
          42,
          30,
          23,
          32,
          7,
          29,
          28,
          null,
          105.3,
          18.4,
          79.4,
          30.1,
          35.4,
          22.5,
          36.1,
          36.1,
          null,
          10,
          4,
          16,
          5,
          28,
          5,
          5,
          31,
          null
         ],
         "y0": " ",
         "yaxis": "y"
        },
        {
         "alignmentgroup": "True",
         "hovertemplate": "experience=2<br>variable=%{x}<br>value=%{y}<extra></extra>",
         "legendgroup": "2",
         "marker": {
          "color": "#00cc96"
         },
         "name": "2",
         "notched": false,
         "offsetgroup": "2",
         "orientation": "v",
         "showlegend": true,
         "type": "box",
         "x": [
          "Atenção",
          "Atenção",
          "Atenção",
          "Atenção",
          "Atenção",
          "Atenção",
          "Atenção",
          "Atenção",
          "Atenção",
          "Atenção",
          "Atenção",
          "Atenção",
          "Atenção",
          "Atenção",
          "Atenção",
          "Atenção",
          "Atenção",
          "Atenção",
          "Atenção",
          "Coordenação",
          "Coordenação",
          "Coordenação",
          "Coordenação",
          "Coordenação",
          "Coordenação",
          "Coordenação",
          "Coordenação",
          "Coordenação",
          "Coordenação",
          "Coordenação",
          "Coordenação",
          "Coordenação",
          "Coordenação",
          "Coordenação",
          "Coordenação",
          "Coordenação",
          "Coordenação",
          "Coordenação",
          "Memória",
          "Memória",
          "Memória",
          "Memória",
          "Memória",
          "Memória",
          "Memória",
          "Memória",
          "Memória",
          "Memória",
          "Memória",
          "Memória",
          "Memória",
          "Memória",
          "Memória",
          "Memória",
          "Memória",
          "Memória",
          "Memória",
          "Percepção",
          "Percepção",
          "Percepção",
          "Percepção",
          "Percepção",
          "Percepção",
          "Percepção",
          "Percepção",
          "Percepção",
          "Percepção",
          "Percepção",
          "Percepção",
          "Percepção",
          "Percepção",
          "Percepção",
          "Percepção",
          "Percepção",
          "Percepção",
          "Percepção",
          "Raciocínio",
          "Raciocínio",
          "Raciocínio",
          "Raciocínio",
          "Raciocínio",
          "Raciocínio",
          "Raciocínio",
          "Raciocínio",
          "Raciocínio",
          "Raciocínio",
          "Raciocínio",
          "Raciocínio",
          "Raciocínio",
          "Raciocínio",
          "Raciocínio",
          "Raciocínio",
          "Raciocínio",
          "Raciocínio",
          "Raciocínio"
         ],
         "x0": " ",
         "xaxis": "x",
         "y": [
          36,
          7,
          64,
          30,
          55,
          17,
          10,
          57,
          58,
          58,
          58,
          63,
          63,
          61,
          48,
          42,
          65,
          14,
          null,
          19.2,
          7.4,
          49.4,
          44.4,
          34.3,
          42.8,
          28.8,
          62.7,
          71,
          74,
          49.9,
          57,
          75.4,
          59.3,
          49,
          3.9,
          36,
          21.7,
          null,
          21,
          40,
          29,
          38,
          17,
          32,
          28,
          38,
          51,
          56,
          68,
          67,
          39,
          63,
          30,
          9,
          34,
          40,
          null,
          24.2,
          29.7,
          98.1,
          60.8,
          60.6,
          53.2,
          11.9,
          60.802119,
          80.5,
          86.4,
          104.7,
          55,
          55,
          93,
          29.9,
          23.8,
          24.4,
          17.9,
          null,
          12,
          15,
          21,
          18,
          11,
          28,
          5,
          7,
          18,
          19,
          29,
          26,
          35,
          21,
          18,
          12,
          9,
          30,
          null
         ],
         "y0": " ",
         "yaxis": "y"
        },
        {
         "alignmentgroup": "True",
         "hovertemplate": "experience=3<br>variable=%{x}<br>value=%{y}<extra></extra>",
         "legendgroup": "3",
         "marker": {
          "color": "#ab63fa"
         },
         "name": "3",
         "notched": false,
         "offsetgroup": "3",
         "orientation": "v",
         "showlegend": true,
         "type": "box",
         "x": [
          "Atenção",
          "Atenção",
          "Atenção",
          "Atenção",
          "Atenção",
          "Atenção",
          "Atenção",
          "Atenção",
          "Atenção",
          "Atenção",
          "Atenção",
          "Atenção",
          "Atenção",
          "Atenção",
          "Atenção",
          "Atenção",
          "Atenção",
          "Atenção",
          "Atenção",
          "Atenção",
          "Coordenação",
          "Coordenação",
          "Coordenação",
          "Coordenação",
          "Coordenação",
          "Coordenação",
          "Coordenação",
          "Coordenação",
          "Coordenação",
          "Coordenação",
          "Coordenação",
          "Coordenação",
          "Coordenação",
          "Coordenação",
          "Coordenação",
          "Coordenação",
          "Coordenação",
          "Coordenação",
          "Coordenação",
          "Coordenação",
          "Memória",
          "Memória",
          "Memória",
          "Memória",
          "Memória",
          "Memória",
          "Memória",
          "Memória",
          "Memória",
          "Memória",
          "Memória",
          "Memória",
          "Memória",
          "Memória",
          "Memória",
          "Memória",
          "Memória",
          "Memória",
          "Memória",
          "Memória",
          "Percepção",
          "Percepção",
          "Percepção",
          "Percepção",
          "Percepção",
          "Percepção",
          "Percepção",
          "Percepção",
          "Percepção",
          "Percepção",
          "Percepção",
          "Percepção",
          "Percepção",
          "Percepção",
          "Percepção",
          "Percepção",
          "Percepção",
          "Percepção",
          "Percepção",
          "Percepção",
          "Raciocínio",
          "Raciocínio",
          "Raciocínio",
          "Raciocínio",
          "Raciocínio",
          "Raciocínio",
          "Raciocínio",
          "Raciocínio",
          "Raciocínio",
          "Raciocínio",
          "Raciocínio",
          "Raciocínio",
          "Raciocínio",
          "Raciocínio",
          "Raciocínio",
          "Raciocínio",
          "Raciocínio",
          "Raciocínio",
          "Raciocínio",
          "Raciocínio"
         ],
         "x0": " ",
         "xaxis": "x",
         "y": [
          7,
          27,
          48,
          20,
          51,
          61,
          62,
          60,
          48,
          66,
          49,
          58,
          29,
          0,
          50,
          40,
          65,
          12,
          12,
          41,
          25.5,
          14.7,
          51,
          24.5,
          35.7,
          40.5,
          65,
          51,
          26.1,
          46,
          40,
          41.5,
          24.9,
          39,
          49.3,
          57.9,
          71,
          0,
          42,
          53,
          17,
          29,
          23,
          28,
          51,
          56,
          72,
          15,
          40,
          34,
          37,
          33,
          46,
          10,
          32,
          58,
          51,
          15,
          25,
          32,
          55.3,
          35.7,
          49.5,
          30.9,
          43,
          42.9,
          98.4,
          36.1,
          66.7,
          121.1,
          91.5,
          85.5,
          35.1,
          78.8,
          66.3,
          24.8,
          49.5,
          18.4,
          59.9,
          86.8,
          3,
          4,
          17,
          12,
          4,
          37,
          37,
          27,
          25,
          29,
          34,
          30,
          23,
          11,
          13,
          11,
          22,
          2,
          3,
          2
         ],
         "y0": " ",
         "yaxis": "y"
        },
        {
         "alignmentgroup": "True",
         "hovertemplate": "experience=4<br>variable=%{x}<br>value=%{y}<extra></extra>",
         "legendgroup": "4",
         "marker": {
          "color": "#FFA15A"
         },
         "name": "4",
         "notched": false,
         "offsetgroup": "4",
         "orientation": "v",
         "showlegend": true,
         "type": "box",
         "x": [
          "Atenção",
          "Atenção",
          "Atenção",
          "Atenção",
          "Atenção",
          "Atenção",
          "Atenção",
          "Atenção",
          "Atenção",
          "Atenção",
          "Atenção",
          "Coordenação",
          "Coordenação",
          "Coordenação",
          "Coordenação",
          "Coordenação",
          "Coordenação",
          "Coordenação",
          "Coordenação",
          "Coordenação",
          "Coordenação",
          "Coordenação",
          "Memória",
          "Memória",
          "Memória",
          "Memória",
          "Memória",
          "Memória",
          "Memória",
          "Memória",
          "Memória",
          "Memória",
          "Memória",
          "Percepção",
          "Percepção",
          "Percepção",
          "Percepção",
          "Percepção",
          "Percepção",
          "Percepção",
          "Percepção",
          "Percepção",
          "Percepção",
          "Percepção",
          "Raciocínio",
          "Raciocínio",
          "Raciocínio",
          "Raciocínio",
          "Raciocínio",
          "Raciocínio",
          "Raciocínio",
          "Raciocínio",
          "Raciocínio",
          "Raciocínio",
          "Raciocínio"
         ],
         "x0": " ",
         "xaxis": "x",
         "y": [
          7,
          0,
          14,
          14,
          57,
          65,
          7,
          68,
          62,
          42,
          null,
          30.3,
          12.2,
          14.4,
          14.4,
          41.7,
          52,
          28.3,
          43.9,
          47.8,
          31.4,
          null,
          18,
          1,
          33,
          33,
          16,
          24,
          40,
          22,
          26,
          33,
          null,
          48.9,
          0,
          54.8,
          54.8,
          60.6,
          55.3,
          37.4,
          86.5,
          56.8,
          42.7,
          null,
          7,
          0,
          26,
          26,
          23,
          20,
          10,
          22,
          5,
          3,
          null
         ],
         "y0": " ",
         "yaxis": "y"
        }
       ],
       "layout": {
        "boxmode": "group",
        "font": {
         "size": 18
        },
        "legend": {
         "title": {
          "text": "Exp. com jogos"
         },
         "tracegroupgap": 0
        },
        "margin": {
         "t": 60
        },
        "template": {
         "data": {
          "bar": [
           {
            "error_x": {
             "color": "#2a3f5f"
            },
            "error_y": {
             "color": "#2a3f5f"
            },
            "marker": {
             "line": {
              "color": "#E5ECF6",
              "width": 0.5
             },
             "pattern": {
              "fillmode": "overlay",
              "size": 10,
              "solidity": 0.2
             }
            },
            "type": "bar"
           }
          ],
          "barpolar": [
           {
            "marker": {
             "line": {
              "color": "#E5ECF6",
              "width": 0.5
             },
             "pattern": {
              "fillmode": "overlay",
              "size": 10,
              "solidity": 0.2
             }
            },
            "type": "barpolar"
           }
          ],
          "carpet": [
           {
            "aaxis": {
             "endlinecolor": "#2a3f5f",
             "gridcolor": "white",
             "linecolor": "white",
             "minorgridcolor": "white",
             "startlinecolor": "#2a3f5f"
            },
            "baxis": {
             "endlinecolor": "#2a3f5f",
             "gridcolor": "white",
             "linecolor": "white",
             "minorgridcolor": "white",
             "startlinecolor": "#2a3f5f"
            },
            "type": "carpet"
           }
          ],
          "choropleth": [
           {
            "colorbar": {
             "outlinewidth": 0,
             "ticks": ""
            },
            "type": "choropleth"
           }
          ],
          "contour": [
           {
            "colorbar": {
             "outlinewidth": 0,
             "ticks": ""
            },
            "colorscale": [
             [
              0,
              "#0d0887"
             ],
             [
              0.1111111111111111,
              "#46039f"
             ],
             [
              0.2222222222222222,
              "#7201a8"
             ],
             [
              0.3333333333333333,
              "#9c179e"
             ],
             [
              0.4444444444444444,
              "#bd3786"
             ],
             [
              0.5555555555555556,
              "#d8576b"
             ],
             [
              0.6666666666666666,
              "#ed7953"
             ],
             [
              0.7777777777777778,
              "#fb9f3a"
             ],
             [
              0.8888888888888888,
              "#fdca26"
             ],
             [
              1,
              "#f0f921"
             ]
            ],
            "type": "contour"
           }
          ],
          "contourcarpet": [
           {
            "colorbar": {
             "outlinewidth": 0,
             "ticks": ""
            },
            "type": "contourcarpet"
           }
          ],
          "heatmap": [
           {
            "colorbar": {
             "outlinewidth": 0,
             "ticks": ""
            },
            "colorscale": [
             [
              0,
              "#0d0887"
             ],
             [
              0.1111111111111111,
              "#46039f"
             ],
             [
              0.2222222222222222,
              "#7201a8"
             ],
             [
              0.3333333333333333,
              "#9c179e"
             ],
             [
              0.4444444444444444,
              "#bd3786"
             ],
             [
              0.5555555555555556,
              "#d8576b"
             ],
             [
              0.6666666666666666,
              "#ed7953"
             ],
             [
              0.7777777777777778,
              "#fb9f3a"
             ],
             [
              0.8888888888888888,
              "#fdca26"
             ],
             [
              1,
              "#f0f921"
             ]
            ],
            "type": "heatmap"
           }
          ],
          "heatmapgl": [
           {
            "colorbar": {
             "outlinewidth": 0,
             "ticks": ""
            },
            "colorscale": [
             [
              0,
              "#0d0887"
             ],
             [
              0.1111111111111111,
              "#46039f"
             ],
             [
              0.2222222222222222,
              "#7201a8"
             ],
             [
              0.3333333333333333,
              "#9c179e"
             ],
             [
              0.4444444444444444,
              "#bd3786"
             ],
             [
              0.5555555555555556,
              "#d8576b"
             ],
             [
              0.6666666666666666,
              "#ed7953"
             ],
             [
              0.7777777777777778,
              "#fb9f3a"
             ],
             [
              0.8888888888888888,
              "#fdca26"
             ],
             [
              1,
              "#f0f921"
             ]
            ],
            "type": "heatmapgl"
           }
          ],
          "histogram": [
           {
            "marker": {
             "pattern": {
              "fillmode": "overlay",
              "size": 10,
              "solidity": 0.2
             }
            },
            "type": "histogram"
           }
          ],
          "histogram2d": [
           {
            "colorbar": {
             "outlinewidth": 0,
             "ticks": ""
            },
            "colorscale": [
             [
              0,
              "#0d0887"
             ],
             [
              0.1111111111111111,
              "#46039f"
             ],
             [
              0.2222222222222222,
              "#7201a8"
             ],
             [
              0.3333333333333333,
              "#9c179e"
             ],
             [
              0.4444444444444444,
              "#bd3786"
             ],
             [
              0.5555555555555556,
              "#d8576b"
             ],
             [
              0.6666666666666666,
              "#ed7953"
             ],
             [
              0.7777777777777778,
              "#fb9f3a"
             ],
             [
              0.8888888888888888,
              "#fdca26"
             ],
             [
              1,
              "#f0f921"
             ]
            ],
            "type": "histogram2d"
           }
          ],
          "histogram2dcontour": [
           {
            "colorbar": {
             "outlinewidth": 0,
             "ticks": ""
            },
            "colorscale": [
             [
              0,
              "#0d0887"
             ],
             [
              0.1111111111111111,
              "#46039f"
             ],
             [
              0.2222222222222222,
              "#7201a8"
             ],
             [
              0.3333333333333333,
              "#9c179e"
             ],
             [
              0.4444444444444444,
              "#bd3786"
             ],
             [
              0.5555555555555556,
              "#d8576b"
             ],
             [
              0.6666666666666666,
              "#ed7953"
             ],
             [
              0.7777777777777778,
              "#fb9f3a"
             ],
             [
              0.8888888888888888,
              "#fdca26"
             ],
             [
              1,
              "#f0f921"
             ]
            ],
            "type": "histogram2dcontour"
           }
          ],
          "mesh3d": [
           {
            "colorbar": {
             "outlinewidth": 0,
             "ticks": ""
            },
            "type": "mesh3d"
           }
          ],
          "parcoords": [
           {
            "line": {
             "colorbar": {
              "outlinewidth": 0,
              "ticks": ""
             }
            },
            "type": "parcoords"
           }
          ],
          "pie": [
           {
            "automargin": true,
            "type": "pie"
           }
          ],
          "scatter": [
           {
            "fillpattern": {
             "fillmode": "overlay",
             "size": 10,
             "solidity": 0.2
            },
            "type": "scatter"
           }
          ],
          "scatter3d": [
           {
            "line": {
             "colorbar": {
              "outlinewidth": 0,
              "ticks": ""
             }
            },
            "marker": {
             "colorbar": {
              "outlinewidth": 0,
              "ticks": ""
             }
            },
            "type": "scatter3d"
           }
          ],
          "scattercarpet": [
           {
            "marker": {
             "colorbar": {
              "outlinewidth": 0,
              "ticks": ""
             }
            },
            "type": "scattercarpet"
           }
          ],
          "scattergeo": [
           {
            "marker": {
             "colorbar": {
              "outlinewidth": 0,
              "ticks": ""
             }
            },
            "type": "scattergeo"
           }
          ],
          "scattergl": [
           {
            "marker": {
             "colorbar": {
              "outlinewidth": 0,
              "ticks": ""
             }
            },
            "type": "scattergl"
           }
          ],
          "scattermapbox": [
           {
            "marker": {
             "colorbar": {
              "outlinewidth": 0,
              "ticks": ""
             }
            },
            "type": "scattermapbox"
           }
          ],
          "scatterpolar": [
           {
            "marker": {
             "colorbar": {
              "outlinewidth": 0,
              "ticks": ""
             }
            },
            "type": "scatterpolar"
           }
          ],
          "scatterpolargl": [
           {
            "marker": {
             "colorbar": {
              "outlinewidth": 0,
              "ticks": ""
             }
            },
            "type": "scatterpolargl"
           }
          ],
          "scatterternary": [
           {
            "marker": {
             "colorbar": {
              "outlinewidth": 0,
              "ticks": ""
             }
            },
            "type": "scatterternary"
           }
          ],
          "surface": [
           {
            "colorbar": {
             "outlinewidth": 0,
             "ticks": ""
            },
            "colorscale": [
             [
              0,
              "#0d0887"
             ],
             [
              0.1111111111111111,
              "#46039f"
             ],
             [
              0.2222222222222222,
              "#7201a8"
             ],
             [
              0.3333333333333333,
              "#9c179e"
             ],
             [
              0.4444444444444444,
              "#bd3786"
             ],
             [
              0.5555555555555556,
              "#d8576b"
             ],
             [
              0.6666666666666666,
              "#ed7953"
             ],
             [
              0.7777777777777778,
              "#fb9f3a"
             ],
             [
              0.8888888888888888,
              "#fdca26"
             ],
             [
              1,
              "#f0f921"
             ]
            ],
            "type": "surface"
           }
          ],
          "table": [
           {
            "cells": {
             "fill": {
              "color": "#EBF0F8"
             },
             "line": {
              "color": "white"
             }
            },
            "header": {
             "fill": {
              "color": "#C8D4E3"
             },
             "line": {
              "color": "white"
             }
            },
            "type": "table"
           }
          ]
         },
         "layout": {
          "annotationdefaults": {
           "arrowcolor": "#2a3f5f",
           "arrowhead": 0,
           "arrowwidth": 1
          },
          "autotypenumbers": "strict",
          "coloraxis": {
           "colorbar": {
            "outlinewidth": 0,
            "ticks": ""
           }
          },
          "colorscale": {
           "diverging": [
            [
             0,
             "#8e0152"
            ],
            [
             0.1,
             "#c51b7d"
            ],
            [
             0.2,
             "#de77ae"
            ],
            [
             0.3,
             "#f1b6da"
            ],
            [
             0.4,
             "#fde0ef"
            ],
            [
             0.5,
             "#f7f7f7"
            ],
            [
             0.6,
             "#e6f5d0"
            ],
            [
             0.7,
             "#b8e186"
            ],
            [
             0.8,
             "#7fbc41"
            ],
            [
             0.9,
             "#4d9221"
            ],
            [
             1,
             "#276419"
            ]
           ],
           "sequential": [
            [
             0,
             "#0d0887"
            ],
            [
             0.1111111111111111,
             "#46039f"
            ],
            [
             0.2222222222222222,
             "#7201a8"
            ],
            [
             0.3333333333333333,
             "#9c179e"
            ],
            [
             0.4444444444444444,
             "#bd3786"
            ],
            [
             0.5555555555555556,
             "#d8576b"
            ],
            [
             0.6666666666666666,
             "#ed7953"
            ],
            [
             0.7777777777777778,
             "#fb9f3a"
            ],
            [
             0.8888888888888888,
             "#fdca26"
            ],
            [
             1,
             "#f0f921"
            ]
           ],
           "sequentialminus": [
            [
             0,
             "#0d0887"
            ],
            [
             0.1111111111111111,
             "#46039f"
            ],
            [
             0.2222222222222222,
             "#7201a8"
            ],
            [
             0.3333333333333333,
             "#9c179e"
            ],
            [
             0.4444444444444444,
             "#bd3786"
            ],
            [
             0.5555555555555556,
             "#d8576b"
            ],
            [
             0.6666666666666666,
             "#ed7953"
            ],
            [
             0.7777777777777778,
             "#fb9f3a"
            ],
            [
             0.8888888888888888,
             "#fdca26"
            ],
            [
             1,
             "#f0f921"
            ]
           ]
          },
          "colorway": [
           "#636efa",
           "#EF553B",
           "#00cc96",
           "#ab63fa",
           "#FFA15A",
           "#19d3f3",
           "#FF6692",
           "#B6E880",
           "#FF97FF",
           "#FECB52"
          ],
          "font": {
           "color": "#2a3f5f"
          },
          "geo": {
           "bgcolor": "white",
           "lakecolor": "white",
           "landcolor": "#E5ECF6",
           "showlakes": true,
           "showland": true,
           "subunitcolor": "white"
          },
          "hoverlabel": {
           "align": "left"
          },
          "hovermode": "closest",
          "mapbox": {
           "style": "light"
          },
          "paper_bgcolor": "white",
          "plot_bgcolor": "#E5ECF6",
          "polar": {
           "angularaxis": {
            "gridcolor": "white",
            "linecolor": "white",
            "ticks": ""
           },
           "bgcolor": "#E5ECF6",
           "radialaxis": {
            "gridcolor": "white",
            "linecolor": "white",
            "ticks": ""
           }
          },
          "scene": {
           "xaxis": {
            "backgroundcolor": "#E5ECF6",
            "gridcolor": "white",
            "gridwidth": 2,
            "linecolor": "white",
            "showbackground": true,
            "ticks": "",
            "zerolinecolor": "white"
           },
           "yaxis": {
            "backgroundcolor": "#E5ECF6",
            "gridcolor": "white",
            "gridwidth": 2,
            "linecolor": "white",
            "showbackground": true,
            "ticks": "",
            "zerolinecolor": "white"
           },
           "zaxis": {
            "backgroundcolor": "#E5ECF6",
            "gridcolor": "white",
            "gridwidth": 2,
            "linecolor": "white",
            "showbackground": true,
            "ticks": "",
            "zerolinecolor": "white"
           }
          },
          "shapedefaults": {
           "line": {
            "color": "#2a3f5f"
           }
          },
          "ternary": {
           "aaxis": {
            "gridcolor": "white",
            "linecolor": "white",
            "ticks": ""
           },
           "baxis": {
            "gridcolor": "white",
            "linecolor": "white",
            "ticks": ""
           },
           "bgcolor": "#E5ECF6",
           "caxis": {
            "gridcolor": "white",
            "linecolor": "white",
            "ticks": ""
           }
          },
          "title": {
           "x": 0.05
          },
          "xaxis": {
           "automargin": true,
           "gridcolor": "white",
           "linecolor": "white",
           "ticks": "",
           "title": {
            "standoff": 15
           },
           "zerolinecolor": "white",
           "zerolinewidth": 2
          },
          "yaxis": {
           "automargin": true,
           "gridcolor": "white",
           "linecolor": "white",
           "ticks": "",
           "title": {
            "standoff": 15
           },
           "zerolinecolor": "white",
           "zerolinewidth": 2
          }
         }
        },
        "title": {
         "text": "Pontuação dos jogos por experiência com jogos"
        },
        "xaxis": {
         "anchor": "y",
         "categoryarray": [
          0,
          1,
          2,
          3,
          4
         ],
         "categoryorder": "array",
         "domain": [
          0,
          1
         ],
         "title": {
          "text": "Experiência com jogos"
         }
        },
        "yaxis": {
         "anchor": "x",
         "domain": [
          0,
          1
         ],
         "title": {
          "text": "Pontuação"
         }
        }
       }
      }
     },
     "metadata": {},
     "output_type": "display_data"
    }
   ],
   "source": [
    "fig = px.box(df, y=GAMES, color='experience', \n",
    "                    category_orders={'experience': [0, 1, 2, 3, 4]})\n",
    "fig.update_xaxes(categoryorder='array', categoryarray=[0, 1, 2, 3, 4])\n",
    "fig.update_layout(title='Pontuação dos jogos por experiência com jogos',\n",
    "                    xaxis_title='Experiência com jogos',\n",
    "                    yaxis_title='Pontuação',\n",
    "                    font=dict(\n",
    "                        size=18\n",
    "                    ),\n",
    "                    legend_title_text='Exp. com jogos',\n",
    ")"
   ]
  },
  {
   "cell_type": "code",
   "execution_count": 76,
   "metadata": {},
   "outputs": [
    {
     "data": {
      "application/vnd.plotly.v1+json": {
       "config": {
        "plotlyServerURL": "https://plot.ly"
       },
       "data": [
        {
         "alignmentgroup": "True",
         "hovertemplate": "exp=True<br>variable=%{x}<br>value=%{y}<extra></extra>",
         "legendgroup": "True",
         "marker": {
          "color": "#636efa"
         },
         "name": "True",
         "notched": false,
         "offsetgroup": "True",
         "orientation": "v",
         "showlegend": true,
         "type": "box",
         "x": [
          "Atenção",
          "Atenção",
          "Atenção",
          "Atenção",
          "Atenção",
          "Atenção",
          "Atenção",
          "Atenção",
          "Atenção",
          "Atenção",
          "Atenção",
          "Atenção",
          "Atenção",
          "Atenção",
          "Atenção",
          "Atenção",
          "Atenção",
          "Atenção",
          "Atenção",
          "Atenção",
          "Atenção",
          "Atenção",
          "Atenção",
          "Atenção",
          "Atenção",
          "Atenção",
          "Atenção",
          "Atenção",
          "Atenção",
          "Atenção",
          "Atenção",
          "Atenção",
          "Atenção",
          "Atenção",
          "Atenção",
          "Atenção",
          "Atenção",
          "Atenção",
          "Atenção",
          "Atenção",
          "Atenção",
          "Atenção",
          "Atenção",
          "Atenção",
          "Atenção",
          "Atenção",
          "Atenção",
          "Atenção",
          "Atenção",
          "Atenção",
          "Coordenação",
          "Coordenação",
          "Coordenação",
          "Coordenação",
          "Coordenação",
          "Coordenação",
          "Coordenação",
          "Coordenação",
          "Coordenação",
          "Coordenação",
          "Coordenação",
          "Coordenação",
          "Coordenação",
          "Coordenação",
          "Coordenação",
          "Coordenação",
          "Coordenação",
          "Coordenação",
          "Coordenação",
          "Coordenação",
          "Coordenação",
          "Coordenação",
          "Coordenação",
          "Coordenação",
          "Coordenação",
          "Coordenação",
          "Coordenação",
          "Coordenação",
          "Coordenação",
          "Coordenação",
          "Coordenação",
          "Coordenação",
          "Coordenação",
          "Coordenação",
          "Coordenação",
          "Coordenação",
          "Coordenação",
          "Coordenação",
          "Coordenação",
          "Coordenação",
          "Coordenação",
          "Coordenação",
          "Coordenação",
          "Coordenação",
          "Coordenação",
          "Coordenação",
          "Coordenação",
          "Coordenação",
          "Coordenação",
          "Coordenação",
          "Memória",
          "Memória",
          "Memória",
          "Memória",
          "Memória",
          "Memória",
          "Memória",
          "Memória",
          "Memória",
          "Memória",
          "Memória",
          "Memória",
          "Memória",
          "Memória",
          "Memória",
          "Memória",
          "Memória",
          "Memória",
          "Memória",
          "Memória",
          "Memória",
          "Memória",
          "Memória",
          "Memória",
          "Memória",
          "Memória",
          "Memória",
          "Memória",
          "Memória",
          "Memória",
          "Memória",
          "Memória",
          "Memória",
          "Memória",
          "Memória",
          "Memória",
          "Memória",
          "Memória",
          "Memória",
          "Memória",
          "Memória",
          "Memória",
          "Memória",
          "Memória",
          "Memória",
          "Memória",
          "Memória",
          "Memória",
          "Memória",
          "Memória",
          "Percepção",
          "Percepção",
          "Percepção",
          "Percepção",
          "Percepção",
          "Percepção",
          "Percepção",
          "Percepção",
          "Percepção",
          "Percepção",
          "Percepção",
          "Percepção",
          "Percepção",
          "Percepção",
          "Percepção",
          "Percepção",
          "Percepção",
          "Percepção",
          "Percepção",
          "Percepção",
          "Percepção",
          "Percepção",
          "Percepção",
          "Percepção",
          "Percepção",
          "Percepção",
          "Percepção",
          "Percepção",
          "Percepção",
          "Percepção",
          "Percepção",
          "Percepção",
          "Percepção",
          "Percepção",
          "Percepção",
          "Percepção",
          "Percepção",
          "Percepção",
          "Percepção",
          "Percepção",
          "Percepção",
          "Percepção",
          "Percepção",
          "Percepção",
          "Percepção",
          "Percepção",
          "Percepção",
          "Percepção",
          "Percepção",
          "Percepção",
          "Raciocínio",
          "Raciocínio",
          "Raciocínio",
          "Raciocínio",
          "Raciocínio",
          "Raciocínio",
          "Raciocínio",
          "Raciocínio",
          "Raciocínio",
          "Raciocínio",
          "Raciocínio",
          "Raciocínio",
          "Raciocínio",
          "Raciocínio",
          "Raciocínio",
          "Raciocínio",
          "Raciocínio",
          "Raciocínio",
          "Raciocínio",
          "Raciocínio",
          "Raciocínio",
          "Raciocínio",
          "Raciocínio",
          "Raciocínio",
          "Raciocínio",
          "Raciocínio",
          "Raciocínio",
          "Raciocínio",
          "Raciocínio",
          "Raciocínio",
          "Raciocínio",
          "Raciocínio",
          "Raciocínio",
          "Raciocínio",
          "Raciocínio",
          "Raciocínio",
          "Raciocínio",
          "Raciocínio",
          "Raciocínio",
          "Raciocínio",
          "Raciocínio",
          "Raciocínio",
          "Raciocínio",
          "Raciocínio",
          "Raciocínio",
          "Raciocínio",
          "Raciocínio",
          "Raciocínio",
          "Raciocínio",
          "Raciocínio"
         ],
         "x0": " ",
         "xaxis": "x",
         "y": [
          36,
          7,
          64,
          7,
          30,
          7,
          27,
          48,
          20,
          51,
          61,
          62,
          0,
          55,
          14,
          14,
          60,
          17,
          10,
          48,
          66,
          49,
          58,
          57,
          58,
          58,
          58,
          63,
          63,
          61,
          48,
          29,
          57,
          65,
          0,
          7,
          68,
          42,
          50,
          40,
          62,
          65,
          42,
          65,
          12,
          12,
          14,
          41,
          null,
          null,
          19.2,
          7.4,
          49.4,
          30.3,
          44.4,
          25.5,
          14.7,
          51,
          24.5,
          35.7,
          40.5,
          65,
          12.2,
          34.3,
          14.4,
          14.4,
          51,
          42.8,
          28.8,
          26.1,
          46,
          40,
          41.5,
          62.7,
          71,
          74,
          49.9,
          57,
          75.4,
          59.3,
          49,
          24.9,
          41.7,
          52,
          39,
          28.3,
          43.9,
          3.9,
          49.3,
          57.9,
          47.8,
          36,
          31.4,
          71,
          0,
          42,
          21.7,
          53,
          null,
          null,
          21,
          40,
          29,
          18,
          38,
          17,
          29,
          23,
          28,
          51,
          56,
          72,
          1,
          17,
          33,
          33,
          15,
          32,
          28,
          40,
          34,
          37,
          33,
          38,
          51,
          56,
          68,
          67,
          39,
          63,
          30,
          46,
          16,
          24,
          10,
          40,
          22,
          9,
          32,
          58,
          26,
          34,
          33,
          51,
          15,
          25,
          40,
          32,
          null,
          null,
          24.2,
          29.7,
          98.1,
          48.9,
          60.8,
          55.3,
          35.7,
          49.5,
          30.9,
          43,
          42.9,
          98.4,
          0,
          60.6,
          54.8,
          54.8,
          36.1,
          53.2,
          11.9,
          66.7,
          121.1,
          91.5,
          85.5,
          60.802119,
          80.5,
          86.4,
          104.7,
          55,
          55,
          93,
          29.9,
          35.1,
          60.6,
          55.3,
          78.8,
          37.4,
          86.5,
          23.8,
          66.3,
          24.8,
          56.8,
          24.4,
          42.7,
          49.5,
          18.4,
          59.9,
          17.9,
          86.8,
          null,
          null,
          12,
          15,
          21,
          7,
          18,
          3,
          4,
          17,
          12,
          4,
          37,
          37,
          0,
          11,
          26,
          26,
          27,
          28,
          5,
          25,
          29,
          34,
          30,
          7,
          18,
          19,
          29,
          26,
          35,
          21,
          18,
          23,
          23,
          20,
          11,
          10,
          22,
          12,
          13,
          11,
          5,
          9,
          3,
          22,
          2,
          3,
          30,
          2,
          null,
          null
         ],
         "y0": " ",
         "yaxis": "y"
        },
        {
         "alignmentgroup": "True",
         "hovertemplate": "exp=False<br>variable=%{x}<br>value=%{y}<extra></extra>",
         "legendgroup": "False",
         "marker": {
          "color": "#EF553B"
         },
         "name": "False",
         "notched": false,
         "offsetgroup": "False",
         "orientation": "v",
         "showlegend": true,
         "type": "box",
         "x": [
          "Atenção",
          "Atenção",
          "Atenção",
          "Atenção",
          "Atenção",
          "Atenção",
          "Atenção",
          "Atenção",
          "Atenção",
          "Atenção",
          "Atenção",
          "Atenção",
          "Coordenação",
          "Coordenação",
          "Coordenação",
          "Coordenação",
          "Coordenação",
          "Coordenação",
          "Coordenação",
          "Coordenação",
          "Coordenação",
          "Coordenação",
          "Coordenação",
          "Coordenação",
          "Memória",
          "Memória",
          "Memória",
          "Memória",
          "Memória",
          "Memória",
          "Memória",
          "Memória",
          "Memória",
          "Memória",
          "Memória",
          "Memória",
          "Percepção",
          "Percepção",
          "Percepção",
          "Percepção",
          "Percepção",
          "Percepção",
          "Percepção",
          "Percepção",
          "Percepção",
          "Percepção",
          "Percepção",
          "Percepção",
          "Raciocínio",
          "Raciocínio",
          "Raciocínio",
          "Raciocínio",
          "Raciocínio",
          "Raciocínio",
          "Raciocínio",
          "Raciocínio",
          "Raciocínio",
          "Raciocínio",
          "Raciocínio",
          "Raciocínio"
         ],
         "x0": " ",
         "xaxis": "x",
         "y": [
          57,
          19,
          15,
          53,
          45,
          22,
          55,
          23,
          34,
          52,
          26,
          null,
          1.9,
          47.5,
          34.9,
          7.2,
          47.3,
          19.6,
          34.2,
          42.8,
          26.8,
          55,
          13.5,
          null,
          36,
          25,
          42,
          25,
          30,
          23,
          38,
          32,
          7,
          29,
          28,
          null,
          17.5,
          105.3,
          18.4,
          48.7,
          79.4,
          30.1,
          54.3,
          35.4,
          22.5,
          36.1,
          36.1,
          null,
          7,
          10,
          4,
          5,
          16,
          5,
          5,
          28,
          5,
          5,
          31,
          null
         ],
         "y0": " ",
         "yaxis": "y"
        }
       ],
       "layout": {
        "boxmode": "group",
        "font": {
         "size": 18
        },
        "legend": {
         "title": {
          "text": "Exp. com jogos"
         },
         "tracegroupgap": 0
        },
        "margin": {
         "t": 60
        },
        "template": {
         "data": {
          "bar": [
           {
            "error_x": {
             "color": "#2a3f5f"
            },
            "error_y": {
             "color": "#2a3f5f"
            },
            "marker": {
             "line": {
              "color": "#E5ECF6",
              "width": 0.5
             },
             "pattern": {
              "fillmode": "overlay",
              "size": 10,
              "solidity": 0.2
             }
            },
            "type": "bar"
           }
          ],
          "barpolar": [
           {
            "marker": {
             "line": {
              "color": "#E5ECF6",
              "width": 0.5
             },
             "pattern": {
              "fillmode": "overlay",
              "size": 10,
              "solidity": 0.2
             }
            },
            "type": "barpolar"
           }
          ],
          "carpet": [
           {
            "aaxis": {
             "endlinecolor": "#2a3f5f",
             "gridcolor": "white",
             "linecolor": "white",
             "minorgridcolor": "white",
             "startlinecolor": "#2a3f5f"
            },
            "baxis": {
             "endlinecolor": "#2a3f5f",
             "gridcolor": "white",
             "linecolor": "white",
             "minorgridcolor": "white",
             "startlinecolor": "#2a3f5f"
            },
            "type": "carpet"
           }
          ],
          "choropleth": [
           {
            "colorbar": {
             "outlinewidth": 0,
             "ticks": ""
            },
            "type": "choropleth"
           }
          ],
          "contour": [
           {
            "colorbar": {
             "outlinewidth": 0,
             "ticks": ""
            },
            "colorscale": [
             [
              0,
              "#0d0887"
             ],
             [
              0.1111111111111111,
              "#46039f"
             ],
             [
              0.2222222222222222,
              "#7201a8"
             ],
             [
              0.3333333333333333,
              "#9c179e"
             ],
             [
              0.4444444444444444,
              "#bd3786"
             ],
             [
              0.5555555555555556,
              "#d8576b"
             ],
             [
              0.6666666666666666,
              "#ed7953"
             ],
             [
              0.7777777777777778,
              "#fb9f3a"
             ],
             [
              0.8888888888888888,
              "#fdca26"
             ],
             [
              1,
              "#f0f921"
             ]
            ],
            "type": "contour"
           }
          ],
          "contourcarpet": [
           {
            "colorbar": {
             "outlinewidth": 0,
             "ticks": ""
            },
            "type": "contourcarpet"
           }
          ],
          "heatmap": [
           {
            "colorbar": {
             "outlinewidth": 0,
             "ticks": ""
            },
            "colorscale": [
             [
              0,
              "#0d0887"
             ],
             [
              0.1111111111111111,
              "#46039f"
             ],
             [
              0.2222222222222222,
              "#7201a8"
             ],
             [
              0.3333333333333333,
              "#9c179e"
             ],
             [
              0.4444444444444444,
              "#bd3786"
             ],
             [
              0.5555555555555556,
              "#d8576b"
             ],
             [
              0.6666666666666666,
              "#ed7953"
             ],
             [
              0.7777777777777778,
              "#fb9f3a"
             ],
             [
              0.8888888888888888,
              "#fdca26"
             ],
             [
              1,
              "#f0f921"
             ]
            ],
            "type": "heatmap"
           }
          ],
          "heatmapgl": [
           {
            "colorbar": {
             "outlinewidth": 0,
             "ticks": ""
            },
            "colorscale": [
             [
              0,
              "#0d0887"
             ],
             [
              0.1111111111111111,
              "#46039f"
             ],
             [
              0.2222222222222222,
              "#7201a8"
             ],
             [
              0.3333333333333333,
              "#9c179e"
             ],
             [
              0.4444444444444444,
              "#bd3786"
             ],
             [
              0.5555555555555556,
              "#d8576b"
             ],
             [
              0.6666666666666666,
              "#ed7953"
             ],
             [
              0.7777777777777778,
              "#fb9f3a"
             ],
             [
              0.8888888888888888,
              "#fdca26"
             ],
             [
              1,
              "#f0f921"
             ]
            ],
            "type": "heatmapgl"
           }
          ],
          "histogram": [
           {
            "marker": {
             "pattern": {
              "fillmode": "overlay",
              "size": 10,
              "solidity": 0.2
             }
            },
            "type": "histogram"
           }
          ],
          "histogram2d": [
           {
            "colorbar": {
             "outlinewidth": 0,
             "ticks": ""
            },
            "colorscale": [
             [
              0,
              "#0d0887"
             ],
             [
              0.1111111111111111,
              "#46039f"
             ],
             [
              0.2222222222222222,
              "#7201a8"
             ],
             [
              0.3333333333333333,
              "#9c179e"
             ],
             [
              0.4444444444444444,
              "#bd3786"
             ],
             [
              0.5555555555555556,
              "#d8576b"
             ],
             [
              0.6666666666666666,
              "#ed7953"
             ],
             [
              0.7777777777777778,
              "#fb9f3a"
             ],
             [
              0.8888888888888888,
              "#fdca26"
             ],
             [
              1,
              "#f0f921"
             ]
            ],
            "type": "histogram2d"
           }
          ],
          "histogram2dcontour": [
           {
            "colorbar": {
             "outlinewidth": 0,
             "ticks": ""
            },
            "colorscale": [
             [
              0,
              "#0d0887"
             ],
             [
              0.1111111111111111,
              "#46039f"
             ],
             [
              0.2222222222222222,
              "#7201a8"
             ],
             [
              0.3333333333333333,
              "#9c179e"
             ],
             [
              0.4444444444444444,
              "#bd3786"
             ],
             [
              0.5555555555555556,
              "#d8576b"
             ],
             [
              0.6666666666666666,
              "#ed7953"
             ],
             [
              0.7777777777777778,
              "#fb9f3a"
             ],
             [
              0.8888888888888888,
              "#fdca26"
             ],
             [
              1,
              "#f0f921"
             ]
            ],
            "type": "histogram2dcontour"
           }
          ],
          "mesh3d": [
           {
            "colorbar": {
             "outlinewidth": 0,
             "ticks": ""
            },
            "type": "mesh3d"
           }
          ],
          "parcoords": [
           {
            "line": {
             "colorbar": {
              "outlinewidth": 0,
              "ticks": ""
             }
            },
            "type": "parcoords"
           }
          ],
          "pie": [
           {
            "automargin": true,
            "type": "pie"
           }
          ],
          "scatter": [
           {
            "fillpattern": {
             "fillmode": "overlay",
             "size": 10,
             "solidity": 0.2
            },
            "type": "scatter"
           }
          ],
          "scatter3d": [
           {
            "line": {
             "colorbar": {
              "outlinewidth": 0,
              "ticks": ""
             }
            },
            "marker": {
             "colorbar": {
              "outlinewidth": 0,
              "ticks": ""
             }
            },
            "type": "scatter3d"
           }
          ],
          "scattercarpet": [
           {
            "marker": {
             "colorbar": {
              "outlinewidth": 0,
              "ticks": ""
             }
            },
            "type": "scattercarpet"
           }
          ],
          "scattergeo": [
           {
            "marker": {
             "colorbar": {
              "outlinewidth": 0,
              "ticks": ""
             }
            },
            "type": "scattergeo"
           }
          ],
          "scattergl": [
           {
            "marker": {
             "colorbar": {
              "outlinewidth": 0,
              "ticks": ""
             }
            },
            "type": "scattergl"
           }
          ],
          "scattermapbox": [
           {
            "marker": {
             "colorbar": {
              "outlinewidth": 0,
              "ticks": ""
             }
            },
            "type": "scattermapbox"
           }
          ],
          "scatterpolar": [
           {
            "marker": {
             "colorbar": {
              "outlinewidth": 0,
              "ticks": ""
             }
            },
            "type": "scatterpolar"
           }
          ],
          "scatterpolargl": [
           {
            "marker": {
             "colorbar": {
              "outlinewidth": 0,
              "ticks": ""
             }
            },
            "type": "scatterpolargl"
           }
          ],
          "scatterternary": [
           {
            "marker": {
             "colorbar": {
              "outlinewidth": 0,
              "ticks": ""
             }
            },
            "type": "scatterternary"
           }
          ],
          "surface": [
           {
            "colorbar": {
             "outlinewidth": 0,
             "ticks": ""
            },
            "colorscale": [
             [
              0,
              "#0d0887"
             ],
             [
              0.1111111111111111,
              "#46039f"
             ],
             [
              0.2222222222222222,
              "#7201a8"
             ],
             [
              0.3333333333333333,
              "#9c179e"
             ],
             [
              0.4444444444444444,
              "#bd3786"
             ],
             [
              0.5555555555555556,
              "#d8576b"
             ],
             [
              0.6666666666666666,
              "#ed7953"
             ],
             [
              0.7777777777777778,
              "#fb9f3a"
             ],
             [
              0.8888888888888888,
              "#fdca26"
             ],
             [
              1,
              "#f0f921"
             ]
            ],
            "type": "surface"
           }
          ],
          "table": [
           {
            "cells": {
             "fill": {
              "color": "#EBF0F8"
             },
             "line": {
              "color": "white"
             }
            },
            "header": {
             "fill": {
              "color": "#C8D4E3"
             },
             "line": {
              "color": "white"
             }
            },
            "type": "table"
           }
          ]
         },
         "layout": {
          "annotationdefaults": {
           "arrowcolor": "#2a3f5f",
           "arrowhead": 0,
           "arrowwidth": 1
          },
          "autotypenumbers": "strict",
          "coloraxis": {
           "colorbar": {
            "outlinewidth": 0,
            "ticks": ""
           }
          },
          "colorscale": {
           "diverging": [
            [
             0,
             "#8e0152"
            ],
            [
             0.1,
             "#c51b7d"
            ],
            [
             0.2,
             "#de77ae"
            ],
            [
             0.3,
             "#f1b6da"
            ],
            [
             0.4,
             "#fde0ef"
            ],
            [
             0.5,
             "#f7f7f7"
            ],
            [
             0.6,
             "#e6f5d0"
            ],
            [
             0.7,
             "#b8e186"
            ],
            [
             0.8,
             "#7fbc41"
            ],
            [
             0.9,
             "#4d9221"
            ],
            [
             1,
             "#276419"
            ]
           ],
           "sequential": [
            [
             0,
             "#0d0887"
            ],
            [
             0.1111111111111111,
             "#46039f"
            ],
            [
             0.2222222222222222,
             "#7201a8"
            ],
            [
             0.3333333333333333,
             "#9c179e"
            ],
            [
             0.4444444444444444,
             "#bd3786"
            ],
            [
             0.5555555555555556,
             "#d8576b"
            ],
            [
             0.6666666666666666,
             "#ed7953"
            ],
            [
             0.7777777777777778,
             "#fb9f3a"
            ],
            [
             0.8888888888888888,
             "#fdca26"
            ],
            [
             1,
             "#f0f921"
            ]
           ],
           "sequentialminus": [
            [
             0,
             "#0d0887"
            ],
            [
             0.1111111111111111,
             "#46039f"
            ],
            [
             0.2222222222222222,
             "#7201a8"
            ],
            [
             0.3333333333333333,
             "#9c179e"
            ],
            [
             0.4444444444444444,
             "#bd3786"
            ],
            [
             0.5555555555555556,
             "#d8576b"
            ],
            [
             0.6666666666666666,
             "#ed7953"
            ],
            [
             0.7777777777777778,
             "#fb9f3a"
            ],
            [
             0.8888888888888888,
             "#fdca26"
            ],
            [
             1,
             "#f0f921"
            ]
           ]
          },
          "colorway": [
           "#636efa",
           "#EF553B",
           "#00cc96",
           "#ab63fa",
           "#FFA15A",
           "#19d3f3",
           "#FF6692",
           "#B6E880",
           "#FF97FF",
           "#FECB52"
          ],
          "font": {
           "color": "#2a3f5f"
          },
          "geo": {
           "bgcolor": "white",
           "lakecolor": "white",
           "landcolor": "#E5ECF6",
           "showlakes": true,
           "showland": true,
           "subunitcolor": "white"
          },
          "hoverlabel": {
           "align": "left"
          },
          "hovermode": "closest",
          "mapbox": {
           "style": "light"
          },
          "paper_bgcolor": "white",
          "plot_bgcolor": "#E5ECF6",
          "polar": {
           "angularaxis": {
            "gridcolor": "white",
            "linecolor": "white",
            "ticks": ""
           },
           "bgcolor": "#E5ECF6",
           "radialaxis": {
            "gridcolor": "white",
            "linecolor": "white",
            "ticks": ""
           }
          },
          "scene": {
           "xaxis": {
            "backgroundcolor": "#E5ECF6",
            "gridcolor": "white",
            "gridwidth": 2,
            "linecolor": "white",
            "showbackground": true,
            "ticks": "",
            "zerolinecolor": "white"
           },
           "yaxis": {
            "backgroundcolor": "#E5ECF6",
            "gridcolor": "white",
            "gridwidth": 2,
            "linecolor": "white",
            "showbackground": true,
            "ticks": "",
            "zerolinecolor": "white"
           },
           "zaxis": {
            "backgroundcolor": "#E5ECF6",
            "gridcolor": "white",
            "gridwidth": 2,
            "linecolor": "white",
            "showbackground": true,
            "ticks": "",
            "zerolinecolor": "white"
           }
          },
          "shapedefaults": {
           "line": {
            "color": "#2a3f5f"
           }
          },
          "ternary": {
           "aaxis": {
            "gridcolor": "white",
            "linecolor": "white",
            "ticks": ""
           },
           "baxis": {
            "gridcolor": "white",
            "linecolor": "white",
            "ticks": ""
           },
           "bgcolor": "#E5ECF6",
           "caxis": {
            "gridcolor": "white",
            "linecolor": "white",
            "ticks": ""
           }
          },
          "title": {
           "x": 0.05
          },
          "xaxis": {
           "automargin": true,
           "gridcolor": "white",
           "linecolor": "white",
           "ticks": "",
           "title": {
            "standoff": 15
           },
           "zerolinecolor": "white",
           "zerolinewidth": 2
          },
          "yaxis": {
           "automargin": true,
           "gridcolor": "white",
           "linecolor": "white",
           "ticks": "",
           "title": {
            "standoff": 15
           },
           "zerolinecolor": "white",
           "zerolinewidth": 2
          }
         }
        },
        "title": {
         "text": "Pontuação dos jogos por experiência com jogos"
        },
        "xaxis": {
         "anchor": "y",
         "domain": [
          0,
          1
         ],
         "title": {
          "text": "Experiência com jogos"
         }
        },
        "yaxis": {
         "anchor": "x",
         "domain": [
          0,
          1
         ],
         "title": {
          "text": "Pontuação"
         }
        }
       }
      }
     },
     "metadata": {},
     "output_type": "display_data"
    }
   ],
   "source": [
    "df_experience = df.copy()\n",
    "df_experience['exp'] = df_experience['experience'].apply(lambda x: x > 1)\n",
    "\n",
    "fig = px.box(df_experience, y=GAMES, color='exp')\n",
    "fig.update_layout(title='Pontuação dos jogos por experiência com jogos',\n",
    "                    xaxis_title='Experiência com jogos',\n",
    "                    yaxis_title='Pontuação',\n",
    "                    font=dict(\n",
    "                        size=18\n",
    "                    ),\n",
    "                    legend_title='Exp. com jogos',\n",
    ")"
   ]
  },
  {
   "cell_type": "code",
   "execution_count": 77,
   "metadata": {},
   "outputs": [
    {
     "name": "stdout",
     "output_type": "stream",
     "text": [
      "Atenção & $4.1288 \\pm 14.25$ & 0.006 & 18.57 \\\\\n",
      "Coordenação & $9.5447 \\pm 12.37$ & 0.04 & 14.929 \\\\\n",
      "Memória & $5.7386 \\pm 10.17$ & 0.022 & 11.29 \\\\\n",
      "Percepção & $11.0995 \\pm 18.05$ & 0.026 & 20.827 \\\\\n",
      "Raciocínio & $6.125 \\pm 6.96$ & 0.052 & 8.742 \\\\\n"
     ]
    }
   ],
   "source": [
    "for game in GAMES:\n",
    "    model = smf.ols(formula=game+' ~ exp', data=df_experience)\n",
    "    results = model.fit()\n",
    "\n",
    "    # print(f\"Game: {game}\")\n",
    "    # print(results.summary())\n",
    "    # print('Intercept: ', results.params[0])\n",
    "    # print('Slope: ', results.params[1])\n",
    "    # print('Slope confidence interval 95%: ', results.conf_int()[0].values[1], ', ', results.conf_int()[1].values[1])\n",
    "    # print('R2: ', results.rsquared)\n",
    "    # print()\n",
    "\n",
    "    print(f\"{game} & \", end='')\n",
    "    print(f\"${round(results.params[1], 4)} \\pm {round(results.conf_int()[1].values[1] - results.params[1], 2)}$ & \", end='')\n",
    "    print(f\"{round(results.rsquared, 3)} & \", end='')\n",
    "    print(f\"{round(np.mean(np.abs(results.resid)), 3)} \\\\\\\\\", end='')\n",
    "    print()"
   ]
  },
  {
   "attachments": {},
   "cell_type": "markdown",
   "metadata": {},
   "source": [
    "# Comparando as pontuações da regiões 12 e 18 (MG e RJ)"
   ]
  },
  {
   "cell_type": "code",
   "execution_count": 83,
   "metadata": {},
   "outputs": [
    {
     "data": {
      "application/vnd.plotly.v1+json": {
       "config": {
        "plotlyServerURL": "https://plot.ly"
       },
       "data": [
        {
         "alignmentgroup": "True",
         "hovertemplate": "region=Minas Gerais<br>variable=%{x}<br>value=%{y}<extra></extra>",
         "legendgroup": "Minas Gerais",
         "marker": {
          "color": "#636efa"
         },
         "name": "Minas Gerais",
         "notched": false,
         "offsetgroup": "Minas Gerais",
         "orientation": "v",
         "showlegend": true,
         "type": "box",
         "x": [
          "Atenção",
          "Atenção",
          "Atenção",
          "Atenção",
          "Atenção",
          "Atenção",
          "Atenção",
          "Atenção",
          "Atenção",
          "Atenção",
          "Atenção",
          "Atenção",
          "Atenção",
          "Atenção",
          "Atenção",
          "Atenção",
          "Atenção",
          "Atenção",
          "Atenção",
          "Coordenação",
          "Coordenação",
          "Coordenação",
          "Coordenação",
          "Coordenação",
          "Coordenação",
          "Coordenação",
          "Coordenação",
          "Coordenação",
          "Coordenação",
          "Coordenação",
          "Coordenação",
          "Coordenação",
          "Coordenação",
          "Coordenação",
          "Coordenação",
          "Coordenação",
          "Coordenação",
          "Coordenação",
          "Memória",
          "Memória",
          "Memória",
          "Memória",
          "Memória",
          "Memória",
          "Memória",
          "Memória",
          "Memória",
          "Memória",
          "Memória",
          "Memória",
          "Memória",
          "Memória",
          "Memória",
          "Memória",
          "Memória",
          "Memória",
          "Memória",
          "Percepção",
          "Percepção",
          "Percepção",
          "Percepção",
          "Percepção",
          "Percepção",
          "Percepção",
          "Percepção",
          "Percepção",
          "Percepção",
          "Percepção",
          "Percepção",
          "Percepção",
          "Percepção",
          "Percepção",
          "Percepção",
          "Percepção",
          "Percepção",
          "Percepção",
          "Raciocínio",
          "Raciocínio",
          "Raciocínio",
          "Raciocínio",
          "Raciocínio",
          "Raciocínio",
          "Raciocínio",
          "Raciocínio",
          "Raciocínio",
          "Raciocínio",
          "Raciocínio",
          "Raciocínio",
          "Raciocínio",
          "Raciocínio",
          "Raciocínio",
          "Raciocínio",
          "Raciocínio",
          "Raciocínio",
          "Raciocínio"
         ],
         "x0": " ",
         "xaxis": "x",
         "y": [
          7,
          27,
          66,
          49,
          58,
          57,
          58,
          58,
          58,
          63,
          63,
          61,
          57,
          65,
          68,
          53,
          65,
          55,
          null,
          7.4,
          14.7,
          46,
          40,
          41.5,
          62.7,
          71,
          74,
          49.9,
          57,
          75.4,
          59.3,
          41.7,
          52,
          43.9,
          7.2,
          71,
          34.2,
          null,
          40,
          29,
          34,
          37,
          33,
          38,
          51,
          56,
          68,
          67,
          39,
          63,
          16,
          24,
          22,
          25,
          51,
          38,
          null,
          29.7,
          35.7,
          121.1,
          91.5,
          85.5,
          60.802119,
          80.5,
          86.4,
          104.7,
          55,
          55,
          93,
          60.6,
          55.3,
          86.5,
          48.7,
          49.5,
          54.3,
          null,
          15,
          4,
          29,
          34,
          30,
          7,
          18,
          19,
          29,
          26,
          35,
          21,
          23,
          20,
          22,
          5,
          22,
          5,
          null
         ],
         "y0": " ",
         "yaxis": "y"
        },
        {
         "alignmentgroup": "True",
         "hovertemplate": "region=Rio de Janeiro<br>variable=%{x}<br>value=%{y}<extra></extra>",
         "legendgroup": "Rio de Janeiro",
         "marker": {
          "color": "#EF553B"
         },
         "name": "Rio de Janeiro",
         "notched": false,
         "offsetgroup": "Rio de Janeiro",
         "orientation": "v",
         "showlegend": true,
         "type": "box",
         "x": [
          "Atenção",
          "Atenção",
          "Atenção",
          "Atenção",
          "Atenção",
          "Atenção",
          "Atenção",
          "Atenção",
          "Atenção",
          "Atenção",
          "Atenção",
          "Coordenação",
          "Coordenação",
          "Coordenação",
          "Coordenação",
          "Coordenação",
          "Coordenação",
          "Coordenação",
          "Coordenação",
          "Coordenação",
          "Coordenação",
          "Coordenação",
          "Memória",
          "Memória",
          "Memória",
          "Memória",
          "Memória",
          "Memória",
          "Memória",
          "Memória",
          "Memória",
          "Memória",
          "Memória",
          "Percepção",
          "Percepção",
          "Percepção",
          "Percepção",
          "Percepção",
          "Percepção",
          "Percepção",
          "Percepção",
          "Percepção",
          "Percepção",
          "Percepção",
          "Raciocínio",
          "Raciocínio",
          "Raciocínio",
          "Raciocínio",
          "Raciocínio",
          "Raciocínio",
          "Raciocínio",
          "Raciocínio",
          "Raciocínio",
          "Raciocínio",
          "Raciocínio"
         ],
         "x0": " ",
         "xaxis": "x",
         "y": [
          0,
          55,
          14,
          60,
          48,
          62,
          65,
          45,
          23,
          26,
          null,
          12.2,
          34.3,
          14.4,
          51,
          49,
          47.8,
          36,
          47.3,
          42.8,
          13.5,
          null,
          1,
          17,
          33,
          15,
          30,
          26,
          34,
          30,
          32,
          28,
          null,
          0,
          60.6,
          54.8,
          36.1,
          29.9,
          56.8,
          24.4,
          79.4,
          35.4,
          36.1,
          null,
          0,
          11,
          26,
          27,
          18,
          5,
          9,
          16,
          28,
          31,
          null
         ],
         "y0": " ",
         "yaxis": "y"
        }
       ],
       "layout": {
        "boxmode": "group",
        "font": {
         "size": 18
        },
        "legend": {
         "title": {
          "text": "Região"
         },
         "tracegroupgap": 0
        },
        "margin": {
         "t": 60
        },
        "template": {
         "data": {
          "bar": [
           {
            "error_x": {
             "color": "#2a3f5f"
            },
            "error_y": {
             "color": "#2a3f5f"
            },
            "marker": {
             "line": {
              "color": "#E5ECF6",
              "width": 0.5
             },
             "pattern": {
              "fillmode": "overlay",
              "size": 10,
              "solidity": 0.2
             }
            },
            "type": "bar"
           }
          ],
          "barpolar": [
           {
            "marker": {
             "line": {
              "color": "#E5ECF6",
              "width": 0.5
             },
             "pattern": {
              "fillmode": "overlay",
              "size": 10,
              "solidity": 0.2
             }
            },
            "type": "barpolar"
           }
          ],
          "carpet": [
           {
            "aaxis": {
             "endlinecolor": "#2a3f5f",
             "gridcolor": "white",
             "linecolor": "white",
             "minorgridcolor": "white",
             "startlinecolor": "#2a3f5f"
            },
            "baxis": {
             "endlinecolor": "#2a3f5f",
             "gridcolor": "white",
             "linecolor": "white",
             "minorgridcolor": "white",
             "startlinecolor": "#2a3f5f"
            },
            "type": "carpet"
           }
          ],
          "choropleth": [
           {
            "colorbar": {
             "outlinewidth": 0,
             "ticks": ""
            },
            "type": "choropleth"
           }
          ],
          "contour": [
           {
            "colorbar": {
             "outlinewidth": 0,
             "ticks": ""
            },
            "colorscale": [
             [
              0,
              "#0d0887"
             ],
             [
              0.1111111111111111,
              "#46039f"
             ],
             [
              0.2222222222222222,
              "#7201a8"
             ],
             [
              0.3333333333333333,
              "#9c179e"
             ],
             [
              0.4444444444444444,
              "#bd3786"
             ],
             [
              0.5555555555555556,
              "#d8576b"
             ],
             [
              0.6666666666666666,
              "#ed7953"
             ],
             [
              0.7777777777777778,
              "#fb9f3a"
             ],
             [
              0.8888888888888888,
              "#fdca26"
             ],
             [
              1,
              "#f0f921"
             ]
            ],
            "type": "contour"
           }
          ],
          "contourcarpet": [
           {
            "colorbar": {
             "outlinewidth": 0,
             "ticks": ""
            },
            "type": "contourcarpet"
           }
          ],
          "heatmap": [
           {
            "colorbar": {
             "outlinewidth": 0,
             "ticks": ""
            },
            "colorscale": [
             [
              0,
              "#0d0887"
             ],
             [
              0.1111111111111111,
              "#46039f"
             ],
             [
              0.2222222222222222,
              "#7201a8"
             ],
             [
              0.3333333333333333,
              "#9c179e"
             ],
             [
              0.4444444444444444,
              "#bd3786"
             ],
             [
              0.5555555555555556,
              "#d8576b"
             ],
             [
              0.6666666666666666,
              "#ed7953"
             ],
             [
              0.7777777777777778,
              "#fb9f3a"
             ],
             [
              0.8888888888888888,
              "#fdca26"
             ],
             [
              1,
              "#f0f921"
             ]
            ],
            "type": "heatmap"
           }
          ],
          "heatmapgl": [
           {
            "colorbar": {
             "outlinewidth": 0,
             "ticks": ""
            },
            "colorscale": [
             [
              0,
              "#0d0887"
             ],
             [
              0.1111111111111111,
              "#46039f"
             ],
             [
              0.2222222222222222,
              "#7201a8"
             ],
             [
              0.3333333333333333,
              "#9c179e"
             ],
             [
              0.4444444444444444,
              "#bd3786"
             ],
             [
              0.5555555555555556,
              "#d8576b"
             ],
             [
              0.6666666666666666,
              "#ed7953"
             ],
             [
              0.7777777777777778,
              "#fb9f3a"
             ],
             [
              0.8888888888888888,
              "#fdca26"
             ],
             [
              1,
              "#f0f921"
             ]
            ],
            "type": "heatmapgl"
           }
          ],
          "histogram": [
           {
            "marker": {
             "pattern": {
              "fillmode": "overlay",
              "size": 10,
              "solidity": 0.2
             }
            },
            "type": "histogram"
           }
          ],
          "histogram2d": [
           {
            "colorbar": {
             "outlinewidth": 0,
             "ticks": ""
            },
            "colorscale": [
             [
              0,
              "#0d0887"
             ],
             [
              0.1111111111111111,
              "#46039f"
             ],
             [
              0.2222222222222222,
              "#7201a8"
             ],
             [
              0.3333333333333333,
              "#9c179e"
             ],
             [
              0.4444444444444444,
              "#bd3786"
             ],
             [
              0.5555555555555556,
              "#d8576b"
             ],
             [
              0.6666666666666666,
              "#ed7953"
             ],
             [
              0.7777777777777778,
              "#fb9f3a"
             ],
             [
              0.8888888888888888,
              "#fdca26"
             ],
             [
              1,
              "#f0f921"
             ]
            ],
            "type": "histogram2d"
           }
          ],
          "histogram2dcontour": [
           {
            "colorbar": {
             "outlinewidth": 0,
             "ticks": ""
            },
            "colorscale": [
             [
              0,
              "#0d0887"
             ],
             [
              0.1111111111111111,
              "#46039f"
             ],
             [
              0.2222222222222222,
              "#7201a8"
             ],
             [
              0.3333333333333333,
              "#9c179e"
             ],
             [
              0.4444444444444444,
              "#bd3786"
             ],
             [
              0.5555555555555556,
              "#d8576b"
             ],
             [
              0.6666666666666666,
              "#ed7953"
             ],
             [
              0.7777777777777778,
              "#fb9f3a"
             ],
             [
              0.8888888888888888,
              "#fdca26"
             ],
             [
              1,
              "#f0f921"
             ]
            ],
            "type": "histogram2dcontour"
           }
          ],
          "mesh3d": [
           {
            "colorbar": {
             "outlinewidth": 0,
             "ticks": ""
            },
            "type": "mesh3d"
           }
          ],
          "parcoords": [
           {
            "line": {
             "colorbar": {
              "outlinewidth": 0,
              "ticks": ""
             }
            },
            "type": "parcoords"
           }
          ],
          "pie": [
           {
            "automargin": true,
            "type": "pie"
           }
          ],
          "scatter": [
           {
            "fillpattern": {
             "fillmode": "overlay",
             "size": 10,
             "solidity": 0.2
            },
            "type": "scatter"
           }
          ],
          "scatter3d": [
           {
            "line": {
             "colorbar": {
              "outlinewidth": 0,
              "ticks": ""
             }
            },
            "marker": {
             "colorbar": {
              "outlinewidth": 0,
              "ticks": ""
             }
            },
            "type": "scatter3d"
           }
          ],
          "scattercarpet": [
           {
            "marker": {
             "colorbar": {
              "outlinewidth": 0,
              "ticks": ""
             }
            },
            "type": "scattercarpet"
           }
          ],
          "scattergeo": [
           {
            "marker": {
             "colorbar": {
              "outlinewidth": 0,
              "ticks": ""
             }
            },
            "type": "scattergeo"
           }
          ],
          "scattergl": [
           {
            "marker": {
             "colorbar": {
              "outlinewidth": 0,
              "ticks": ""
             }
            },
            "type": "scattergl"
           }
          ],
          "scattermapbox": [
           {
            "marker": {
             "colorbar": {
              "outlinewidth": 0,
              "ticks": ""
             }
            },
            "type": "scattermapbox"
           }
          ],
          "scatterpolar": [
           {
            "marker": {
             "colorbar": {
              "outlinewidth": 0,
              "ticks": ""
             }
            },
            "type": "scatterpolar"
           }
          ],
          "scatterpolargl": [
           {
            "marker": {
             "colorbar": {
              "outlinewidth": 0,
              "ticks": ""
             }
            },
            "type": "scatterpolargl"
           }
          ],
          "scatterternary": [
           {
            "marker": {
             "colorbar": {
              "outlinewidth": 0,
              "ticks": ""
             }
            },
            "type": "scatterternary"
           }
          ],
          "surface": [
           {
            "colorbar": {
             "outlinewidth": 0,
             "ticks": ""
            },
            "colorscale": [
             [
              0,
              "#0d0887"
             ],
             [
              0.1111111111111111,
              "#46039f"
             ],
             [
              0.2222222222222222,
              "#7201a8"
             ],
             [
              0.3333333333333333,
              "#9c179e"
             ],
             [
              0.4444444444444444,
              "#bd3786"
             ],
             [
              0.5555555555555556,
              "#d8576b"
             ],
             [
              0.6666666666666666,
              "#ed7953"
             ],
             [
              0.7777777777777778,
              "#fb9f3a"
             ],
             [
              0.8888888888888888,
              "#fdca26"
             ],
             [
              1,
              "#f0f921"
             ]
            ],
            "type": "surface"
           }
          ],
          "table": [
           {
            "cells": {
             "fill": {
              "color": "#EBF0F8"
             },
             "line": {
              "color": "white"
             }
            },
            "header": {
             "fill": {
              "color": "#C8D4E3"
             },
             "line": {
              "color": "white"
             }
            },
            "type": "table"
           }
          ]
         },
         "layout": {
          "annotationdefaults": {
           "arrowcolor": "#2a3f5f",
           "arrowhead": 0,
           "arrowwidth": 1
          },
          "autotypenumbers": "strict",
          "coloraxis": {
           "colorbar": {
            "outlinewidth": 0,
            "ticks": ""
           }
          },
          "colorscale": {
           "diverging": [
            [
             0,
             "#8e0152"
            ],
            [
             0.1,
             "#c51b7d"
            ],
            [
             0.2,
             "#de77ae"
            ],
            [
             0.3,
             "#f1b6da"
            ],
            [
             0.4,
             "#fde0ef"
            ],
            [
             0.5,
             "#f7f7f7"
            ],
            [
             0.6,
             "#e6f5d0"
            ],
            [
             0.7,
             "#b8e186"
            ],
            [
             0.8,
             "#7fbc41"
            ],
            [
             0.9,
             "#4d9221"
            ],
            [
             1,
             "#276419"
            ]
           ],
           "sequential": [
            [
             0,
             "#0d0887"
            ],
            [
             0.1111111111111111,
             "#46039f"
            ],
            [
             0.2222222222222222,
             "#7201a8"
            ],
            [
             0.3333333333333333,
             "#9c179e"
            ],
            [
             0.4444444444444444,
             "#bd3786"
            ],
            [
             0.5555555555555556,
             "#d8576b"
            ],
            [
             0.6666666666666666,
             "#ed7953"
            ],
            [
             0.7777777777777778,
             "#fb9f3a"
            ],
            [
             0.8888888888888888,
             "#fdca26"
            ],
            [
             1,
             "#f0f921"
            ]
           ],
           "sequentialminus": [
            [
             0,
             "#0d0887"
            ],
            [
             0.1111111111111111,
             "#46039f"
            ],
            [
             0.2222222222222222,
             "#7201a8"
            ],
            [
             0.3333333333333333,
             "#9c179e"
            ],
            [
             0.4444444444444444,
             "#bd3786"
            ],
            [
             0.5555555555555556,
             "#d8576b"
            ],
            [
             0.6666666666666666,
             "#ed7953"
            ],
            [
             0.7777777777777778,
             "#fb9f3a"
            ],
            [
             0.8888888888888888,
             "#fdca26"
            ],
            [
             1,
             "#f0f921"
            ]
           ]
          },
          "colorway": [
           "#636efa",
           "#EF553B",
           "#00cc96",
           "#ab63fa",
           "#FFA15A",
           "#19d3f3",
           "#FF6692",
           "#B6E880",
           "#FF97FF",
           "#FECB52"
          ],
          "font": {
           "color": "#2a3f5f"
          },
          "geo": {
           "bgcolor": "white",
           "lakecolor": "white",
           "landcolor": "#E5ECF6",
           "showlakes": true,
           "showland": true,
           "subunitcolor": "white"
          },
          "hoverlabel": {
           "align": "left"
          },
          "hovermode": "closest",
          "mapbox": {
           "style": "light"
          },
          "paper_bgcolor": "white",
          "plot_bgcolor": "#E5ECF6",
          "polar": {
           "angularaxis": {
            "gridcolor": "white",
            "linecolor": "white",
            "ticks": ""
           },
           "bgcolor": "#E5ECF6",
           "radialaxis": {
            "gridcolor": "white",
            "linecolor": "white",
            "ticks": ""
           }
          },
          "scene": {
           "xaxis": {
            "backgroundcolor": "#E5ECF6",
            "gridcolor": "white",
            "gridwidth": 2,
            "linecolor": "white",
            "showbackground": true,
            "ticks": "",
            "zerolinecolor": "white"
           },
           "yaxis": {
            "backgroundcolor": "#E5ECF6",
            "gridcolor": "white",
            "gridwidth": 2,
            "linecolor": "white",
            "showbackground": true,
            "ticks": "",
            "zerolinecolor": "white"
           },
           "zaxis": {
            "backgroundcolor": "#E5ECF6",
            "gridcolor": "white",
            "gridwidth": 2,
            "linecolor": "white",
            "showbackground": true,
            "ticks": "",
            "zerolinecolor": "white"
           }
          },
          "shapedefaults": {
           "line": {
            "color": "#2a3f5f"
           }
          },
          "ternary": {
           "aaxis": {
            "gridcolor": "white",
            "linecolor": "white",
            "ticks": ""
           },
           "baxis": {
            "gridcolor": "white",
            "linecolor": "white",
            "ticks": ""
           },
           "bgcolor": "#E5ECF6",
           "caxis": {
            "gridcolor": "white",
            "linecolor": "white",
            "ticks": ""
           }
          },
          "title": {
           "x": 0.05
          },
          "xaxis": {
           "automargin": true,
           "gridcolor": "white",
           "linecolor": "white",
           "ticks": "",
           "title": {
            "standoff": 15
           },
           "zerolinecolor": "white",
           "zerolinewidth": 2
          },
          "yaxis": {
           "automargin": true,
           "gridcolor": "white",
           "linecolor": "white",
           "ticks": "",
           "title": {
            "standoff": 15
           },
           "zerolinecolor": "white",
           "zerolinewidth": 2
          }
         }
        },
        "title": {
         "text": "Pontuação dos jogos por região"
        },
        "xaxis": {
         "anchor": "y",
         "domain": [
          0,
          1
         ],
         "title": {
          "text": "Região"
         }
        },
        "yaxis": {
         "anchor": "x",
         "domain": [
          0,
          1
         ],
         "title": {
          "text": "Pontuação"
         }
        }
       }
      }
     },
     "metadata": {},
     "output_type": "display_data"
    }
   ],
   "source": [
    "df['region'] = df['region'].astype(str)\n",
    "df_regions = df[(df['region'] == '12') | (df['region'] == '18')]\n",
    "df_regions['region'] = df_regions['region'].apply(lambda x: 'Minas Gerais' if x == '12' else 'Rio de Janeiro')\n",
    "\n",
    "fig = px.box(df_regions, y=GAMES, color='region')\n",
    "fig.update_layout(title='Pontuação dos jogos por região',\n",
    "                    xaxis_title='Região',\n",
    "                    yaxis_title='Pontuação',\n",
    "                    font=dict(\n",
    "                        size=18\n",
    "                    ),\n",
    "                    legend_title='Região',\n",
    ")"
   ]
  },
  {
   "cell_type": "code",
   "execution_count": 82,
   "metadata": {},
   "outputs": [
    {
     "data": {
      "text/plain": [
       "Minas Gerias      19\n",
       "Rio de Janeiro    11\n",
       "Name: region, dtype: int64"
      ]
     },
     "execution_count": 82,
     "metadata": {},
     "output_type": "execute_result"
    }
   ],
   "source": [
    "# count values\n",
    "df_regions['region'].value_counts()"
   ]
  },
  {
   "cell_type": "code",
   "execution_count": 86,
   "metadata": {},
   "outputs": [
    {
     "name": "stdout",
     "output_type": "stream",
     "text": [
      "Atenção & $15.0889 \\pm 14.58$ & 0.148 & 12.84 \\\\\n",
      "Coordenação & $12.3311 \\pm 15.84$ & 0.09 & 15.198 \\\\\n",
      "Memória & $16.0111 \\pm 11.39$ & 0.243 & 10.938 \\\\\n",
      "Percepção & $28.3057 \\pm 19.42$ & 0.257 & 19.868 \\\\\n",
      "Raciocínio & $3.1222 \\pm 8.22$ & 0.023 & 8.091 \\\\\n"
     ]
    }
   ],
   "source": [
    "df_regions2 = df_regions.copy()\n",
    "df_regions2['region'] = (df_regions2['region'] == 'Minas Gerais').astype(int)\n",
    "\n",
    "for game in GAMES:\n",
    "    model = smf.ols(formula=game+' ~ region', data=df_regions2)\n",
    "    results = model.fit()\n",
    "\n",
    "    # print(f\"Game: {game}\")\n",
    "    # print(results.summary())\n",
    "    # print('Intercept: ', results.params[0])\n",
    "    # print('Slope: ', results.params[1])\n",
    "    # print('Slope confidence interval 95%: ', results.conf_int()[0].values[1], ', ', results.conf_int()[1].values[1])\n",
    "    # print('R2: ', results.rsquared)\n",
    "    # print('MAPE: ', np.mean(np.abs(results.resid/results.fittedvalues)))\n",
    "    # print()\n",
    "\n",
    "    print(f\"{game} & \", end='')\n",
    "    print(f\"${round(results.params[1], 4)} \\pm {round(results.conf_int()[1].values[1] - results.params[1], 2)}$ & \", end='')\n",
    "    print(f\"{round(results.rsquared, 3)} & \", end='')\n",
    "    print(f\"{round(np.mean(np.abs(results.resid)), 3)} \\\\\\\\\", end='')\n",
    "    print()"
   ]
  },
  {
   "cell_type": "code",
   "execution_count": 90,
   "metadata": {},
   "outputs": [],
   "source": [
    "df_full = df.copy()\n",
    "df_full = df_full.dropna()\n",
    "df_full = df_full[(df_full['region'] == '12') | (df_full['region'] == '18')]\n",
    "df_full['minas'] = (df_full['region'] == '12')\n",
    "df_full['exp'] = df_full['experience'] > 1\n",
    "df_full['safe_sleep'] = df_full['sono'].apply(lambda x: x in ['7', '8', '9'])\n",
    "df_full.shape\n",
    "\n",
    "for game in GAMES:\n",
    "    df_full[game] = df_full[game].apply(lambda x: x if x > 0 else 0.0001)"
   ]
  },
  {
   "cell_type": "code",
   "execution_count": null,
   "metadata": {},
   "outputs": [
    {
     "name": "stdout",
     "output_type": "stream",
     "text": [
      "                 Generalized Linear Model Regression Results                  \n",
      "==============================================================================\n",
      "Dep. Variable:                atencao   No. Observations:                   28\n",
      "Model:                            GLM   Df Residuals:                       21\n",
      "Model Family:                   Gamma   Df Model:                            6\n",
      "Link Function:           InversePower   Scale:                         0.18899\n",
      "Method:                          IRLS   Log-Likelihood:                    inf\n",
      "Date:                Mon, 26 Jun 2023   Deviance:                       73.549\n",
      "Time:                        10:48:59   Pearson chi2:                     3.97\n",
      "No. Iterations:                     7   Pseudo R-squ. (CS):                nan\n",
      "Covariance Type:            nonrobust                                         \n",
      "======================================================================================\n",
      "                         coef    std err          z      P>|z|      [0.025      0.975]\n",
      "--------------------------------------------------------------------------------------\n",
      "Intercept              0.0362      0.007      5.546      0.000       0.023       0.049\n",
      "minas[T.True]         -0.0026      0.005     -0.493      0.622      -0.013       0.008\n",
      "safe_sleep[T.True]     0.0017      0.004      0.418      0.676      -0.006       0.010\n",
      "coordenacao           -0.0003      0.000     -2.666      0.008      -0.001   -8.17e-05\n",
      "memoria                0.0001      0.000      0.963      0.336      -0.000       0.000\n",
      "percepcao             -0.0001   7.57e-05     -1.593      0.111      -0.000    2.78e-05\n",
      "raciocinio             0.0001      0.000      0.607      0.544      -0.000       0.001\n",
      "======================================================================================\n"
     ]
    },
    {
     "name": "stderr",
     "output_type": "stream",
     "text": [
      "c:\\Users\\lagua\\AppData\\Local\\Programs\\Python\\Python311\\Lib\\site-packages\\statsmodels\\genmod\\generalized_linear_model.py:307: DomainWarning:\n",
      "\n",
      "The InversePower link function does not respect the domain of the Gamma family.\n",
      "\n",
      "c:\\Users\\lagua\\AppData\\Local\\Programs\\Python\\Python311\\Lib\\site-packages\\statsmodels\\genmod\\families\\family.py:812: RuntimeWarning:\n",
      "\n",
      "divide by zero encountered in log\n",
      "\n",
      "c:\\Users\\lagua\\AppData\\Local\\Programs\\Python\\Python311\\Lib\\site-packages\\statsmodels\\genmod\\generalized_linear_model.py:1806: RuntimeWarning:\n",
      "\n",
      "invalid value encountered in double_scalars\n",
      "\n"
     ]
    }
   ],
   "source": [
    "model = smf.glm(formula='atencao ~ coordenacao + memoria + percepcao + raciocinio + minas + safe_sleep', data=df_full, family=sm.api.families.Gamma())\n",
    "results = model.fit()\n",
    "print(results.summary())"
   ]
  },
  {
   "cell_type": "code",
   "execution_count": 98,
   "metadata": {},
   "outputs": [
    {
     "name": "stdout",
     "output_type": "stream",
     "text": [
      "343.23571135304945\n",
      "                 Generalized Linear Model Regression Results                  \n",
      "==============================================================================\n",
      "Dep. Variable:                Atenção   No. Observations:                   28\n",
      "Model:                            GLM   Df Residuals:                       23\n",
      "Model Family:                   Gamma   Df Model:                            4\n",
      "Link Function:                    Log   Scale:                         0.18725\n",
      "Method:                          IRLS   Log-Likelihood:                -166.62\n",
      "Date:                Tue, 27 Jun 2023   Deviance:                       25.993\n",
      "Time:                        15:28:27   Pearson chi2:                     4.31\n",
      "No. Iterations:                    17   Pseudo R-squ. (CS):             0.4892\n",
      "Covariance Type:            nonrobust                                         \n",
      "===============================================================================\n",
      "                  coef    std err          z      P>|z|      [0.025      0.975]\n",
      "-------------------------------------------------------------------------------\n",
      "Intercept       2.9564      0.247     11.971      0.000       2.472       3.440\n",
      "Coordenação     0.0173      0.005      3.437      0.001       0.007       0.027\n",
      "Memória        -0.0046      0.006     -0.716      0.474      -0.017       0.008\n",
      "Percepção       0.0082      0.004      2.159      0.031       0.001       0.016\n",
      "Raciocínio     -0.0096      0.009     -1.022      0.307      -0.028       0.009\n",
      "===============================================================================\n",
      "341.4858924171017\n",
      "                 Generalized Linear Model Regression Results                  \n",
      "==============================================================================\n",
      "Dep. Variable:                Atenção   No. Observations:                   28\n",
      "Model:                            GLM   Df Residuals:                       21\n",
      "Model Family:                   Gamma   Df Model:                            6\n",
      "Link Function:                    Log   Scale:                         0.19700\n",
      "Method:                          IRLS   Log-Likelihood:                -163.74\n",
      "Date:                Tue, 27 Jun 2023   Deviance:                       25.925\n",
      "Time:                        15:28:28   Pearson chi2:                     4.14\n",
      "No. Iterations:                    17   Pseudo R-squ. (CS):             0.4784\n",
      "Covariance Type:            nonrobust                                         \n",
      "======================================================================================\n",
      "                         coef    std err          z      P>|z|      [0.025      0.975]\n",
      "--------------------------------------------------------------------------------------\n",
      "Intercept              2.9984      0.262     11.462      0.000       2.486       3.511\n",
      "minas[T.True]          0.1430      0.249      0.573      0.566      -0.346       0.632\n",
      "safe_sleep[T.True]    -0.1169      0.230     -0.509      0.611      -0.567       0.333\n",
      "Coordenação            0.0171      0.005      3.277      0.001       0.007       0.027\n",
      "Memória               -0.0050      0.007     -0.707      0.480      -0.019       0.009\n",
      "Percepção              0.0076      0.004      1.796      0.073      -0.001       0.016\n",
      "Raciocínio            -0.0094      0.010     -0.959      0.337      -0.028       0.010\n",
      "======================================================================================\n",
      "334.54039904415964\n",
      "                 Generalized Linear Model Regression Results                  \n",
      "==============================================================================\n",
      "Dep. Variable:                Atenção   No. Observations:                   28\n",
      "Model:                            GLM   Df Residuals:                       20\n",
      "Model Family:                   Gamma   Df Model:                            7\n",
      "Link Function:                    Log   Scale:                         0.21386\n",
      "Method:                          IRLS   Log-Likelihood:                -159.27\n",
      "Date:                Tue, 27 Jun 2023   Deviance:                       25.722\n",
      "Time:                        15:28:28   Pearson chi2:                     4.28\n",
      "No. Iterations:                    24   Pseudo R-squ. (CS):             0.4693\n",
      "Covariance Type:            nonrobust                                         \n",
      "======================================================================================\n",
      "                         coef    std err          z      P>|z|      [0.025      0.975]\n",
      "--------------------------------------------------------------------------------------\n",
      "Intercept              3.0868      0.308     10.016      0.000       2.483       3.691\n",
      "minas[T.True]          0.1539      0.265      0.582      0.561      -0.365       0.673\n",
      "safe_sleep[T.True]    -0.1272      0.239     -0.531      0.595      -0.596       0.342\n",
      "exp[T.True]           -0.2545      0.246     -1.033      0.302      -0.738       0.229\n",
      "Coordenação            0.0199      0.006      3.513      0.000       0.009       0.031\n",
      "Memória               -0.0056      0.007     -0.756      0.450      -0.020       0.009\n",
      "Percepção              0.0076      0.004      1.740      0.082      -0.001       0.016\n",
      "Raciocínio            -0.0087      0.010     -0.858      0.391      -0.029       0.011\n",
      "======================================================================================\n"
     ]
    }
   ],
   "source": [
    "FORMULAS = [\n",
    "    'Atenção ~ Coordenação + Memória + Percepção + Raciocínio',\n",
    "    'Atenção ~ Coordenação + Memória + Percepção + Raciocínio + minas + safe_sleep',\n",
    "    'Atenção ~ Coordenação + Memória + Percepção + Raciocínio + minas + safe_sleep + exp',\n",
    "]\n",
    "\n",
    "for formula in FORMULAS:\n",
    "    model = smf.glm(formula=formula, data=df_full, family=families.Gamma(link=families.links.Log()))\n",
    "    results = model.fit()\n",
    "    print(results.aic)\n",
    "    # print mse\n",
    "    print(results.summary())"
   ]
  },
  {
   "attachments": {},
   "cell_type": "markdown",
   "metadata": {},
   "source": [
    "                  coef    std err          z      P>|z|      [0.025      0.975]\n",
    "-------------------------------------------------------------------------------\n",
    "Intercept       2.9564      0.247     11.971      0.000       2.472       3.440\n",
    "Coordenação     0.0173      0.005      3.437      0.001       0.007       0.027\n",
    "Memória        -0.0046      0.006     -0.716      0.474      -0.017       0.008\n",
    "Percepção       0.0082      0.004      2.159      0.031       0.001       0.016\n",
    "Raciocínio     -0.0096      0.009     -1.022      0.307      -0.028       0.009"
   ]
  },
  {
   "cell_type": "code",
   "execution_count": null,
   "metadata": {},
   "outputs": [],
   "source": [
    "for formula in FORMULAS:\n",
    "    model = smf.glm(formula=formula, data=df_full, family=families.Gamma(link=families.links.Log()))\n",
    "    results = model.fit()\n",
    "    \n",
    "    print(f\"{formula} & \", end='')\n",
    "    print(f\"${round(results.params[1], 4)} \\pm {round(results.conf_int()[1].values[1] - results.params[1], 2)}$ & \", end='')\n",
    "    print(f\"{round(results.rsquared, 3)} & \", end='')"
   ]
  },
  {
   "cell_type": "code",
   "execution_count": 94,
   "metadata": {},
   "outputs": [],
   "source": [
    "from statsmodels.api import families"
   ]
  },
  {
   "cell_type": "code",
   "execution_count": null,
   "metadata": {},
   "outputs": [],
   "source": [
    "from statsmodels.graphics.regressionplots import plot_partregress_grid"
   ]
  },
  {
   "cell_type": "code",
   "execution_count": null,
   "metadata": {},
   "outputs": [
    {
     "data": {
      "image/png": "[encoded data removed]",
      "text/plain": [
       "<Figure size 640x480 with 7 Axes>"
      ]
     },
     "metadata": {},
     "output_type": "display_data"
    }
   ],
   "source": [
    "fig = plot_partregress_grid(results)"
   ]
  },
  {
   "cell_type": "code",
   "execution_count": null,
   "metadata": {},
   "outputs": [
    {
     "data": {
      "application/vnd.plotly.v1+json": {
       "config": {
        "plotlyServerURL": "https://plot.ly"
       },
       "data": [
        {
         "mode": "markers",
         "type": "scatter",
         "x": [
          7,
          27,
          0,
          55,
          14,
          60,
          66,
          49,
          58,
          57,
          58,
          58,
          58,
          63,
          63,
          61,
          48,
          57,
          65,
          68,
          53,
          62,
          65,
          65,
          45,
          55,
          23,
          26
         ],
         "y": [
          27.291460989086076,
          32.40157414370916,
          30.715764050724236,
          45.621618396747024,
          29.056914826590653,
          46.823866362591424,
          77.70831617988217,
          47.6393356089053,
          49.42607317684009,
          68.41591131364699,
          78.37903353474225,
          83.8866183395374,
          50.08402259289395,
          42.96040148175481,
          67.25744277503227,
          59.35715964224134,
          39.3862760179525,
          49.9279811165212,
          54.876488615435655,
          59.08708532500261,
          32.06894893894187,
          53.40527255559419,
          35.92788219045162,
          65.4784637029889,
          50.743589038332004,
          41.75368252280968,
          37.8794078732577,
          28.43940868775521
         ]
        },
        {
         "mode": "lines",
         "type": "scatter",
         "x": [
          7,
          27,
          0,
          55,
          14,
          60,
          66,
          49,
          58,
          57,
          58,
          58,
          58,
          63,
          63,
          61,
          48,
          57,
          65,
          68,
          53,
          62,
          65,
          65,
          45,
          55,
          23,
          26
         ],
         "y": [
          7,
          27,
          0,
          55,
          14,
          60,
          66,
          49,
          58,
          57,
          58,
          58,
          58,
          63,
          63,
          61,
          48,
          57,
          65,
          68,
          53,
          62,
          65,
          65,
          45,
          55,
          23,
          26
         ]
        }
       ],
       "layout": {
        "template": {
         "data": {
          "bar": [
           {
            "error_x": {
             "color": "#2a3f5f"
            },
            "error_y": {
             "color": "#2a3f5f"
            },
            "marker": {
             "line": {
              "color": "#E5ECF6",
              "width": 0.5
             },
             "pattern": {
              "fillmode": "overlay",
              "size": 10,
              "solidity": 0.2
             }
            },
            "type": "bar"
           }
          ],
          "barpolar": [
           {
            "marker": {
             "line": {
              "color": "#E5ECF6",
              "width": 0.5
             },
             "pattern": {
              "fillmode": "overlay",
              "size": 10,
              "solidity": 0.2
             }
            },
            "type": "barpolar"
           }
          ],
          "carpet": [
           {
            "aaxis": {
             "endlinecolor": "#2a3f5f",
             "gridcolor": "white",
             "linecolor": "white",
             "minorgridcolor": "white",
             "startlinecolor": "#2a3f5f"
            },
            "baxis": {
             "endlinecolor": "#2a3f5f",
             "gridcolor": "white",
             "linecolor": "white",
             "minorgridcolor": "white",
             "startlinecolor": "#2a3f5f"
            },
            "type": "carpet"
           }
          ],
          "choropleth": [
           {
            "colorbar": {
             "outlinewidth": 0,
             "ticks": ""
            },
            "type": "choropleth"
           }
          ],
          "contour": [
           {
            "colorbar": {
             "outlinewidth": 0,
             "ticks": ""
            },
            "colorscale": [
             [
              0,
              "#0d0887"
             ],
             [
              0.1111111111111111,
              "#46039f"
             ],
             [
              0.2222222222222222,
              "#7201a8"
             ],
             [
              0.3333333333333333,
              "#9c179e"
             ],
             [
              0.4444444444444444,
              "#bd3786"
             ],
             [
              0.5555555555555556,
              "#d8576b"
             ],
             [
              0.6666666666666666,
              "#ed7953"
             ],
             [
              0.7777777777777778,
              "#fb9f3a"
             ],
             [
              0.8888888888888888,
              "#fdca26"
             ],
             [
              1,
              "#f0f921"
             ]
            ],
            "type": "contour"
           }
          ],
          "contourcarpet": [
           {
            "colorbar": {
             "outlinewidth": 0,
             "ticks": ""
            },
            "type": "contourcarpet"
           }
          ],
          "heatmap": [
           {
            "colorbar": {
             "outlinewidth": 0,
             "ticks": ""
            },
            "colorscale": [
             [
              0,
              "#0d0887"
             ],
             [
              0.1111111111111111,
              "#46039f"
             ],
             [
              0.2222222222222222,
              "#7201a8"
             ],
             [
              0.3333333333333333,
              "#9c179e"
             ],
             [
              0.4444444444444444,
              "#bd3786"
             ],
             [
              0.5555555555555556,
              "#d8576b"
             ],
             [
              0.6666666666666666,
              "#ed7953"
             ],
             [
              0.7777777777777778,
              "#fb9f3a"
             ],
             [
              0.8888888888888888,
              "#fdca26"
             ],
             [
              1,
              "#f0f921"
             ]
            ],
            "type": "heatmap"
           }
          ],
          "heatmapgl": [
           {
            "colorbar": {
             "outlinewidth": 0,
             "ticks": ""
            },
            "colorscale": [
             [
              0,
              "#0d0887"
             ],
             [
              0.1111111111111111,
              "#46039f"
             ],
             [
              0.2222222222222222,
              "#7201a8"
             ],
             [
              0.3333333333333333,
              "#9c179e"
             ],
             [
              0.4444444444444444,
              "#bd3786"
             ],
             [
              0.5555555555555556,
              "#d8576b"
             ],
             [
              0.6666666666666666,
              "#ed7953"
             ],
             [
              0.7777777777777778,
              "#fb9f3a"
             ],
             [
              0.8888888888888888,
              "#fdca26"
             ],
             [
              1,
              "#f0f921"
             ]
            ],
            "type": "heatmapgl"
           }
          ],
          "histogram": [
           {
            "marker": {
             "pattern": {
              "fillmode": "overlay",
              "size": 10,
              "solidity": 0.2
             }
            },
            "type": "histogram"
           }
          ],
          "histogram2d": [
           {
            "colorbar": {
             "outlinewidth": 0,
             "ticks": ""
            },
            "colorscale": [
             [
              0,
              "#0d0887"
             ],
             [
              0.1111111111111111,
              "#46039f"
             ],
             [
              0.2222222222222222,
              "#7201a8"
             ],
             [
              0.3333333333333333,
              "#9c179e"
             ],
             [
              0.4444444444444444,
              "#bd3786"
             ],
             [
              0.5555555555555556,
              "#d8576b"
             ],
             [
              0.6666666666666666,
              "#ed7953"
             ],
             [
              0.7777777777777778,
              "#fb9f3a"
             ],
             [
              0.8888888888888888,
              "#fdca26"
             ],
             [
              1,
              "#f0f921"
             ]
            ],
            "type": "histogram2d"
           }
          ],
          "histogram2dcontour": [
           {
            "colorbar": {
             "outlinewidth": 0,
             "ticks": ""
            },
            "colorscale": [
             [
              0,
              "#0d0887"
             ],
             [
              0.1111111111111111,
              "#46039f"
             ],
             [
              0.2222222222222222,
              "#7201a8"
             ],
             [
              0.3333333333333333,
              "#9c179e"
             ],
             [
              0.4444444444444444,
              "#bd3786"
             ],
             [
              0.5555555555555556,
              "#d8576b"
             ],
             [
              0.6666666666666666,
              "#ed7953"
             ],
             [
              0.7777777777777778,
              "#fb9f3a"
             ],
             [
              0.8888888888888888,
              "#fdca26"
             ],
             [
              1,
              "#f0f921"
             ]
            ],
            "type": "histogram2dcontour"
           }
          ],
          "mesh3d": [
           {
            "colorbar": {
             "outlinewidth": 0,
             "ticks": ""
            },
            "type": "mesh3d"
           }
          ],
          "parcoords": [
           {
            "line": {
             "colorbar": {
              "outlinewidth": 0,
              "ticks": ""
             }
            },
            "type": "parcoords"
           }
          ],
          "pie": [
           {
            "automargin": true,
            "type": "pie"
           }
          ],
          "scatter": [
           {
            "fillpattern": {
             "fillmode": "overlay",
             "size": 10,
             "solidity": 0.2
            },
            "type": "scatter"
           }
          ],
          "scatter3d": [
           {
            "line": {
             "colorbar": {
              "outlinewidth": 0,
              "ticks": ""
             }
            },
            "marker": {
             "colorbar": {
              "outlinewidth": 0,
              "ticks": ""
             }
            },
            "type": "scatter3d"
           }
          ],
          "scattercarpet": [
           {
            "marker": {
             "colorbar": {
              "outlinewidth": 0,
              "ticks": ""
             }
            },
            "type": "scattercarpet"
           }
          ],
          "scattergeo": [
           {
            "marker": {
             "colorbar": {
              "outlinewidth": 0,
              "ticks": ""
             }
            },
            "type": "scattergeo"
           }
          ],
          "scattergl": [
           {
            "marker": {
             "colorbar": {
              "outlinewidth": 0,
              "ticks": ""
             }
            },
            "type": "scattergl"
           }
          ],
          "scattermapbox": [
           {
            "marker": {
             "colorbar": {
              "outlinewidth": 0,
              "ticks": ""
             }
            },
            "type": "scattermapbox"
           }
          ],
          "scatterpolar": [
           {
            "marker": {
             "colorbar": {
              "outlinewidth": 0,
              "ticks": ""
             }
            },
            "type": "scatterpolar"
           }
          ],
          "scatterpolargl": [
           {
            "marker": {
             "colorbar": {
              "outlinewidth": 0,
              "ticks": ""
             }
            },
            "type": "scatterpolargl"
           }
          ],
          "scatterternary": [
           {
            "marker": {
             "colorbar": {
              "outlinewidth": 0,
              "ticks": ""
             }
            },
            "type": "scatterternary"
           }
          ],
          "surface": [
           {
            "colorbar": {
             "outlinewidth": 0,
             "ticks": ""
            },
            "colorscale": [
             [
              0,
              "#0d0887"
             ],
             [
              0.1111111111111111,
              "#46039f"
             ],
             [
              0.2222222222222222,
              "#7201a8"
             ],
             [
              0.3333333333333333,
              "#9c179e"
             ],
             [
              0.4444444444444444,
              "#bd3786"
             ],
             [
              0.5555555555555556,
              "#d8576b"
             ],
             [
              0.6666666666666666,
              "#ed7953"
             ],
             [
              0.7777777777777778,
              "#fb9f3a"
             ],
             [
              0.8888888888888888,
              "#fdca26"
             ],
             [
              1,
              "#f0f921"
             ]
            ],
            "type": "surface"
           }
          ],
          "table": [
           {
            "cells": {
             "fill": {
              "color": "#EBF0F8"
             },
             "line": {
              "color": "white"
             }
            },
            "header": {
             "fill": {
              "color": "#C8D4E3"
             },
             "line": {
              "color": "white"
             }
            },
            "type": "table"
           }
          ]
         },
         "layout": {
          "annotationdefaults": {
           "arrowcolor": "#2a3f5f",
           "arrowhead": 0,
           "arrowwidth": 1
          },
          "autotypenumbers": "strict",
          "coloraxis": {
           "colorbar": {
            "outlinewidth": 0,
            "ticks": ""
           }
          },
          "colorscale": {
           "diverging": [
            [
             0,
             "#8e0152"
            ],
            [
             0.1,
             "#c51b7d"
            ],
            [
             0.2,
             "#de77ae"
            ],
            [
             0.3,
             "#f1b6da"
            ],
            [
             0.4,
             "#fde0ef"
            ],
            [
             0.5,
             "#f7f7f7"
            ],
            [
             0.6,
             "#e6f5d0"
            ],
            [
             0.7,
             "#b8e186"
            ],
            [
             0.8,
             "#7fbc41"
            ],
            [
             0.9,
             "#4d9221"
            ],
            [
             1,
             "#276419"
            ]
           ],
           "sequential": [
            [
             0,
             "#0d0887"
            ],
            [
             0.1111111111111111,
             "#46039f"
            ],
            [
             0.2222222222222222,
             "#7201a8"
            ],
            [
             0.3333333333333333,
             "#9c179e"
            ],
            [
             0.4444444444444444,
             "#bd3786"
            ],
            [
             0.5555555555555556,
             "#d8576b"
            ],
            [
             0.6666666666666666,
             "#ed7953"
            ],
            [
             0.7777777777777778,
             "#fb9f3a"
            ],
            [
             0.8888888888888888,
             "#fdca26"
            ],
            [
             1,
             "#f0f921"
            ]
           ],
           "sequentialminus": [
            [
             0,
             "#0d0887"
            ],
            [
             0.1111111111111111,
             "#46039f"
            ],
            [
             0.2222222222222222,
             "#7201a8"
            ],
            [
             0.3333333333333333,
             "#9c179e"
            ],
            [
             0.4444444444444444,
             "#bd3786"
            ],
            [
             0.5555555555555556,
             "#d8576b"
            ],
            [
             0.6666666666666666,
             "#ed7953"
            ],
            [
             0.7777777777777778,
             "#fb9f3a"
            ],
            [
             0.8888888888888888,
             "#fdca26"
            ],
            [
             1,
             "#f0f921"
            ]
           ]
          },
          "colorway": [
           "#636efa",
           "#EF553B",
           "#00cc96",
           "#ab63fa",
           "#FFA15A",
           "#19d3f3",
           "#FF6692",
           "#B6E880",
           "#FF97FF",
           "#FECB52"
          ],
          "font": {
           "color": "#2a3f5f"
          },
          "geo": {
           "bgcolor": "white",
           "lakecolor": "white",
           "landcolor": "#E5ECF6",
           "showlakes": true,
           "showland": true,
           "subunitcolor": "white"
          },
          "hoverlabel": {
           "align": "left"
          },
          "hovermode": "closest",
          "mapbox": {
           "style": "light"
          },
          "paper_bgcolor": "white",
          "plot_bgcolor": "#E5ECF6",
          "polar": {
           "angularaxis": {
            "gridcolor": "white",
            "linecolor": "white",
            "ticks": ""
           },
           "bgcolor": "#E5ECF6",
           "radialaxis": {
            "gridcolor": "white",
            "linecolor": "white",
            "ticks": ""
           }
          },
          "scene": {
           "xaxis": {
            "backgroundcolor": "#E5ECF6",
            "gridcolor": "white",
            "gridwidth": 2,
            "linecolor": "white",
            "showbackground": true,
            "ticks": "",
            "zerolinecolor": "white"
           },
           "yaxis": {
            "backgroundcolor": "#E5ECF6",
            "gridcolor": "white",
            "gridwidth": 2,
            "linecolor": "white",
            "showbackground": true,
            "ticks": "",
            "zerolinecolor": "white"
           },
           "zaxis": {
            "backgroundcolor": "#E5ECF6",
            "gridcolor": "white",
            "gridwidth": 2,
            "linecolor": "white",
            "showbackground": true,
            "ticks": "",
            "zerolinecolor": "white"
           }
          },
          "shapedefaults": {
           "line": {
            "color": "#2a3f5f"
           }
          },
          "ternary": {
           "aaxis": {
            "gridcolor": "white",
            "linecolor": "white",
            "ticks": ""
           },
           "baxis": {
            "gridcolor": "white",
            "linecolor": "white",
            "ticks": ""
           },
           "bgcolor": "#E5ECF6",
           "caxis": {
            "gridcolor": "white",
            "linecolor": "white",
            "ticks": ""
           }
          },
          "title": {
           "x": 0.05
          },
          "xaxis": {
           "automargin": true,
           "gridcolor": "white",
           "linecolor": "white",
           "ticks": "",
           "title": {
            "standoff": 15
           },
           "zerolinecolor": "white",
           "zerolinewidth": 2
          },
          "yaxis": {
           "automargin": true,
           "gridcolor": "white",
           "linecolor": "white",
           "ticks": "",
           "title": {
            "standoff": 15
           },
           "zerolinecolor": "white",
           "zerolinewidth": 2
          }
         }
        },
        "title": {
         "text": "Atenção"
        },
        "xaxis": {
         "title": {
          "text": "Real"
         }
        },
        "yaxis": {
         "title": {
          "text": "Predito"
         }
        }
       }
      }
     },
     "metadata": {},
     "output_type": "display_data"
    }
   ],
   "source": [
    "X = df_full[['coordenacao', 'memoria', 'percepcao', 'raciocinio', 'minas', 'safe_sleep']]\n",
    "X = np.hstack([np.ones((X.shape[0], 1)), X.values])\n",
    "\n",
    "y_pred = model.predict(results.params)\n",
    "\n",
    "y_true = df_full['atencao'].values\n",
    "\n",
    "fig = go.Figure()\n",
    "fig.add_trace(go.Scatter(x=y_true, y=y_pred, mode='markers'))\n",
    "fig.add_trace(go.Scatter(x=y_true, y=y_true, mode='lines'))\n",
    "fig.update_layout(title='Atenção', xaxis_title='Real', yaxis_title='Predito')\n",
    "fig.show()"
   ]
  },
  {
   "cell_type": "code",
   "execution_count": null,
   "metadata": {},
   "outputs": [
    {
     "name": "stderr",
     "output_type": "stream",
     "text": [
      "c:\\Users\\lagua\\AppData\\Local\\Programs\\Python\\Python311\\Lib\\site-packages\\statsmodels\\genmod\\families\\family.py:812: RuntimeWarning:\n",
      "\n",
      "divide by zero encountered in log\n",
      "\n",
      "c:\\Users\\lagua\\AppData\\Local\\Programs\\Python\\Python311\\Lib\\site-packages\\statsmodels\\genmod\\generalized_linear_model.py:1806: RuntimeWarning:\n",
      "\n",
      "invalid value encountered in double_scalars\n",
      "\n"
     ]
    },
    {
     "name": "stdout",
     "output_type": "stream",
     "text": [
      "                 Generalized Linear Model Regression Results                  \n",
      "==============================================================================\n",
      "Dep. Variable:              percepcao   No. Observations:                   28\n",
      "Model:                            GLM   Df Residuals:                       21\n",
      "Model Family:                   Gamma   Df Model:                            6\n",
      "Link Function:                    Log   Scale:                         0.20771\n",
      "Method:                          IRLS   Log-Likelihood:                    inf\n",
      "Date:                Mon, 26 Jun 2023   Deviance:                       73.700\n",
      "Time:                        11:05:16   Pearson chi2:                     4.36\n",
      "No. Iterations:                    40   Pseudo R-squ. (CS):                nan\n",
      "Covariance Type:            nonrobust                                         \n",
      "======================================================================================\n",
      "                         coef    std err          z      P>|z|      [0.025      0.975]\n",
      "--------------------------------------------------------------------------------------\n",
      "Intercept              1.9351      0.308      6.274      0.000       1.331       2.540\n",
      "minas[T.True]         -0.1799      0.260     -0.693      0.488      -0.689       0.329\n",
      "safe_sleep[T.True]     0.4148      0.238      1.742      0.082      -0.052       0.881\n",
      "coordenacao           -0.0108      0.007     -1.549      0.121      -0.025       0.003\n",
      "memoria                0.0144      0.007      1.964      0.050    2.86e-05       0.029\n",
      "atencao                0.0282      0.007      4.085      0.000       0.015       0.042\n",
      "raciocinio             0.0237      0.009      2.512      0.012       0.005       0.042\n",
      "======================================================================================\n"
     ]
    },
    {
     "data": {
      "application/vnd.plotly.v1+json": {
       "config": {
        "plotlyServerURL": "https://plot.ly"
       },
       "data": [
        {
         "mode": "markers",
         "type": "scatter",
         "x": [
          29.7,
          35.7,
          0,
          60.6,
          54.8,
          36.1,
          121.1,
          91.5,
          85.5,
          60.802119,
          80.5,
          86.4,
          104.7,
          55,
          55,
          93,
          29.9,
          60.6,
          55.3,
          86.5,
          48.7,
          56.8,
          24.4,
          49.5,
          79.4,
          54.3,
          35.4,
          36.1
         ],
         "y": [
          25.00470474127823,
          26.71073831175187,
          6.1550793197321685,
          37.375949275476465,
          39.670907621321184,
          50.992744209554765,
          73.43128724367926,
          86.33148181066181,
          94.01410745174952,
          45.25103757117889,
          66.59018061197726,
          70.93612529557718,
          138.77697008762186,
          135.8415368298948,
          92.03424423484951,
          105.00102467861117,
          56.38492965939234,
          60.47464637875994,
          70.84270097810818,
          85.75502447343055,
          58.32790138568161,
          38.8477725690395,
          59.278006696700245,
          58.91797010370373,
          50.327589386096506,
          55.54536721463793,
          25.663686035945265,
          38.88985438484762
         ]
        },
        {
         "mode": "lines",
         "type": "scatter",
         "x": [
          29.7,
          35.7,
          0,
          60.6,
          54.8,
          36.1,
          121.1,
          91.5,
          85.5,
          60.802119,
          80.5,
          86.4,
          104.7,
          55,
          55,
          93,
          29.9,
          60.6,
          55.3,
          86.5,
          48.7,
          56.8,
          24.4,
          49.5,
          79.4,
          54.3,
          35.4,
          36.1
         ],
         "y": [
          29.7,
          35.7,
          0,
          60.6,
          54.8,
          36.1,
          121.1,
          91.5,
          85.5,
          60.802119,
          80.5,
          86.4,
          104.7,
          55,
          55,
          93,
          29.9,
          60.6,
          55.3,
          86.5,
          48.7,
          56.8,
          24.4,
          49.5,
          79.4,
          54.3,
          35.4,
          36.1
         ]
        }
       ],
       "layout": {
        "template": {
         "data": {
          "bar": [
           {
            "error_x": {
             "color": "#2a3f5f"
            },
            "error_y": {
             "color": "#2a3f5f"
            },
            "marker": {
             "line": {
              "color": "#E5ECF6",
              "width": 0.5
             },
             "pattern": {
              "fillmode": "overlay",
              "size": 10,
              "solidity": 0.2
             }
            },
            "type": "bar"
           }
          ],
          "barpolar": [
           {
            "marker": {
             "line": {
              "color": "#E5ECF6",
              "width": 0.5
             },
             "pattern": {
              "fillmode": "overlay",
              "size": 10,
              "solidity": 0.2
             }
            },
            "type": "barpolar"
           }
          ],
          "carpet": [
           {
            "aaxis": {
             "endlinecolor": "#2a3f5f",
             "gridcolor": "white",
             "linecolor": "white",
             "minorgridcolor": "white",
             "startlinecolor": "#2a3f5f"
            },
            "baxis": {
             "endlinecolor": "#2a3f5f",
             "gridcolor": "white",
             "linecolor": "white",
             "minorgridcolor": "white",
             "startlinecolor": "#2a3f5f"
            },
            "type": "carpet"
           }
          ],
          "choropleth": [
           {
            "colorbar": {
             "outlinewidth": 0,
             "ticks": ""
            },
            "type": "choropleth"
           }
          ],
          "contour": [
           {
            "colorbar": {
             "outlinewidth": 0,
             "ticks": ""
            },
            "colorscale": [
             [
              0,
              "#0d0887"
             ],
             [
              0.1111111111111111,
              "#46039f"
             ],
             [
              0.2222222222222222,
              "#7201a8"
             ],
             [
              0.3333333333333333,
              "#9c179e"
             ],
             [
              0.4444444444444444,
              "#bd3786"
             ],
             [
              0.5555555555555556,
              "#d8576b"
             ],
             [
              0.6666666666666666,
              "#ed7953"
             ],
             [
              0.7777777777777778,
              "#fb9f3a"
             ],
             [
              0.8888888888888888,
              "#fdca26"
             ],
             [
              1,
              "#f0f921"
             ]
            ],
            "type": "contour"
           }
          ],
          "contourcarpet": [
           {
            "colorbar": {
             "outlinewidth": 0,
             "ticks": ""
            },
            "type": "contourcarpet"
           }
          ],
          "heatmap": [
           {
            "colorbar": {
             "outlinewidth": 0,
             "ticks": ""
            },
            "colorscale": [
             [
              0,
              "#0d0887"
             ],
             [
              0.1111111111111111,
              "#46039f"
             ],
             [
              0.2222222222222222,
              "#7201a8"
             ],
             [
              0.3333333333333333,
              "#9c179e"
             ],
             [
              0.4444444444444444,
              "#bd3786"
             ],
             [
              0.5555555555555556,
              "#d8576b"
             ],
             [
              0.6666666666666666,
              "#ed7953"
             ],
             [
              0.7777777777777778,
              "#fb9f3a"
             ],
             [
              0.8888888888888888,
              "#fdca26"
             ],
             [
              1,
              "#f0f921"
             ]
            ],
            "type": "heatmap"
           }
          ],
          "heatmapgl": [
           {
            "colorbar": {
             "outlinewidth": 0,
             "ticks": ""
            },
            "colorscale": [
             [
              0,
              "#0d0887"
             ],
             [
              0.1111111111111111,
              "#46039f"
             ],
             [
              0.2222222222222222,
              "#7201a8"
             ],
             [
              0.3333333333333333,
              "#9c179e"
             ],
             [
              0.4444444444444444,
              "#bd3786"
             ],
             [
              0.5555555555555556,
              "#d8576b"
             ],
             [
              0.6666666666666666,
              "#ed7953"
             ],
             [
              0.7777777777777778,
              "#fb9f3a"
             ],
             [
              0.8888888888888888,
              "#fdca26"
             ],
             [
              1,
              "#f0f921"
             ]
            ],
            "type": "heatmapgl"
           }
          ],
          "histogram": [
           {
            "marker": {
             "pattern": {
              "fillmode": "overlay",
              "size": 10,
              "solidity": 0.2
             }
            },
            "type": "histogram"
           }
          ],
          "histogram2d": [
           {
            "colorbar": {
             "outlinewidth": 0,
             "ticks": ""
            },
            "colorscale": [
             [
              0,
              "#0d0887"
             ],
             [
              0.1111111111111111,
              "#46039f"
             ],
             [
              0.2222222222222222,
              "#7201a8"
             ],
             [
              0.3333333333333333,
              "#9c179e"
             ],
             [
              0.4444444444444444,
              "#bd3786"
             ],
             [
              0.5555555555555556,
              "#d8576b"
             ],
             [
              0.6666666666666666,
              "#ed7953"
             ],
             [
              0.7777777777777778,
              "#fb9f3a"
             ],
             [
              0.8888888888888888,
              "#fdca26"
             ],
             [
              1,
              "#f0f921"
             ]
            ],
            "type": "histogram2d"
           }
          ],
          "histogram2dcontour": [
           {
            "colorbar": {
             "outlinewidth": 0,
             "ticks": ""
            },
            "colorscale": [
             [
              0,
              "#0d0887"
             ],
             [
              0.1111111111111111,
              "#46039f"
             ],
             [
              0.2222222222222222,
              "#7201a8"
             ],
             [
              0.3333333333333333,
              "#9c179e"
             ],
             [
              0.4444444444444444,
              "#bd3786"
             ],
             [
              0.5555555555555556,
              "#d8576b"
             ],
             [
              0.6666666666666666,
              "#ed7953"
             ],
             [
              0.7777777777777778,
              "#fb9f3a"
             ],
             [
              0.8888888888888888,
              "#fdca26"
             ],
             [
              1,
              "#f0f921"
             ]
            ],
            "type": "histogram2dcontour"
           }
          ],
          "mesh3d": [
           {
            "colorbar": {
             "outlinewidth": 0,
             "ticks": ""
            },
            "type": "mesh3d"
           }
          ],
          "parcoords": [
           {
            "line": {
             "colorbar": {
              "outlinewidth": 0,
              "ticks": ""
             }
            },
            "type": "parcoords"
           }
          ],
          "pie": [
           {
            "automargin": true,
            "type": "pie"
           }
          ],
          "scatter": [
           {
            "fillpattern": {
             "fillmode": "overlay",
             "size": 10,
             "solidity": 0.2
            },
            "type": "scatter"
           }
          ],
          "scatter3d": [
           {
            "line": {
             "colorbar": {
              "outlinewidth": 0,
              "ticks": ""
             }
            },
            "marker": {
             "colorbar": {
              "outlinewidth": 0,
              "ticks": ""
             }
            },
            "type": "scatter3d"
           }
          ],
          "scattercarpet": [
           {
            "marker": {
             "colorbar": {
              "outlinewidth": 0,
              "ticks": ""
             }
            },
            "type": "scattercarpet"
           }
          ],
          "scattergeo": [
           {
            "marker": {
             "colorbar": {
              "outlinewidth": 0,
              "ticks": ""
             }
            },
            "type": "scattergeo"
           }
          ],
          "scattergl": [
           {
            "marker": {
             "colorbar": {
              "outlinewidth": 0,
              "ticks": ""
             }
            },
            "type": "scattergl"
           }
          ],
          "scattermapbox": [
           {
            "marker": {
             "colorbar": {
              "outlinewidth": 0,
              "ticks": ""
             }
            },
            "type": "scattermapbox"
           }
          ],
          "scatterpolar": [
           {
            "marker": {
             "colorbar": {
              "outlinewidth": 0,
              "ticks": ""
             }
            },
            "type": "scatterpolar"
           }
          ],
          "scatterpolargl": [
           {
            "marker": {
             "colorbar": {
              "outlinewidth": 0,
              "ticks": ""
             }
            },
            "type": "scatterpolargl"
           }
          ],
          "scatterternary": [
           {
            "marker": {
             "colorbar": {
              "outlinewidth": 0,
              "ticks": ""
             }
            },
            "type": "scatterternary"
           }
          ],
          "surface": [
           {
            "colorbar": {
             "outlinewidth": 0,
             "ticks": ""
            },
            "colorscale": [
             [
              0,
              "#0d0887"
             ],
             [
              0.1111111111111111,
              "#46039f"
             ],
             [
              0.2222222222222222,
              "#7201a8"
             ],
             [
              0.3333333333333333,
              "#9c179e"
             ],
             [
              0.4444444444444444,
              "#bd3786"
             ],
             [
              0.5555555555555556,
              "#d8576b"
             ],
             [
              0.6666666666666666,
              "#ed7953"
             ],
             [
              0.7777777777777778,
              "#fb9f3a"
             ],
             [
              0.8888888888888888,
              "#fdca26"
             ],
             [
              1,
              "#f0f921"
             ]
            ],
            "type": "surface"
           }
          ],
          "table": [
           {
            "cells": {
             "fill": {
              "color": "#EBF0F8"
             },
             "line": {
              "color": "white"
             }
            },
            "header": {
             "fill": {
              "color": "#C8D4E3"
             },
             "line": {
              "color": "white"
             }
            },
            "type": "table"
           }
          ]
         },
         "layout": {
          "annotationdefaults": {
           "arrowcolor": "#2a3f5f",
           "arrowhead": 0,
           "arrowwidth": 1
          },
          "autotypenumbers": "strict",
          "coloraxis": {
           "colorbar": {
            "outlinewidth": 0,
            "ticks": ""
           }
          },
          "colorscale": {
           "diverging": [
            [
             0,
             "#8e0152"
            ],
            [
             0.1,
             "#c51b7d"
            ],
            [
             0.2,
             "#de77ae"
            ],
            [
             0.3,
             "#f1b6da"
            ],
            [
             0.4,
             "#fde0ef"
            ],
            [
             0.5,
             "#f7f7f7"
            ],
            [
             0.6,
             "#e6f5d0"
            ],
            [
             0.7,
             "#b8e186"
            ],
            [
             0.8,
             "#7fbc41"
            ],
            [
             0.9,
             "#4d9221"
            ],
            [
             1,
             "#276419"
            ]
           ],
           "sequential": [
            [
             0,
             "#0d0887"
            ],
            [
             0.1111111111111111,
             "#46039f"
            ],
            [
             0.2222222222222222,
             "#7201a8"
            ],
            [
             0.3333333333333333,
             "#9c179e"
            ],
            [
             0.4444444444444444,
             "#bd3786"
            ],
            [
             0.5555555555555556,
             "#d8576b"
            ],
            [
             0.6666666666666666,
             "#ed7953"
            ],
            [
             0.7777777777777778,
             "#fb9f3a"
            ],
            [
             0.8888888888888888,
             "#fdca26"
            ],
            [
             1,
             "#f0f921"
            ]
           ],
           "sequentialminus": [
            [
             0,
             "#0d0887"
            ],
            [
             0.1111111111111111,
             "#46039f"
            ],
            [
             0.2222222222222222,
             "#7201a8"
            ],
            [
             0.3333333333333333,
             "#9c179e"
            ],
            [
             0.4444444444444444,
             "#bd3786"
            ],
            [
             0.5555555555555556,
             "#d8576b"
            ],
            [
             0.6666666666666666,
             "#ed7953"
            ],
            [
             0.7777777777777778,
             "#fb9f3a"
            ],
            [
             0.8888888888888888,
             "#fdca26"
            ],
            [
             1,
             "#f0f921"
            ]
           ]
          },
          "colorway": [
           "#636efa",
           "#EF553B",
           "#00cc96",
           "#ab63fa",
           "#FFA15A",
           "#19d3f3",
           "#FF6692",
           "#B6E880",
           "#FF97FF",
           "#FECB52"
          ],
          "font": {
           "color": "#2a3f5f"
          },
          "geo": {
           "bgcolor": "white",
           "lakecolor": "white",
           "landcolor": "#E5ECF6",
           "showlakes": true,
           "showland": true,
           "subunitcolor": "white"
          },
          "hoverlabel": {
           "align": "left"
          },
          "hovermode": "closest",
          "mapbox": {
           "style": "light"
          },
          "paper_bgcolor": "white",
          "plot_bgcolor": "#E5ECF6",
          "polar": {
           "angularaxis": {
            "gridcolor": "white",
            "linecolor": "white",
            "ticks": ""
           },
           "bgcolor": "#E5ECF6",
           "radialaxis": {
            "gridcolor": "white",
            "linecolor": "white",
            "ticks": ""
           }
          },
          "scene": {
           "xaxis": {
            "backgroundcolor": "#E5ECF6",
            "gridcolor": "white",
            "gridwidth": 2,
            "linecolor": "white",
            "showbackground": true,
            "ticks": "",
            "zerolinecolor": "white"
           },
           "yaxis": {
            "backgroundcolor": "#E5ECF6",
            "gridcolor": "white",
            "gridwidth": 2,
            "linecolor": "white",
            "showbackground": true,
            "ticks": "",
            "zerolinecolor": "white"
           },
           "zaxis": {
            "backgroundcolor": "#E5ECF6",
            "gridcolor": "white",
            "gridwidth": 2,
            "linecolor": "white",
            "showbackground": true,
            "ticks": "",
            "zerolinecolor": "white"
           }
          },
          "shapedefaults": {
           "line": {
            "color": "#2a3f5f"
           }
          },
          "ternary": {
           "aaxis": {
            "gridcolor": "white",
            "linecolor": "white",
            "ticks": ""
           },
           "baxis": {
            "gridcolor": "white",
            "linecolor": "white",
            "ticks": ""
           },
           "bgcolor": "#E5ECF6",
           "caxis": {
            "gridcolor": "white",
            "linecolor": "white",
            "ticks": ""
           }
          },
          "title": {
           "x": 0.05
          },
          "xaxis": {
           "automargin": true,
           "gridcolor": "white",
           "linecolor": "white",
           "ticks": "",
           "title": {
            "standoff": 15
           },
           "zerolinecolor": "white",
           "zerolinewidth": 2
          },
          "yaxis": {
           "automargin": true,
           "gridcolor": "white",
           "linecolor": "white",
           "ticks": "",
           "title": {
            "standoff": 15
           },
           "zerolinecolor": "white",
           "zerolinewidth": 2
          }
         }
        },
        "title": {
         "text": "Percepção"
        },
        "xaxis": {
         "title": {
          "text": "Real"
         }
        },
        "yaxis": {
         "title": {
          "text": "Predito"
         }
        }
       }
      }
     },
     "metadata": {},
     "output_type": "display_data"
    },
    {
     "data": {
      "image/png": "[encoded data removed]",
      "text/plain": [
       "<Figure size 640x480 with 7 Axes>"
      ]
     },
     "metadata": {},
     "output_type": "display_data"
    }
   ],
   "source": [
    "# Para percepção\n",
    "model = smf.glm(formula='percepcao ~ coordenacao + memoria + atencao + raciocinio + minas + safe_sleep', data=df_full, family=sm.api.families.Gamma(link=sm.api.families.links.Log()))\n",
    "results = model.fit()\n",
    "print(results.summary())\n",
    "\n",
    "fig = plot_partregress_grid(results)\n",
    "\n",
    "y_pred = model.predict(results.params)\n",
    "\n",
    "y_true = df_full['percepcao'].values\n",
    "\n",
    "fig = go.Figure()\n",
    "fig.add_trace(go.Scatter(x=y_true, y=y_pred, mode='markers'))\n",
    "fig.add_trace(go.Scatter(x=y_true, y=y_true, mode='lines'))\n",
    "fig.update_layout(title='Percepção', xaxis_title='Real', yaxis_title='Predito')\n",
    "fig.show()"
   ]
  },
  {
   "cell_type": "code",
   "execution_count": null,
   "metadata": {},
   "outputs": [
    {
     "name": "stdout",
     "output_type": "stream",
     "text": [
      "-inf\n"
     ]
    }
   ],
   "source": [
    "# calula AIC do modelo\n",
    "print(results.aic)"
   ]
  },
  {
   "cell_type": "code",
   "execution_count": null,
   "metadata": {},
   "outputs": [
    {
     "name": "stdout",
     "output_type": "stream",
     "text": [
      "                 Generalized Linear Model Regression Results                  \n",
      "==============================================================================\n",
      "Dep. Variable:                memoria   No. Observations:                   28\n",
      "Model:                            GLM   Df Residuals:                       21\n",
      "Model Family:                   Gamma   Df Model:                            6\n",
      "Link Function:                    Log   Scale:                         0.17862\n",
      "Method:                          IRLS   Log-Likelihood:                -115.31\n",
      "Date:                Mon, 26 Jun 2023   Deviance:                       6.6131\n",
      "Time:                        11:04:07   Pearson chi2:                     3.75\n",
      "No. Iterations:                    23   Pseudo R-squ. (CS):             0.4262\n",
      "Covariance Type:            nonrobust                                         \n",
      "======================================================================================\n",
      "                         coef    std err          z      P>|z|      [0.025      0.975]\n",
      "--------------------------------------------------------------------------------------\n",
      "Intercept              2.5881      0.273      9.482      0.000       2.053       3.123\n",
      "minas[T.True]          0.2254      0.237      0.953      0.341      -0.238       0.689\n",
      "safe_sleep[T.True]     0.2153      0.221      0.973      0.330      -0.218       0.649\n",
      "coordenacao            0.0070      0.006      1.168      0.243      -0.005       0.019\n",
      "atencao                0.0002      0.007      0.033      0.974      -0.013       0.014\n",
      "percepcao              0.0021      0.004      0.480      0.631      -0.006       0.010\n",
      "raciocinio             0.0100      0.009      1.058      0.290      -0.009       0.029\n",
      "======================================================================================\n"
     ]
    },
    {
     "data": {
      "application/vnd.plotly.v1+json": {
       "config": {
        "plotlyServerURL": "https://plot.ly"
       },
       "data": [
        {
         "mode": "markers",
         "type": "scatter",
         "x": [
          29.7,
          35.7,
          0,
          60.6,
          54.8,
          36.1,
          121.1,
          91.5,
          85.5,
          60.802119,
          80.5,
          86.4,
          104.7,
          55,
          55,
          93,
          29.9,
          60.6,
          55.3,
          86.5,
          48.7,
          56.8,
          24.4,
          49.5,
          79.4,
          54.3,
          35.4,
          36.1
         ],
         "y": [
          26.930808338999306,
          25.82033428026337,
          14.488336892065272,
          21.649108657685005,
          26.577266635142944,
          27.172080684147105,
          40.01220975110551,
          46.88723670913302,
          45.05556108008035,
          39.44465228658142,
          48.60177877226607,
          50.742814200659595,
          49.21202966968417,
          45.350918343322235,
          56.42519413881426,
          47.38828431781767,
          29.90666870252484,
          39.95557783836454,
          41.28895646052152,
          42.47844335748746,
          25.570351157897164,
          22.264978850238144,
          19.975166680098,
          38.321739297928296,
          32.05832074358786,
          31.24942412700868,
          25.665054942426412,
          21.59804043017317
         ]
        },
        {
         "mode": "lines",
         "type": "scatter",
         "x": [
          29.7,
          35.7,
          0,
          60.6,
          54.8,
          36.1,
          121.1,
          91.5,
          85.5,
          60.802119,
          80.5,
          86.4,
          104.7,
          55,
          55,
          93,
          29.9,
          60.6,
          55.3,
          86.5,
          48.7,
          56.8,
          24.4,
          49.5,
          79.4,
          54.3,
          35.4,
          36.1
         ],
         "y": [
          29.7,
          35.7,
          0,
          60.6,
          54.8,
          36.1,
          121.1,
          91.5,
          85.5,
          60.802119,
          80.5,
          86.4,
          104.7,
          55,
          55,
          93,
          29.9,
          60.6,
          55.3,
          86.5,
          48.7,
          56.8,
          24.4,
          49.5,
          79.4,
          54.3,
          35.4,
          36.1
         ]
        }
       ],
       "layout": {
        "template": {
         "data": {
          "bar": [
           {
            "error_x": {
             "color": "#2a3f5f"
            },
            "error_y": {
             "color": "#2a3f5f"
            },
            "marker": {
             "line": {
              "color": "#E5ECF6",
              "width": 0.5
             },
             "pattern": {
              "fillmode": "overlay",
              "size": 10,
              "solidity": 0.2
             }
            },
            "type": "bar"
           }
          ],
          "barpolar": [
           {
            "marker": {
             "line": {
              "color": "#E5ECF6",
              "width": 0.5
             },
             "pattern": {
              "fillmode": "overlay",
              "size": 10,
              "solidity": 0.2
             }
            },
            "type": "barpolar"
           }
          ],
          "carpet": [
           {
            "aaxis": {
             "endlinecolor": "#2a3f5f",
             "gridcolor": "white",
             "linecolor": "white",
             "minorgridcolor": "white",
             "startlinecolor": "#2a3f5f"
            },
            "baxis": {
             "endlinecolor": "#2a3f5f",
             "gridcolor": "white",
             "linecolor": "white",
             "minorgridcolor": "white",
             "startlinecolor": "#2a3f5f"
            },
            "type": "carpet"
           }
          ],
          "choropleth": [
           {
            "colorbar": {
             "outlinewidth": 0,
             "ticks": ""
            },
            "type": "choropleth"
           }
          ],
          "contour": [
           {
            "colorbar": {
             "outlinewidth": 0,
             "ticks": ""
            },
            "colorscale": [
             [
              0,
              "#0d0887"
             ],
             [
              0.1111111111111111,
              "#46039f"
             ],
             [
              0.2222222222222222,
              "#7201a8"
             ],
             [
              0.3333333333333333,
              "#9c179e"
             ],
             [
              0.4444444444444444,
              "#bd3786"
             ],
             [
              0.5555555555555556,
              "#d8576b"
             ],
             [
              0.6666666666666666,
              "#ed7953"
             ],
             [
              0.7777777777777778,
              "#fb9f3a"
             ],
             [
              0.8888888888888888,
              "#fdca26"
             ],
             [
              1,
              "#f0f921"
             ]
            ],
            "type": "contour"
           }
          ],
          "contourcarpet": [
           {
            "colorbar": {
             "outlinewidth": 0,
             "ticks": ""
            },
            "type": "contourcarpet"
           }
          ],
          "heatmap": [
           {
            "colorbar": {
             "outlinewidth": 0,
             "ticks": ""
            },
            "colorscale": [
             [
              0,
              "#0d0887"
             ],
             [
              0.1111111111111111,
              "#46039f"
             ],
             [
              0.2222222222222222,
              "#7201a8"
             ],
             [
              0.3333333333333333,
              "#9c179e"
             ],
             [
              0.4444444444444444,
              "#bd3786"
             ],
             [
              0.5555555555555556,
              "#d8576b"
             ],
             [
              0.6666666666666666,
              "#ed7953"
             ],
             [
              0.7777777777777778,
              "#fb9f3a"
             ],
             [
              0.8888888888888888,
              "#fdca26"
             ],
             [
              1,
              "#f0f921"
             ]
            ],
            "type": "heatmap"
           }
          ],
          "heatmapgl": [
           {
            "colorbar": {
             "outlinewidth": 0,
             "ticks": ""
            },
            "colorscale": [
             [
              0,
              "#0d0887"
             ],
             [
              0.1111111111111111,
              "#46039f"
             ],
             [
              0.2222222222222222,
              "#7201a8"
             ],
             [
              0.3333333333333333,
              "#9c179e"
             ],
             [
              0.4444444444444444,
              "#bd3786"
             ],
             [
              0.5555555555555556,
              "#d8576b"
             ],
             [
              0.6666666666666666,
              "#ed7953"
             ],
             [
              0.7777777777777778,
              "#fb9f3a"
             ],
             [
              0.8888888888888888,
              "#fdca26"
             ],
             [
              1,
              "#f0f921"
             ]
            ],
            "type": "heatmapgl"
           }
          ],
          "histogram": [
           {
            "marker": {
             "pattern": {
              "fillmode": "overlay",
              "size": 10,
              "solidity": 0.2
             }
            },
            "type": "histogram"
           }
          ],
          "histogram2d": [
           {
            "colorbar": {
             "outlinewidth": 0,
             "ticks": ""
            },
            "colorscale": [
             [
              0,
              "#0d0887"
             ],
             [
              0.1111111111111111,
              "#46039f"
             ],
             [
              0.2222222222222222,
              "#7201a8"
             ],
             [
              0.3333333333333333,
              "#9c179e"
             ],
             [
              0.4444444444444444,
              "#bd3786"
             ],
             [
              0.5555555555555556,
              "#d8576b"
             ],
             [
              0.6666666666666666,
              "#ed7953"
             ],
             [
              0.7777777777777778,
              "#fb9f3a"
             ],
             [
              0.8888888888888888,
              "#fdca26"
             ],
             [
              1,
              "#f0f921"
             ]
            ],
            "type": "histogram2d"
           }
          ],
          "histogram2dcontour": [
           {
            "colorbar": {
             "outlinewidth": 0,
             "ticks": ""
            },
            "colorscale": [
             [
              0,
              "#0d0887"
             ],
             [
              0.1111111111111111,
              "#46039f"
             ],
             [
              0.2222222222222222,
              "#7201a8"
             ],
             [
              0.3333333333333333,
              "#9c179e"
             ],
             [
              0.4444444444444444,
              "#bd3786"
             ],
             [
              0.5555555555555556,
              "#d8576b"
             ],
             [
              0.6666666666666666,
              "#ed7953"
             ],
             [
              0.7777777777777778,
              "#fb9f3a"
             ],
             [
              0.8888888888888888,
              "#fdca26"
             ],
             [
              1,
              "#f0f921"
             ]
            ],
            "type": "histogram2dcontour"
           }
          ],
          "mesh3d": [
           {
            "colorbar": {
             "outlinewidth": 0,
             "ticks": ""
            },
            "type": "mesh3d"
           }
          ],
          "parcoords": [
           {
            "line": {
             "colorbar": {
              "outlinewidth": 0,
              "ticks": ""
             }
            },
            "type": "parcoords"
           }
          ],
          "pie": [
           {
            "automargin": true,
            "type": "pie"
           }
          ],
          "scatter": [
           {
            "fillpattern": {
             "fillmode": "overlay",
             "size": 10,
             "solidity": 0.2
            },
            "type": "scatter"
           }
          ],
          "scatter3d": [
           {
            "line": {
             "colorbar": {
              "outlinewidth": 0,
              "ticks": ""
             }
            },
            "marker": {
             "colorbar": {
              "outlinewidth": 0,
              "ticks": ""
             }
            },
            "type": "scatter3d"
           }
          ],
          "scattercarpet": [
           {
            "marker": {
             "colorbar": {
              "outlinewidth": 0,
              "ticks": ""
             }
            },
            "type": "scattercarpet"
           }
          ],
          "scattergeo": [
           {
            "marker": {
             "colorbar": {
              "outlinewidth": 0,
              "ticks": ""
             }
            },
            "type": "scattergeo"
           }
          ],
          "scattergl": [
           {
            "marker": {
             "colorbar": {
              "outlinewidth": 0,
              "ticks": ""
             }
            },
            "type": "scattergl"
           }
          ],
          "scattermapbox": [
           {
            "marker": {
             "colorbar": {
              "outlinewidth": 0,
              "ticks": ""
             }
            },
            "type": "scattermapbox"
           }
          ],
          "scatterpolar": [
           {
            "marker": {
             "colorbar": {
              "outlinewidth": 0,
              "ticks": ""
             }
            },
            "type": "scatterpolar"
           }
          ],
          "scatterpolargl": [
           {
            "marker": {
             "colorbar": {
              "outlinewidth": 0,
              "ticks": ""
             }
            },
            "type": "scatterpolargl"
           }
          ],
          "scatterternary": [
           {
            "marker": {
             "colorbar": {
              "outlinewidth": 0,
              "ticks": ""
             }
            },
            "type": "scatterternary"
           }
          ],
          "surface": [
           {
            "colorbar": {
             "outlinewidth": 0,
             "ticks": ""
            },
            "colorscale": [
             [
              0,
              "#0d0887"
             ],
             [
              0.1111111111111111,
              "#46039f"
             ],
             [
              0.2222222222222222,
              "#7201a8"
             ],
             [
              0.3333333333333333,
              "#9c179e"
             ],
             [
              0.4444444444444444,
              "#bd3786"
             ],
             [
              0.5555555555555556,
              "#d8576b"
             ],
             [
              0.6666666666666666,
              "#ed7953"
             ],
             [
              0.7777777777777778,
              "#fb9f3a"
             ],
             [
              0.8888888888888888,
              "#fdca26"
             ],
             [
              1,
              "#f0f921"
             ]
            ],
            "type": "surface"
           }
          ],
          "table": [
           {
            "cells": {
             "fill": {
              "color": "#EBF0F8"
             },
             "line": {
              "color": "white"
             }
            },
            "header": {
             "fill": {
              "color": "#C8D4E3"
             },
             "line": {
              "color": "white"
             }
            },
            "type": "table"
           }
          ]
         },
         "layout": {
          "annotationdefaults": {
           "arrowcolor": "#2a3f5f",
           "arrowhead": 0,
           "arrowwidth": 1
          },
          "autotypenumbers": "strict",
          "coloraxis": {
           "colorbar": {
            "outlinewidth": 0,
            "ticks": ""
           }
          },
          "colorscale": {
           "diverging": [
            [
             0,
             "#8e0152"
            ],
            [
             0.1,
             "#c51b7d"
            ],
            [
             0.2,
             "#de77ae"
            ],
            [
             0.3,
             "#f1b6da"
            ],
            [
             0.4,
             "#fde0ef"
            ],
            [
             0.5,
             "#f7f7f7"
            ],
            [
             0.6,
             "#e6f5d0"
            ],
            [
             0.7,
             "#b8e186"
            ],
            [
             0.8,
             "#7fbc41"
            ],
            [
             0.9,
             "#4d9221"
            ],
            [
             1,
             "#276419"
            ]
           ],
           "sequential": [
            [
             0,
             "#0d0887"
            ],
            [
             0.1111111111111111,
             "#46039f"
            ],
            [
             0.2222222222222222,
             "#7201a8"
            ],
            [
             0.3333333333333333,
             "#9c179e"
            ],
            [
             0.4444444444444444,
             "#bd3786"
            ],
            [
             0.5555555555555556,
             "#d8576b"
            ],
            [
             0.6666666666666666,
             "#ed7953"
            ],
            [
             0.7777777777777778,
             "#fb9f3a"
            ],
            [
             0.8888888888888888,
             "#fdca26"
            ],
            [
             1,
             "#f0f921"
            ]
           ],
           "sequentialminus": [
            [
             0,
             "#0d0887"
            ],
            [
             0.1111111111111111,
             "#46039f"
            ],
            [
             0.2222222222222222,
             "#7201a8"
            ],
            [
             0.3333333333333333,
             "#9c179e"
            ],
            [
             0.4444444444444444,
             "#bd3786"
            ],
            [
             0.5555555555555556,
             "#d8576b"
            ],
            [
             0.6666666666666666,
             "#ed7953"
            ],
            [
             0.7777777777777778,
             "#fb9f3a"
            ],
            [
             0.8888888888888888,
             "#fdca26"
            ],
            [
             1,
             "#f0f921"
            ]
           ]
          },
          "colorway": [
           "#636efa",
           "#EF553B",
           "#00cc96",
           "#ab63fa",
           "#FFA15A",
           "#19d3f3",
           "#FF6692",
           "#B6E880",
           "#FF97FF",
           "#FECB52"
          ],
          "font": {
           "color": "#2a3f5f"
          },
          "geo": {
           "bgcolor": "white",
           "lakecolor": "white",
           "landcolor": "#E5ECF6",
           "showlakes": true,
           "showland": true,
           "subunitcolor": "white"
          },
          "hoverlabel": {
           "align": "left"
          },
          "hovermode": "closest",
          "mapbox": {
           "style": "light"
          },
          "paper_bgcolor": "white",
          "plot_bgcolor": "#E5ECF6",
          "polar": {
           "angularaxis": {
            "gridcolor": "white",
            "linecolor": "white",
            "ticks": ""
           },
           "bgcolor": "#E5ECF6",
           "radialaxis": {
            "gridcolor": "white",
            "linecolor": "white",
            "ticks": ""
           }
          },
          "scene": {
           "xaxis": {
            "backgroundcolor": "#E5ECF6",
            "gridcolor": "white",
            "gridwidth": 2,
            "linecolor": "white",
            "showbackground": true,
            "ticks": "",
            "zerolinecolor": "white"
           },
           "yaxis": {
            "backgroundcolor": "#E5ECF6",
            "gridcolor": "white",
            "gridwidth": 2,
            "linecolor": "white",
            "showbackground": true,
            "ticks": "",
            "zerolinecolor": "white"
           },
           "zaxis": {
            "backgroundcolor": "#E5ECF6",
            "gridcolor": "white",
            "gridwidth": 2,
            "linecolor": "white",
            "showbackground": true,
            "ticks": "",
            "zerolinecolor": "white"
           }
          },
          "shapedefaults": {
           "line": {
            "color": "#2a3f5f"
           }
          },
          "ternary": {
           "aaxis": {
            "gridcolor": "white",
            "linecolor": "white",
            "ticks": ""
           },
           "baxis": {
            "gridcolor": "white",
            "linecolor": "white",
            "ticks": ""
           },
           "bgcolor": "#E5ECF6",
           "caxis": {
            "gridcolor": "white",
            "linecolor": "white",
            "ticks": ""
           }
          },
          "title": {
           "x": 0.05
          },
          "xaxis": {
           "automargin": true,
           "gridcolor": "white",
           "linecolor": "white",
           "ticks": "",
           "title": {
            "standoff": 15
           },
           "zerolinecolor": "white",
           "zerolinewidth": 2
          },
          "yaxis": {
           "automargin": true,
           "gridcolor": "white",
           "linecolor": "white",
           "ticks": "",
           "title": {
            "standoff": 15
           },
           "zerolinecolor": "white",
           "zerolinewidth": 2
          }
         }
        },
        "title": {
         "text": "Memória"
        },
        "xaxis": {
         "title": {
          "text": "Real"
         }
        },
        "yaxis": {
         "title": {
          "text": "Predito"
         }
        }
       }
      }
     },
     "metadata": {},
     "output_type": "display_data"
    },
    {
     "data": {
      "image/png": "[encoded data removed]",
      "text/plain": [
       "<Figure size 640x480 with 7 Axes>"
      ]
     },
     "metadata": {},
     "output_type": "display_data"
    }
   ],
   "source": [
    "# Para memória\n",
    "model = smf.glm(formula='memoria ~ coordenacao + atencao + percepcao + raciocinio + minas + safe_sleep', data=df_full, family=sm.api.families.Gamma(link=sm.api.families.links.Log()))\n",
    "results = model.fit()\n",
    "print(results.summary())\n",
    "\n",
    "fig = plot_partregress_grid(results)\n",
    "y_pred = model.predict(results.params)\n",
    "y_true = df_full['percepcao'].values\n",
    "\n",
    "fig = go.Figure()\n",
    "fig.add_trace(go.Scatter(x=y_true, y=y_pred, mode='markers'))\n",
    "fig.add_trace(go.Scatter(x=y_true, y=y_true, mode='lines'))\n",
    "fig.update_layout(title='Memória', xaxis_title='Real', yaxis_title='Predito')\n",
    "fig.show()\n"
   ]
  },
  {
   "cell_type": "code",
   "execution_count": null,
   "metadata": {},
   "outputs": [
    {
     "name": "stdout",
     "output_type": "stream",
     "text": [
      "                 Generalized Linear Model Regression Results                  \n",
      "==============================================================================\n",
      "Dep. Variable:             raciocinio   No. Observations:                   28\n",
      "Model:                            GLM   Df Residuals:                       21\n",
      "Model Family:                   Gamma   Df Model:                            6\n",
      "Link Function:                    Log   Scale:                         0.37493\n",
      "Method:                          IRLS   Log-Likelihood:                -117.98\n",
      "Date:                Mon, 26 Jun 2023   Deviance:                       28.648\n",
      "Time:                        11:07:52   Pearson chi2:                     7.87\n",
      "No. Iterations:                    19   Pseudo R-squ. (CS):             0.2302\n",
      "Covariance Type:            nonrobust                                         \n",
      "======================================================================================\n",
      "                         coef    std err          z      P>|z|      [0.025      0.975]\n",
      "--------------------------------------------------------------------------------------\n",
      "Intercept              2.1335      0.394      5.421      0.000       1.362       2.905\n",
      "minas[T.True]         -0.2664      0.354     -0.753      0.451      -0.960       0.427\n",
      "safe_sleep[T.True]    -0.0281      0.321     -0.087      0.930      -0.658       0.602\n",
      "coordenacao            0.0123      0.009      1.331      0.183      -0.006       0.030\n",
      "memoria                0.0045      0.010      0.448      0.654      -0.015       0.024\n",
      "atencao               -0.0081      0.010     -0.818      0.413      -0.028       0.011\n",
      "percepcao              0.0114      0.006      1.951      0.051   -5.38e-05       0.023\n",
      "======================================================================================\n"
     ]
    },
    {
     "data": {
      "application/vnd.plotly.v1+json": {
       "config": {
        "plotlyServerURL": "https://plot.ly"
       },
       "data": [
        {
         "mode": "markers",
         "type": "scatter",
         "x": [
          15,
          4,
          0.0001,
          11,
          26,
          27,
          29,
          34,
          30,
          7,
          18,
          19,
          29,
          26,
          35,
          21,
          18,
          23,
          20,
          22,
          5,
          5,
          9,
          22,
          16,
          5,
          28,
          31
         ],
         "y": [
          10.920326261048539,
          10.351522402538356,
          9.851315669651433,
          17.723754802201924,
          18.928890013661814,
          15.659372316235688,
          30.821982471937567,
          23.117142548216865,
          20.080711223351,
          20.26349819527324,
          29.521504813573063,
          33.49891758710698,
          32.4033955918305,
          19.184770667272243,
          21.20610769047021,
          30.37181261150653,
          16.318083671747893,
          14.161058204217486,
          14.693527715792767,
          18.361683340984722,
          8.711663214542511,
          19.702058064434805,
          11.922880573550522,
          20.152108223335738,
          28.779482661053862,
          13.484275104803054,
          20.46154909437776,
          13.805323148648197
         ]
        },
        {
         "mode": "lines",
         "type": "scatter",
         "x": [
          15,
          4,
          0.0001,
          11,
          26,
          27,
          29,
          34,
          30,
          7,
          18,
          19,
          29,
          26,
          35,
          21,
          18,
          23,
          20,
          22,
          5,
          5,
          9,
          22,
          16,
          5,
          28,
          31
         ],
         "y": [
          15,
          4,
          0.0001,
          11,
          26,
          27,
          29,
          34,
          30,
          7,
          18,
          19,
          29,
          26,
          35,
          21,
          18,
          23,
          20,
          22,
          5,
          5,
          9,
          22,
          16,
          5,
          28,
          31
         ]
        }
       ],
       "layout": {
        "template": {
         "data": {
          "bar": [
           {
            "error_x": {
             "color": "#2a3f5f"
            },
            "error_y": {
             "color": "#2a3f5f"
            },
            "marker": {
             "line": {
              "color": "#E5ECF6",
              "width": 0.5
             },
             "pattern": {
              "fillmode": "overlay",
              "size": 10,
              "solidity": 0.2
             }
            },
            "type": "bar"
           }
          ],
          "barpolar": [
           {
            "marker": {
             "line": {
              "color": "#E5ECF6",
              "width": 0.5
             },
             "pattern": {
              "fillmode": "overlay",
              "size": 10,
              "solidity": 0.2
             }
            },
            "type": "barpolar"
           }
          ],
          "carpet": [
           {
            "aaxis": {
             "endlinecolor": "#2a3f5f",
             "gridcolor": "white",
             "linecolor": "white",
             "minorgridcolor": "white",
             "startlinecolor": "#2a3f5f"
            },
            "baxis": {
             "endlinecolor": "#2a3f5f",
             "gridcolor": "white",
             "linecolor": "white",
             "minorgridcolor": "white",
             "startlinecolor": "#2a3f5f"
            },
            "type": "carpet"
           }
          ],
          "choropleth": [
           {
            "colorbar": {
             "outlinewidth": 0,
             "ticks": ""
            },
            "type": "choropleth"
           }
          ],
          "contour": [
           {
            "colorbar": {
             "outlinewidth": 0,
             "ticks": ""
            },
            "colorscale": [
             [
              0,
              "#0d0887"
             ],
             [
              0.1111111111111111,
              "#46039f"
             ],
             [
              0.2222222222222222,
              "#7201a8"
             ],
             [
              0.3333333333333333,
              "#9c179e"
             ],
             [
              0.4444444444444444,
              "#bd3786"
             ],
             [
              0.5555555555555556,
              "#d8576b"
             ],
             [
              0.6666666666666666,
              "#ed7953"
             ],
             [
              0.7777777777777778,
              "#fb9f3a"
             ],
             [
              0.8888888888888888,
              "#fdca26"
             ],
             [
              1,
              "#f0f921"
             ]
            ],
            "type": "contour"
           }
          ],
          "contourcarpet": [
           {
            "colorbar": {
             "outlinewidth": 0,
             "ticks": ""
            },
            "type": "contourcarpet"
           }
          ],
          "heatmap": [
           {
            "colorbar": {
             "outlinewidth": 0,
             "ticks": ""
            },
            "colorscale": [
             [
              0,
              "#0d0887"
             ],
             [
              0.1111111111111111,
              "#46039f"
             ],
             [
              0.2222222222222222,
              "#7201a8"
             ],
             [
              0.3333333333333333,
              "#9c179e"
             ],
             [
              0.4444444444444444,
              "#bd3786"
             ],
             [
              0.5555555555555556,
              "#d8576b"
             ],
             [
              0.6666666666666666,
              "#ed7953"
             ],
             [
              0.7777777777777778,
              "#fb9f3a"
             ],
             [
              0.8888888888888888,
              "#fdca26"
             ],
             [
              1,
              "#f0f921"
             ]
            ],
            "type": "heatmap"
           }
          ],
          "heatmapgl": [
           {
            "colorbar": {
             "outlinewidth": 0,
             "ticks": ""
            },
            "colorscale": [
             [
              0,
              "#0d0887"
             ],
             [
              0.1111111111111111,
              "#46039f"
             ],
             [
              0.2222222222222222,
              "#7201a8"
             ],
             [
              0.3333333333333333,
              "#9c179e"
             ],
             [
              0.4444444444444444,
              "#bd3786"
             ],
             [
              0.5555555555555556,
              "#d8576b"
             ],
             [
              0.6666666666666666,
              "#ed7953"
             ],
             [
              0.7777777777777778,
              "#fb9f3a"
             ],
             [
              0.8888888888888888,
              "#fdca26"
             ],
             [
              1,
              "#f0f921"
             ]
            ],
            "type": "heatmapgl"
           }
          ],
          "histogram": [
           {
            "marker": {
             "pattern": {
              "fillmode": "overlay",
              "size": 10,
              "solidity": 0.2
             }
            },
            "type": "histogram"
           }
          ],
          "histogram2d": [
           {
            "colorbar": {
             "outlinewidth": 0,
             "ticks": ""
            },
            "colorscale": [
             [
              0,
              "#0d0887"
             ],
             [
              0.1111111111111111,
              "#46039f"
             ],
             [
              0.2222222222222222,
              "#7201a8"
             ],
             [
              0.3333333333333333,
              "#9c179e"
             ],
             [
              0.4444444444444444,
              "#bd3786"
             ],
             [
              0.5555555555555556,
              "#d8576b"
             ],
             [
              0.6666666666666666,
              "#ed7953"
             ],
             [
              0.7777777777777778,
              "#fb9f3a"
             ],
             [
              0.8888888888888888,
              "#fdca26"
             ],
             [
              1,
              "#f0f921"
             ]
            ],
            "type": "histogram2d"
           }
          ],
          "histogram2dcontour": [
           {
            "colorbar": {
             "outlinewidth": 0,
             "ticks": ""
            },
            "colorscale": [
             [
              0,
              "#0d0887"
             ],
             [
              0.1111111111111111,
              "#46039f"
             ],
             [
              0.2222222222222222,
              "#7201a8"
             ],
             [
              0.3333333333333333,
              "#9c179e"
             ],
             [
              0.4444444444444444,
              "#bd3786"
             ],
             [
              0.5555555555555556,
              "#d8576b"
             ],
             [
              0.6666666666666666,
              "#ed7953"
             ],
             [
              0.7777777777777778,
              "#fb9f3a"
             ],
             [
              0.8888888888888888,
              "#fdca26"
             ],
             [
              1,
              "#f0f921"
             ]
            ],
            "type": "histogram2dcontour"
           }
          ],
          "mesh3d": [
           {
            "colorbar": {
             "outlinewidth": 0,
             "ticks": ""
            },
            "type": "mesh3d"
           }
          ],
          "parcoords": [
           {
            "line": {
             "colorbar": {
              "outlinewidth": 0,
              "ticks": ""
             }
            },
            "type": "parcoords"
           }
          ],
          "pie": [
           {
            "automargin": true,
            "type": "pie"
           }
          ],
          "scatter": [
           {
            "fillpattern": {
             "fillmode": "overlay",
             "size": 10,
             "solidity": 0.2
            },
            "type": "scatter"
           }
          ],
          "scatter3d": [
           {
            "line": {
             "colorbar": {
              "outlinewidth": 0,
              "ticks": ""
             }
            },
            "marker": {
             "colorbar": {
              "outlinewidth": 0,
              "ticks": ""
             }
            },
            "type": "scatter3d"
           }
          ],
          "scattercarpet": [
           {
            "marker": {
             "colorbar": {
              "outlinewidth": 0,
              "ticks": ""
             }
            },
            "type": "scattercarpet"
           }
          ],
          "scattergeo": [
           {
            "marker": {
             "colorbar": {
              "outlinewidth": 0,
              "ticks": ""
             }
            },
            "type": "scattergeo"
           }
          ],
          "scattergl": [
           {
            "marker": {
             "colorbar": {
              "outlinewidth": 0,
              "ticks": ""
             }
            },
            "type": "scattergl"
           }
          ],
          "scattermapbox": [
           {
            "marker": {
             "colorbar": {
              "outlinewidth": 0,
              "ticks": ""
             }
            },
            "type": "scattermapbox"
           }
          ],
          "scatterpolar": [
           {
            "marker": {
             "colorbar": {
              "outlinewidth": 0,
              "ticks": ""
             }
            },
            "type": "scatterpolar"
           }
          ],
          "scatterpolargl": [
           {
            "marker": {
             "colorbar": {
              "outlinewidth": 0,
              "ticks": ""
             }
            },
            "type": "scatterpolargl"
           }
          ],
          "scatterternary": [
           {
            "marker": {
             "colorbar": {
              "outlinewidth": 0,
              "ticks": ""
             }
            },
            "type": "scatterternary"
           }
          ],
          "surface": [
           {
            "colorbar": {
             "outlinewidth": 0,
             "ticks": ""
            },
            "colorscale": [
             [
              0,
              "#0d0887"
             ],
             [
              0.1111111111111111,
              "#46039f"
             ],
             [
              0.2222222222222222,
              "#7201a8"
             ],
             [
              0.3333333333333333,
              "#9c179e"
             ],
             [
              0.4444444444444444,
              "#bd3786"
             ],
             [
              0.5555555555555556,
              "#d8576b"
             ],
             [
              0.6666666666666666,
              "#ed7953"
             ],
             [
              0.7777777777777778,
              "#fb9f3a"
             ],
             [
              0.8888888888888888,
              "#fdca26"
             ],
             [
              1,
              "#f0f921"
             ]
            ],
            "type": "surface"
           }
          ],
          "table": [
           {
            "cells": {
             "fill": {
              "color": "#EBF0F8"
             },
             "line": {
              "color": "white"
             }
            },
            "header": {
             "fill": {
              "color": "#C8D4E3"
             },
             "line": {
              "color": "white"
             }
            },
            "type": "table"
           }
          ]
         },
         "layout": {
          "annotationdefaults": {
           "arrowcolor": "#2a3f5f",
           "arrowhead": 0,
           "arrowwidth": 1
          },
          "autotypenumbers": "strict",
          "coloraxis": {
           "colorbar": {
            "outlinewidth": 0,
            "ticks": ""
           }
          },
          "colorscale": {
           "diverging": [
            [
             0,
             "#8e0152"
            ],
            [
             0.1,
             "#c51b7d"
            ],
            [
             0.2,
             "#de77ae"
            ],
            [
             0.3,
             "#f1b6da"
            ],
            [
             0.4,
             "#fde0ef"
            ],
            [
             0.5,
             "#f7f7f7"
            ],
            [
             0.6,
             "#e6f5d0"
            ],
            [
             0.7,
             "#b8e186"
            ],
            [
             0.8,
             "#7fbc41"
            ],
            [
             0.9,
             "#4d9221"
            ],
            [
             1,
             "#276419"
            ]
           ],
           "sequential": [
            [
             0,
             "#0d0887"
            ],
            [
             0.1111111111111111,
             "#46039f"
            ],
            [
             0.2222222222222222,
             "#7201a8"
            ],
            [
             0.3333333333333333,
             "#9c179e"
            ],
            [
             0.4444444444444444,
             "#bd3786"
            ],
            [
             0.5555555555555556,
             "#d8576b"
            ],
            [
             0.6666666666666666,
             "#ed7953"
            ],
            [
             0.7777777777777778,
             "#fb9f3a"
            ],
            [
             0.8888888888888888,
             "#fdca26"
            ],
            [
             1,
             "#f0f921"
            ]
           ],
           "sequentialminus": [
            [
             0,
             "#0d0887"
            ],
            [
             0.1111111111111111,
             "#46039f"
            ],
            [
             0.2222222222222222,
             "#7201a8"
            ],
            [
             0.3333333333333333,
             "#9c179e"
            ],
            [
             0.4444444444444444,
             "#bd3786"
            ],
            [
             0.5555555555555556,
             "#d8576b"
            ],
            [
             0.6666666666666666,
             "#ed7953"
            ],
            [
             0.7777777777777778,
             "#fb9f3a"
            ],
            [
             0.8888888888888888,
             "#fdca26"
            ],
            [
             1,
             "#f0f921"
            ]
           ]
          },
          "colorway": [
           "#636efa",
           "#EF553B",
           "#00cc96",
           "#ab63fa",
           "#FFA15A",
           "#19d3f3",
           "#FF6692",
           "#B6E880",
           "#FF97FF",
           "#FECB52"
          ],
          "font": {
           "color": "#2a3f5f"
          },
          "geo": {
           "bgcolor": "white",
           "lakecolor": "white",
           "landcolor": "#E5ECF6",
           "showlakes": true,
           "showland": true,
           "subunitcolor": "white"
          },
          "hoverlabel": {
           "align": "left"
          },
          "hovermode": "closest",
          "mapbox": {
           "style": "light"
          },
          "paper_bgcolor": "white",
          "plot_bgcolor": "#E5ECF6",
          "polar": {
           "angularaxis": {
            "gridcolor": "white",
            "linecolor": "white",
            "ticks": ""
           },
           "bgcolor": "#E5ECF6",
           "radialaxis": {
            "gridcolor": "white",
            "linecolor": "white",
            "ticks": ""
           }
          },
          "scene": {
           "xaxis": {
            "backgroundcolor": "#E5ECF6",
            "gridcolor": "white",
            "gridwidth": 2,
            "linecolor": "white",
            "showbackground": true,
            "ticks": "",
            "zerolinecolor": "white"
           },
           "yaxis": {
            "backgroundcolor": "#E5ECF6",
            "gridcolor": "white",
            "gridwidth": 2,
            "linecolor": "white",
            "showbackground": true,
            "ticks": "",
            "zerolinecolor": "white"
           },
           "zaxis": {
            "backgroundcolor": "#E5ECF6",
            "gridcolor": "white",
            "gridwidth": 2,
            "linecolor": "white",
            "showbackground": true,
            "ticks": "",
            "zerolinecolor": "white"
           }
          },
          "shapedefaults": {
           "line": {
            "color": "#2a3f5f"
           }
          },
          "ternary": {
           "aaxis": {
            "gridcolor": "white",
            "linecolor": "white",
            "ticks": ""
           },
           "baxis": {
            "gridcolor": "white",
            "linecolor": "white",
            "ticks": ""
           },
           "bgcolor": "#E5ECF6",
           "caxis": {
            "gridcolor": "white",
            "linecolor": "white",
            "ticks": ""
           }
          },
          "title": {
           "x": 0.05
          },
          "xaxis": {
           "automargin": true,
           "gridcolor": "white",
           "linecolor": "white",
           "ticks": "",
           "title": {
            "standoff": 15
           },
           "zerolinecolor": "white",
           "zerolinewidth": 2
          },
          "yaxis": {
           "automargin": true,
           "gridcolor": "white",
           "linecolor": "white",
           "ticks": "",
           "title": {
            "standoff": 15
           },
           "zerolinecolor": "white",
           "zerolinewidth": 2
          }
         }
        },
        "title": {
         "text": "Raciocínio"
        },
        "xaxis": {
         "title": {
          "text": "Real"
         }
        },
        "yaxis": {
         "title": {
          "text": "Predito"
         }
        }
       }
      }
     },
     "metadata": {},
     "output_type": "display_data"
    },
    {
     "data": {
      "image/png": "[encoded data removed]",
      "text/plain": [
       "<Figure size 640x480 with 7 Axes>"
      ]
     },
     "metadata": {},
     "output_type": "display_data"
    }
   ],
   "source": [
    "# Para raciocínio\n",
    "df_full['raciocinio'] = df_full['raciocinio'].apply(lambda x: x if x > 0 else 0.0001)\n",
    "model = smf.glm(formula='raciocinio ~ coordenacao + memoria + atencao + percepcao + minas + safe_sleep', data=df_full, family=sm.api.families.Gamma(link=sm.api.families.links.Log()))\n",
    "results = model.fit()\n",
    "print(results.summary())\n",
    "\n",
    "fig = plot_partregress_grid(results)\n",
    "\n",
    "y_pred = model.predict(results.params)\n",
    "\n",
    "y_true = df_full['raciocinio'].values\n",
    "\n",
    "fig = go.Figure()\n",
    "fig.add_trace(go.Scatter(x=y_true, y=y_pred, mode='markers'))\n",
    "fig.add_trace(go.Scatter(x=y_true, y=y_true, mode='lines'))\n",
    "fig.update_layout(title='Raciocínio', xaxis_title='Real', yaxis_title='Predito')\n",
    "fig.show()"
   ]
  },
  {
   "cell_type": "code",
   "execution_count": null,
   "metadata": {},
   "outputs": [
    {
     "name": "stdout",
     "output_type": "stream",
     "text": [
      "28.6478845888068\n"
     ]
    }
   ],
   "source": [
    "print(results.deviance)"
   ]
  },
  {
   "cell_type": "code",
   "execution_count": null,
   "metadata": {},
   "outputs": [
    {
     "name": "stdout",
     "output_type": "stream",
     "text": [
      "Atenção : rafafa@maildrop.cc\n",
      "Coordenação : laguardia42@maildrop.cc\n",
      "Memória : falqueto@maildrop.cc\n",
      "Percepção : jotta@maildrop.cc\n",
      "Raciocínio : falqueto@maildrop.cc\n"
     ]
    }
   ],
   "source": [
    "# get the email of the user with the best score for each game\n",
    "\n",
    "for game in GAMES:\n",
    "    df_game = df[df[game] == df[game].max()]\n",
    "    print(game, \": \", end='')\n",
    "    print(df_game['email'].values[0])"
   ]
  },
  {
   "cell_type": "code",
   "execution_count": 62,
   "metadata": {},
   "outputs": [
    {
     "data": {
      "text/plain": [
       "2.962799167533819"
      ]
     },
     "execution_count": 62,
     "metadata": {},
     "output_type": "execute_result"
    }
   ],
   "source": [
    "df.drop(df[df['idade'] < 10].index, inplace=True)\n",
    "df.drop(df[df['idade'] > 50].index, inplace=True)\n",
    "np.var(df['idade'])"
   ]
  },
  {
   "cell_type": "code",
   "execution_count": 63,
   "metadata": {},
   "outputs": [
    {
     "data": {
      "text/plain": [
       "0.6612903225806451"
      ]
     },
     "execution_count": 63,
     "metadata": {},
     "output_type": "execute_result"
    }
   ],
   "source": [
    "df['fgv'].mean()"
   ]
  }
 ],
 "metadata": {
  "kernelspec": {
   "display_name": "Python 3",
   "language": "python",
   "name": "python3"
  },
  "language_info": {
   "codemirror_mode": {
    "name": "ipython",
    "version": 3
   },
   "file_extension": ".py",
   "mimetype": "text/x-python",
   "name": "python",
   "nbconvert_exporter": "python",
   "pygments_lexer": "ipython3",
   "version": "3.11.1"
  },
  "orig_nbformat": 4
 },
 "nbformat": 4,
 "nbformat_minor": 2
}
